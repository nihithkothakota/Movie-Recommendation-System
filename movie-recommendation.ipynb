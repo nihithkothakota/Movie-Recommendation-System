{
 "cells": [
  {
   "cell_type": "markdown",
   "id": "86e3568e",
   "metadata": {
    "id": "Cf3GloRNvOOG",
    "papermill": {
     "duration": 0.035079,
     "end_time": "2022-09-06T05:49:22.172452",
     "exception": false,
     "start_time": "2022-09-06T05:49:22.137373",
     "status": "completed"
    },
    "tags": []
   },
   "source": [
    "# **Project - Recommendation Systems: Movie Recommendations**\n",
    "\n",
    "## **Marks: 40**\n",
    "---------------\n",
    "## **Context**\n",
    "---------------\n",
    "\n",
    "Online streaming platforms like Netflix have plenty of movies in their repositories and if we can build a recommendation system to recommend relevant movies to users based on their historical interactions, this would improve customer satisfaction and hence improve revenue. The techniques that we will learn here will not only be limited to movies, it can be any item for which you want to build a recommendation system. For this case study, you can find the dataset [here](https://www.kaggle.com/rounakbanik/the-movies-dataset).\n",
    "\n",
    "-----------------\n",
    "## **Objective**\n",
    "-----------------\n",
    "\n",
    "In this project we will be building various recommendation systems: \n",
    "- Knowledge/Rank based recommendation system\n",
    "- Similarity-Based Collaborative filtering\n",
    "- Matrix Factorization Based Collaborative Filtering\n",
    "\n",
    "based on the **ratings** dataset\n",
    "\n",
    "-----------------\n",
    "## **Dataset**\n",
    "-----------------\n",
    "\n",
    "The **ratings** dataset contains the following attributes: \n",
    "- userId\n",
    "- movieId\n",
    "- rating\n",
    "- timestamp"
   ]
  },
  {
   "cell_type": "markdown",
   "id": "43d04104",
   "metadata": {
    "id": "9hczXgBkvOOG",
    "papermill": {
     "duration": 0.032358,
     "end_time": "2022-09-06T05:49:22.238649",
     "exception": false,
     "start_time": "2022-09-06T05:49:22.206291",
     "status": "completed"
    },
    "tags": []
   },
   "source": [
    "### **Importing Libraries**"
   ]
  },
  {
   "cell_type": "code",
   "execution_count": 1,
   "id": "b3987447",
   "metadata": {
    "execution": {
     "iopub.execute_input": "2022-09-06T05:49:22.306533Z",
     "iopub.status.busy": "2022-09-06T05:49:22.305720Z",
     "iopub.status.idle": "2022-09-06T05:49:23.650160Z",
     "shell.execute_reply": "2022-09-06T05:49:23.648955Z"
    },
    "id": "Gem2ozi_vOOG",
    "papermill": {
     "duration": 1.381859,
     "end_time": "2022-09-06T05:49:23.653193",
     "exception": false,
     "start_time": "2022-09-06T05:49:22.271334",
     "status": "completed"
    },
    "tags": []
   },
   "outputs": [],
   "source": [
    "import warnings\n",
    "warnings.filterwarnings('ignore')\n",
    "\n",
    "import numpy as np\n",
    "import pandas as pd\n",
    "\n",
    "import matplotlib.pyplot as plt\n",
    "import seaborn as sns\n",
    "\n",
    "\n",
    "from surprise import accuracy\n",
    "\n",
    "# class is used to parse a file containing ratings, data should be in structure - user ; item ; rating\n",
    "from surprise.reader import Reader\n",
    "\n",
    "# class for loading datasets\n",
    "from surprise.dataset import Dataset\n",
    "\n",
    "# for model tuning model hyper-parameters\n",
    "from surprise.model_selection import GridSearchCV\n",
    "\n",
    "# for splitting the rating data in train and test dataset\n",
    "from surprise.model_selection import train_test_split\n",
    "\n",
    "# for implementing similarity based recommendation system\n",
    "from surprise.prediction_algorithms.knns import KNNBasic\n",
    "\n",
    "# for implementing matrix factorization based recommendation system\n",
    "from surprise.prediction_algorithms.matrix_factorization import SVD\n",
    "\n",
    "from collections import defaultdict\n",
    "\n",
    "# for implementing cross validation\n",
    "from surprise.model_selection import KFold"
   ]
  },
  {
   "cell_type": "markdown",
   "id": "1b357b8d",
   "metadata": {
    "papermill": {
     "duration": 0.03303,
     "end_time": "2022-09-06T05:49:23.720583",
     "exception": false,
     "start_time": "2022-09-06T05:49:23.687553",
     "status": "completed"
    },
    "tags": []
   },
   "source": [
    "## Before I started, kaggle's jypiter memory limation will crash the code, i added a reduce memory code from [here](https://www.kaggle.com/code/chocozzz/how-to-save-time-and-memory-with-big-datasets/notebook)"
   ]
  },
  {
   "cell_type": "code",
   "execution_count": 2,
   "id": "551ce277",
   "metadata": {
    "execution": {
     "iopub.execute_input": "2022-09-06T05:49:23.788122Z",
     "iopub.status.busy": "2022-09-06T05:49:23.787688Z",
     "iopub.status.idle": "2022-09-06T05:49:23.803077Z",
     "shell.execute_reply": "2022-09-06T05:49:23.802127Z"
    },
    "papermill": {
     "duration": 0.052102,
     "end_time": "2022-09-06T05:49:23.805368",
     "exception": false,
     "start_time": "2022-09-06T05:49:23.753266",
     "status": "completed"
    },
    "tags": []
   },
   "outputs": [],
   "source": [
    "def reduce_mem_usage(df, verbose=True):\n",
    "    numerics = ['int16', 'int32', 'int64', 'float16', 'float32', 'float64']\n",
    "    start_mem = df.memory_usage().sum() / 1024**2\n",
    "    for col in df.columns:\n",
    "        col_type = df[col].dtypes\n",
    "        if col_type in numerics:\n",
    "            c_min = df[col].min()\n",
    "            c_max = df[col].max()\n",
    "            if str(col_type)[:3] == 'int':\n",
    "                if c_min > np.iinfo(np.int8).min and c_max < np.iinfo(np.int8).max:\n",
    "                    df[col] = df[col].astype(np.int8)\n",
    "                elif c_min > np.iinfo(np.int16).min and c_max < np.iinfo(np.int16).max:\n",
    "                    df[col] = df[col].astype(np.int16)\n",
    "                elif c_min > np.iinfo(np.int32).min and c_max < np.iinfo(np.int32).max:\n",
    "                    df[col] = df[col].astype(np.int32)\n",
    "                elif c_min > np.iinfo(np.int64).min and c_max < np.iinfo(np.int64).max:\n",
    "                    df[col] = df[col].astype(np.int64)\n",
    "            else:\n",
    "                if c_min > np.finfo(np.float16).min and c_max < np.finfo(np.float16).max:\n",
    "                    df[col] = df[col].astype(np.float16)\n",
    "                elif c_min > np.finfo(np.float32).min and c_max < np.finfo(np.float32).max:\n",
    "                    df[col] = df[col].astype(np.float32)\n",
    "                else:\n",
    "                    df[col] = df[col].astype(np.float64)\n",
    "\n",
    "    end_mem = df.memory_usage().sum() / 1024**2\n",
    "    print('Memory usage after optimization is: {:.2f} MB'.format(end_mem))\n",
    "    print('Decreased by {:.1f}%'.format(100 * (start_mem - end_mem) / start_mem))\n",
    "\n",
    "    return df"
   ]
  },
  {
   "cell_type": "markdown",
   "id": "14e9f183",
   "metadata": {
    "id": "ewHMWerQ2N9T",
    "papermill": {
     "duration": 0.032404,
     "end_time": "2022-09-06T05:49:23.871042",
     "exception": false,
     "start_time": "2022-09-06T05:49:23.838638",
     "status": "completed"
    },
    "tags": []
   },
   "source": [
    "### **Loading the data**"
   ]
  },
  {
   "cell_type": "code",
   "execution_count": 3,
   "id": "b771ee05",
   "metadata": {
    "execution": {
     "iopub.execute_input": "2022-09-06T05:49:23.939361Z",
     "iopub.status.busy": "2022-09-06T05:49:23.938361Z",
     "iopub.status.idle": "2022-09-06T05:49:42.492945Z",
     "shell.execute_reply": "2022-09-06T05:49:42.490640Z"
    },
    "id": "EdQIx3OLvOOG",
    "papermill": {
     "duration": 18.591878,
     "end_time": "2022-09-06T05:49:42.495427",
     "exception": false,
     "start_time": "2022-09-06T05:49:23.903549",
     "status": "completed"
    },
    "tags": []
   },
   "outputs": [
    {
     "name": "stdout",
     "output_type": "stream",
     "text": [
      "Memory usage after optimization is: 347.46 MB\n",
      "Decreased by 56.2%\n"
     ]
    }
   ],
   "source": [
    "rating = pd.read_csv('../input/the-movies-dataset/ratings.csv')\n",
    "rating = reduce_mem_usage(rating)\n",
    "\n",
    "# unfortunetely, reduce mem usage is still large for kaggle, for this example, I will change the rating to rating_small\n",
    "rating = pd.read_csv('../input/the-movies-dataset/ratings_small.csv')"
   ]
  },
  {
   "cell_type": "markdown",
   "id": "e92402d0",
   "metadata": {
    "id": "WAW3gTmB2N9a",
    "papermill": {
     "duration": 0.032561,
     "end_time": "2022-09-06T05:49:42.560753",
     "exception": false,
     "start_time": "2022-09-06T05:49:42.528192",
     "status": "completed"
    },
    "tags": []
   },
   "source": [
    "Let's check the **info** of the data"
   ]
  },
  {
   "cell_type": "code",
   "execution_count": 4,
   "id": "3066db1f",
   "metadata": {
    "execution": {
     "iopub.execute_input": "2022-09-06T05:49:42.629429Z",
     "iopub.status.busy": "2022-09-06T05:49:42.628467Z",
     "iopub.status.idle": "2022-09-06T05:49:42.650147Z",
     "shell.execute_reply": "2022-09-06T05:49:42.649179Z"
    },
    "id": "8zF1K1hDvOOG",
    "outputId": "dca3e5b4-47b5-4d4e-f2da-c99cd7b72d19",
    "papermill": {
     "duration": 0.059293,
     "end_time": "2022-09-06T05:49:42.652610",
     "exception": false,
     "start_time": "2022-09-06T05:49:42.593317",
     "status": "completed"
    },
    "tags": []
   },
   "outputs": [
    {
     "name": "stdout",
     "output_type": "stream",
     "text": [
      "<class 'pandas.core.frame.DataFrame'>\n",
      "RangeIndex: 100004 entries, 0 to 100003\n",
      "Data columns (total 4 columns):\n",
      " #   Column     Non-Null Count   Dtype  \n",
      "---  ------     --------------   -----  \n",
      " 0   userId     100004 non-null  int64  \n",
      " 1   movieId    100004 non-null  int64  \n",
      " 2   rating     100004 non-null  float64\n",
      " 3   timestamp  100004 non-null  int64  \n",
      "dtypes: float64(1), int64(3)\n",
      "memory usage: 3.1 MB\n"
     ]
    }
   ],
   "source": [
    "rating.info()"
   ]
  },
  {
   "cell_type": "markdown",
   "id": "d1bf0937",
   "metadata": {
    "id": "202Ux9MH2N9f",
    "papermill": {
     "duration": 0.032735,
     "end_time": "2022-09-06T05:49:42.718525",
     "exception": false,
     "start_time": "2022-09-06T05:49:42.685790",
     "status": "completed"
    },
    "tags": []
   },
   "source": [
    "- There are **26024289 observations** and **4 columns** in the data\n",
    "- All the columns are of **numeric data type**\n",
    "- The data type of the timestamp column is int64 which is not correct. We can convert this to DateTime format but **we don't need timestamp for our analysis**. Hence, **we can drop this column**"
   ]
  },
  {
   "cell_type": "code",
   "execution_count": 5,
   "id": "64eccfd4",
   "metadata": {
    "execution": {
     "iopub.execute_input": "2022-09-06T05:49:42.786933Z",
     "iopub.status.busy": "2022-09-06T05:49:42.786476Z",
     "iopub.status.idle": "2022-09-06T05:49:42.795233Z",
     "shell.execute_reply": "2022-09-06T05:49:42.793936Z"
    },
    "id": "fltadjTcvOOH",
    "papermill": {
     "duration": 0.046708,
     "end_time": "2022-09-06T05:49:42.797999",
     "exception": false,
     "start_time": "2022-09-06T05:49:42.751291",
     "status": "completed"
    },
    "tags": []
   },
   "outputs": [],
   "source": [
    "#Dropping timestamp column\n",
    "rating = rating.drop(['timestamp'], axis=1)"
   ]
  },
  {
   "cell_type": "markdown",
   "id": "33508e74",
   "metadata": {
    "id": "mHOFHmoBwIAw",
    "papermill": {
     "duration": 0.033444,
     "end_time": "2022-09-06T05:49:42.865207",
     "exception": false,
     "start_time": "2022-09-06T05:49:42.831763",
     "status": "completed"
    },
    "tags": []
   },
   "source": [
    "### Exploring the dataset  \n",
    "\n",
    "#### Print the top 5 rows of the dataset and describe the dataset."
   ]
  },
  {
   "cell_type": "code",
   "execution_count": 6,
   "id": "2b7ae3c4",
   "metadata": {
    "execution": {
     "iopub.execute_input": "2022-09-06T05:49:42.933890Z",
     "iopub.status.busy": "2022-09-06T05:49:42.933202Z",
     "iopub.status.idle": "2022-09-06T05:49:42.948964Z",
     "shell.execute_reply": "2022-09-06T05:49:42.948170Z"
    },
    "id": "1Q6gs-IO2N9i",
    "outputId": "e35c54f1-2554-4eb0-b555-1a5ea19d8729",
    "papermill": {
     "duration": 0.05231,
     "end_time": "2022-09-06T05:49:42.951073",
     "exception": false,
     "start_time": "2022-09-06T05:49:42.898763",
     "status": "completed"
    },
    "tags": []
   },
   "outputs": [
    {
     "data": {
      "text/html": [
       "<div>\n",
       "<style scoped>\n",
       "    .dataframe tbody tr th:only-of-type {\n",
       "        vertical-align: middle;\n",
       "    }\n",
       "\n",
       "    .dataframe tbody tr th {\n",
       "        vertical-align: top;\n",
       "    }\n",
       "\n",
       "    .dataframe thead th {\n",
       "        text-align: right;\n",
       "    }\n",
       "</style>\n",
       "<table border=\"1\" class=\"dataframe\">\n",
       "  <thead>\n",
       "    <tr style=\"text-align: right;\">\n",
       "      <th></th>\n",
       "      <th>userId</th>\n",
       "      <th>movieId</th>\n",
       "      <th>rating</th>\n",
       "    </tr>\n",
       "  </thead>\n",
       "  <tbody>\n",
       "    <tr>\n",
       "      <th>0</th>\n",
       "      <td>1</td>\n",
       "      <td>31</td>\n",
       "      <td>2.5</td>\n",
       "    </tr>\n",
       "    <tr>\n",
       "      <th>1</th>\n",
       "      <td>1</td>\n",
       "      <td>1029</td>\n",
       "      <td>3.0</td>\n",
       "    </tr>\n",
       "    <tr>\n",
       "      <th>2</th>\n",
       "      <td>1</td>\n",
       "      <td>1061</td>\n",
       "      <td>3.0</td>\n",
       "    </tr>\n",
       "    <tr>\n",
       "      <th>3</th>\n",
       "      <td>1</td>\n",
       "      <td>1129</td>\n",
       "      <td>2.0</td>\n",
       "    </tr>\n",
       "    <tr>\n",
       "      <th>4</th>\n",
       "      <td>1</td>\n",
       "      <td>1172</td>\n",
       "      <td>4.0</td>\n",
       "    </tr>\n",
       "  </tbody>\n",
       "</table>\n",
       "</div>"
      ],
      "text/plain": [
       "   userId  movieId  rating\n",
       "0       1       31     2.5\n",
       "1       1     1029     3.0\n",
       "2       1     1061     3.0\n",
       "3       1     1129     2.0\n",
       "4       1     1172     4.0"
      ]
     },
     "execution_count": 6,
     "metadata": {},
     "output_type": "execute_result"
    }
   ],
   "source": [
    "rating.head() "
   ]
  },
  {
   "cell_type": "markdown",
   "id": "ed513d42",
   "metadata": {
    "id": "fBZYy0HavOOH",
    "papermill": {
     "duration": 0.032896,
     "end_time": "2022-09-06T05:49:43.017484",
     "exception": false,
     "start_time": "2022-09-06T05:49:42.984588",
     "status": "completed"
    },
    "tags": []
   },
   "source": [
    "#### Describe the distribution of ratings. \n",
    "\n"
   ]
  },
  {
   "cell_type": "code",
   "execution_count": 7,
   "id": "6c760c10",
   "metadata": {
    "execution": {
     "iopub.execute_input": "2022-09-06T05:49:43.086118Z",
     "iopub.status.busy": "2022-09-06T05:49:43.085396Z",
     "iopub.status.idle": "2022-09-06T05:49:43.365293Z",
     "shell.execute_reply": "2022-09-06T05:49:43.364453Z"
    },
    "id": "lO-EYEl3wIA2",
    "outputId": "7a83a79b-90c7-4f1c-ad25-12280dd1a007",
    "papermill": {
     "duration": 0.316679,
     "end_time": "2022-09-06T05:49:43.367441",
     "exception": false,
     "start_time": "2022-09-06T05:49:43.050762",
     "status": "completed"
    },
    "tags": []
   },
   "outputs": [
    {
     "data": {
      "image/png": "[encoded data removed]",
      "text/plain": [
       "<Figure size 864x288 with 1 Axes>"
      ]
     },
     "metadata": {
      "needs_background": "light"
     },
     "output_type": "display_data"
    }
   ],
   "source": [
    "plt.figure(figsize = (12, 4))\n",
    "\n",
    "#remove _______and complete the code\n",
    "sns.countplot(x=\"rating\" ,data=rating)\n",
    "\n",
    "plt.tick_params(labelsize = 10)\n",
    "plt.title(\"Distribution of Ratings \", fontsize = 10)\n",
    "plt.xlabel(\"Ratings\", fontsize = 10)\n",
    "plt.ylabel(\"Number of Ratings\", fontsize = 10)\n",
    "plt.show()"
   ]
  },
  {
   "cell_type": "markdown",
   "id": "822c6bf6",
   "metadata": {
    "id": "vgRDrtHhwIA4",
    "papermill": {
     "duration": 0.033204,
     "end_time": "2022-09-06T05:49:43.434014",
     "exception": false,
     "start_time": "2022-09-06T05:49:43.400810",
     "status": "completed"
    },
    "tags": []
   },
   "source": [
    "**Give us the score each user give for different movie(3 main data - rating, user, movie). Different user is represent by userID, different movie is given their unique id, and the rating is the score user give for each movie. 1.2 give total rating at each score point, which we can see the higest number of score is 4.0 while the least is 0.5.**"
   ]
  },
  {
   "cell_type": "markdown",
   "id": "0769a862",
   "metadata": {
    "id": "UOBD03d9vOOH",
    "papermill": {
     "duration": 0.032907,
     "end_time": "2022-09-06T05:49:43.500052",
     "exception": false,
     "start_time": "2022-09-06T05:49:43.467145",
     "status": "completed"
    },
    "tags": []
   },
   "source": [
    "#### Q 1.3 What is the total number of unique users and unique movies? (1 Mark)\n"
   ]
  },
  {
   "cell_type": "code",
   "execution_count": 8,
   "id": "7182fcd2",
   "metadata": {
    "execution": {
     "iopub.execute_input": "2022-09-06T05:49:43.569336Z",
     "iopub.status.busy": "2022-09-06T05:49:43.568084Z",
     "iopub.status.idle": "2022-09-06T05:49:43.575589Z",
     "shell.execute_reply": "2022-09-06T05:49:43.574808Z"
    },
    "id": "RMpbsZGGvOOH",
    "outputId": "12aa1095-cf02-41aa-c88a-fa20d4f47e76",
    "papermill": {
     "duration": 0.044246,
     "end_time": "2022-09-06T05:49:43.577579",
     "exception": false,
     "start_time": "2022-09-06T05:49:43.533333",
     "status": "completed"
    },
    "tags": []
   },
   "outputs": [
    {
     "data": {
      "text/plain": [
       "671"
      ]
     },
     "execution_count": 8,
     "metadata": {},
     "output_type": "execute_result"
    }
   ],
   "source": [
    "#Finding number of unique users\n",
    "\n",
    "rating['userId'].nunique() \n"
   ]
  },
  {
   "cell_type": "markdown",
   "id": "1ed10446",
   "metadata": {
    "id": "CI8gofnx2N9m",
    "papermill": {
     "duration": 0.033159,
     "end_time": "2022-09-06T05:49:43.643889",
     "exception": false,
     "start_time": "2022-09-06T05:49:43.610730",
     "status": "completed"
    },
    "tags": []
   },
   "source": [
    "**After droping all duplicate, it show there are 671 unique user**"
   ]
  },
  {
   "cell_type": "code",
   "execution_count": 9,
   "id": "e57024ef",
   "metadata": {
    "execution": {
     "iopub.execute_input": "2022-09-06T05:49:43.713352Z",
     "iopub.status.busy": "2022-09-06T05:49:43.712630Z",
     "iopub.status.idle": "2022-09-06T05:49:43.719835Z",
     "shell.execute_reply": "2022-09-06T05:49:43.719010Z"
    },
    "id": "9A6Qmo_6vOOH",
    "outputId": "02daed1d-b717-4bd4-812a-e286e9e22ae3",
    "papermill": {
     "duration": 0.044607,
     "end_time": "2022-09-06T05:49:43.721952",
     "exception": false,
     "start_time": "2022-09-06T05:49:43.677345",
     "status": "completed"
    },
    "tags": []
   },
   "outputs": [
    {
     "data": {
      "text/plain": [
       "9066"
      ]
     },
     "execution_count": 9,
     "metadata": {},
     "output_type": "execute_result"
    }
   ],
   "source": [
    "#Finding number of unique movies\n",
    "\n",
    "rating['movieId'].nunique()\n"
   ]
  },
  {
   "cell_type": "markdown",
   "id": "3a1e056f",
   "metadata": {
    "id": "mDWJghQ62N9o",
    "papermill": {
     "duration": 0.033253,
     "end_time": "2022-09-06T05:49:43.788691",
     "exception": false,
     "start_time": "2022-09-06T05:49:43.755438",
     "status": "completed"
    },
    "tags": []
   },
   "source": [
    "**There are 9066 number of unique movies, which mean there is a possibility of 671 x 9066 = 6083286 rating **"
   ]
  },
  {
   "cell_type": "markdown",
   "id": "0fdbd611",
   "metadata": {
    "id": "mR9tzSzTvOOH",
    "papermill": {
     "duration": 0.033072,
     "end_time": "2022-09-06T05:49:43.855622",
     "exception": false,
     "start_time": "2022-09-06T05:49:43.822550",
     "status": "completed"
    },
    "tags": []
   },
   "source": [
    "#### Is there any movie that has been interacted with more than once by the same user? "
   ]
  },
  {
   "cell_type": "code",
   "execution_count": 10,
   "id": "1bc86874",
   "metadata": {
    "execution": {
     "iopub.execute_input": "2022-09-06T05:49:43.924836Z",
     "iopub.status.busy": "2022-09-06T05:49:43.924108Z",
     "iopub.status.idle": "2022-09-06T05:49:43.962166Z",
     "shell.execute_reply": "2022-09-06T05:49:43.961044Z"
    },
    "id": "xstEDCVfvOOH",
    "outputId": "ebb51af0-1fe4-4bea-8128-31540c8e39c8",
    "papermill": {
     "duration": 0.07542,
     "end_time": "2022-09-06T05:49:43.964792",
     "exception": false,
     "start_time": "2022-09-06T05:49:43.889372",
     "status": "completed"
    },
    "tags": []
   },
   "outputs": [
    {
     "data": {
      "text/html": [
       "<div>\n",
       "<style scoped>\n",
       "    .dataframe tbody tr th:only-of-type {\n",
       "        vertical-align: middle;\n",
       "    }\n",
       "\n",
       "    .dataframe tbody tr th {\n",
       "        vertical-align: top;\n",
       "    }\n",
       "\n",
       "    .dataframe thead th {\n",
       "        text-align: right;\n",
       "    }\n",
       "</style>\n",
       "<table border=\"1\" class=\"dataframe\">\n",
       "  <thead>\n",
       "    <tr style=\"text-align: right;\">\n",
       "      <th></th>\n",
       "      <th></th>\n",
       "      <th>rating</th>\n",
       "    </tr>\n",
       "    <tr>\n",
       "      <th>userId</th>\n",
       "      <th>movieId</th>\n",
       "      <th></th>\n",
       "    </tr>\n",
       "  </thead>\n",
       "  <tbody>\n",
       "    <tr>\n",
       "      <th rowspan=\"5\" valign=\"top\">1</th>\n",
       "      <th>31</th>\n",
       "      <td>1</td>\n",
       "    </tr>\n",
       "    <tr>\n",
       "      <th>1029</th>\n",
       "      <td>1</td>\n",
       "    </tr>\n",
       "    <tr>\n",
       "      <th>1061</th>\n",
       "      <td>1</td>\n",
       "    </tr>\n",
       "    <tr>\n",
       "      <th>1129</th>\n",
       "      <td>1</td>\n",
       "    </tr>\n",
       "    <tr>\n",
       "      <th>1172</th>\n",
       "      <td>1</td>\n",
       "    </tr>\n",
       "    <tr>\n",
       "      <th>...</th>\n",
       "      <th>...</th>\n",
       "      <td>...</td>\n",
       "    </tr>\n",
       "    <tr>\n",
       "      <th rowspan=\"5\" valign=\"top\">671</th>\n",
       "      <th>6268</th>\n",
       "      <td>1</td>\n",
       "    </tr>\n",
       "    <tr>\n",
       "      <th>6269</th>\n",
       "      <td>1</td>\n",
       "    </tr>\n",
       "    <tr>\n",
       "      <th>6365</th>\n",
       "      <td>1</td>\n",
       "    </tr>\n",
       "    <tr>\n",
       "      <th>6385</th>\n",
       "      <td>1</td>\n",
       "    </tr>\n",
       "    <tr>\n",
       "      <th>6565</th>\n",
       "      <td>1</td>\n",
       "    </tr>\n",
       "  </tbody>\n",
       "</table>\n",
       "<p>100004 rows × 1 columns</p>\n",
       "</div>"
      ],
      "text/plain": [
       "                rating\n",
       "userId movieId        \n",
       "1      31            1\n",
       "       1029          1\n",
       "       1061          1\n",
       "       1129          1\n",
       "       1172          1\n",
       "...                ...\n",
       "671    6268          1\n",
       "       6269          1\n",
       "       6365          1\n",
       "       6385          1\n",
       "       6565          1\n",
       "\n",
       "[100004 rows x 1 columns]"
      ]
     },
     "execution_count": 10,
     "metadata": {},
     "output_type": "execute_result"
    }
   ],
   "source": [
    "rating.groupby(['userId', 'movieId']).count()"
   ]
  },
  {
   "cell_type": "code",
   "execution_count": 11,
   "id": "b2d66b4f",
   "metadata": {
    "execution": {
     "iopub.execute_input": "2022-09-06T05:49:44.034556Z",
     "iopub.status.busy": "2022-09-06T05:49:44.033799Z",
     "iopub.status.idle": "2022-09-06T05:49:44.061462Z",
     "shell.execute_reply": "2022-09-06T05:49:44.060440Z"
    },
    "id": "d1E2i5rZvOOI",
    "outputId": "70eac694-e535-4bcc-c37e-65bc016afbc1",
    "papermill": {
     "duration": 0.064976,
     "end_time": "2022-09-06T05:49:44.063780",
     "exception": false,
     "start_time": "2022-09-06T05:49:43.998804",
     "status": "completed"
    },
    "tags": []
   },
   "outputs": [
    {
     "data": {
      "text/plain": [
       "100004"
      ]
     },
     "execution_count": 11,
     "metadata": {},
     "output_type": "execute_result"
    }
   ],
   "source": [
    "rating.groupby(['userId', 'movieId']).count()['rating'].sum()"
   ]
  },
  {
   "cell_type": "markdown",
   "id": "42046327",
   "metadata": {
    "id": "ynCEs7q3vOOI",
    "papermill": {
     "duration": 0.033772,
     "end_time": "2022-09-06T05:49:44.131241",
     "exception": false,
     "start_time": "2022-09-06T05:49:44.097469",
     "status": "completed"
    },
    "tags": []
   },
   "source": [
    "**No, the sum and total rows in rating is the same**"
   ]
  },
  {
   "cell_type": "markdown",
   "id": "efa08c84",
   "metadata": {
    "id": "JQgjqRnevOOI",
    "papermill": {
     "duration": 0.033911,
     "end_time": "2022-09-06T05:49:44.199215",
     "exception": false,
     "start_time": "2022-09-06T05:49:44.165304",
     "status": "completed"
    },
    "tags": []
   },
   "source": [
    "#### Which is the most interacted movie in the dataset? "
   ]
  },
  {
   "cell_type": "code",
   "execution_count": 12,
   "id": "d14d1018",
   "metadata": {
    "execution": {
     "iopub.execute_input": "2022-09-06T05:49:44.269508Z",
     "iopub.status.busy": "2022-09-06T05:49:44.268765Z",
     "iopub.status.idle": "2022-09-06T05:49:44.279052Z",
     "shell.execute_reply": "2022-09-06T05:49:44.278158Z"
    },
    "id": "4LBbXdoDvOOI",
    "outputId": "623ce44c-4f58-441b-949d-958463632d4c",
    "papermill": {
     "duration": 0.047818,
     "end_time": "2022-09-06T05:49:44.281133",
     "exception": false,
     "start_time": "2022-09-06T05:49:44.233315",
     "status": "completed"
    },
    "tags": []
   },
   "outputs": [
    {
     "data": {
      "text/plain": [
       "356       341\n",
       "296       324\n",
       "318       311\n",
       "593       304\n",
       "260       291\n",
       "         ... \n",
       "98604       1\n",
       "103659      1\n",
       "104419      1\n",
       "115927      1\n",
       "6425        1\n",
       "Name: movieId, Length: 9066, dtype: int64"
      ]
     },
     "execution_count": 12,
     "metadata": {},
     "output_type": "execute_result"
    }
   ],
   "source": [
    "rating['movieId'].value_counts()"
   ]
  },
  {
   "cell_type": "markdown",
   "id": "e4c40739",
   "metadata": {
    "id": "PSo-c_XAvOOI",
    "papermill": {
     "duration": 0.033581,
     "end_time": "2022-09-06T05:49:44.348936",
     "exception": false,
     "start_time": "2022-09-06T05:49:44.315355",
     "status": "completed"
    },
    "tags": []
   },
   "source": [
    " **Movie 356 with 341 rating is the most interacted movie in the dataset **"
   ]
  },
  {
   "cell_type": "code",
   "execution_count": 13,
   "id": "16084dee",
   "metadata": {
    "execution": {
     "iopub.execute_input": "2022-09-06T05:49:44.419304Z",
     "iopub.status.busy": "2022-09-06T05:49:44.418841Z",
     "iopub.status.idle": "2022-09-06T05:49:44.654192Z",
     "shell.execute_reply": "2022-09-06T05:49:44.652839Z"
    },
    "id": "fVkc1FK22N9r",
    "outputId": "17826b0f-f365-4198-b65c-30128a49019f",
    "papermill": {
     "duration": 0.273408,
     "end_time": "2022-09-06T05:49:44.656755",
     "exception": false,
     "start_time": "2022-09-06T05:49:44.383347",
     "status": "completed"
    },
    "tags": []
   },
   "outputs": [
    {
     "data": {
      "image/png": "[encoded data removed]",
      "text/plain": [
       "<Figure size 504x504 with 1 Axes>"
      ]
     },
     "metadata": {
      "needs_background": "light"
     },
     "output_type": "display_data"
    }
   ],
   "source": [
    "#Plotting distributions of ratings with movieid 356 \n",
    "plt.figure(figsize=(7,7))\n",
    "\n",
    "rating[rating['movieId'] == 356]['rating'].value_counts().plot(kind='bar')\n",
    "\n",
    "plt.xlabel('Rating')\n",
    "\n",
    "plt.ylabel('Count')\n",
    "\n",
    "plt.show()"
   ]
  },
  {
   "cell_type": "markdown",
   "id": "7665d397",
   "metadata": {
    "papermill": {
     "duration": 0.033879,
     "end_time": "2022-09-06T05:49:44.725166",
     "exception": false,
     "start_time": "2022-09-06T05:49:44.691287",
     "status": "completed"
    },
    "tags": []
   },
   "source": [
    "#### Analysis of Ratings by users : This plot show this movie has high rating from majority of user, the most rating is 5.0, the least is 1.5"
   ]
  },
  {
   "cell_type": "markdown",
   "id": "af4ad57a",
   "metadata": {
    "id": "0kXJ_iTEvOOI",
    "papermill": {
     "duration": 0.033955,
     "end_time": "2022-09-06T05:49:44.793217",
     "exception": false,
     "start_time": "2022-09-06T05:49:44.759262",
     "status": "completed"
    },
    "tags": []
   },
   "source": [
    "#### Which user interacted the most with any movie in the dataset? "
   ]
  },
  {
   "cell_type": "code",
   "execution_count": 14,
   "id": "2ec64a26",
   "metadata": {
    "execution": {
     "iopub.execute_input": "2022-09-06T05:49:44.865037Z",
     "iopub.status.busy": "2022-09-06T05:49:44.864611Z",
     "iopub.status.idle": "2022-09-06T05:49:44.875763Z",
     "shell.execute_reply": "2022-09-06T05:49:44.874941Z"
    },
    "id": "t7ehlMLDvOOI",
    "outputId": "d29b67c8-e25b-478c-d37c-9e5e1b0d154e",
    "papermill": {
     "duration": 0.049847,
     "end_time": "2022-09-06T05:49:44.877914",
     "exception": false,
     "start_time": "2022-09-06T05:49:44.828067",
     "status": "completed"
    },
    "tags": []
   },
   "outputs": [
    {
     "data": {
      "text/plain": [
       "547    2391\n",
       "564    1868\n",
       "624    1735\n",
       "15     1700\n",
       "73     1610\n",
       "       ... \n",
       "296      20\n",
       "289      20\n",
       "249      20\n",
       "221      20\n",
       "1        20\n",
       "Name: userId, Length: 671, dtype: int64"
      ]
     },
     "execution_count": 14,
     "metadata": {},
     "output_type": "execute_result"
    }
   ],
   "source": [
    "rating['userId'].value_counts()"
   ]
  },
  {
   "cell_type": "markdown",
   "id": "9b93d38c",
   "metadata": {
    "id": "W-Sdna2ovOOI",
    "papermill": {
     "duration": 0.036485,
     "end_time": "2022-09-06T05:49:44.949708",
     "exception": false,
     "start_time": "2022-09-06T05:49:44.913223",
     "status": "completed"
    },
    "tags": []
   },
   "source": [
    "**User ID with 45811 has the most rating, he rated 18276 movies**"
   ]
  },
  {
   "cell_type": "markdown",
   "id": "1b392d0a",
   "metadata": {
    "id": "lHReghdivOOI",
    "papermill": {
     "duration": 0.034675,
     "end_time": "2022-09-06T05:49:45.019396",
     "exception": false,
     "start_time": "2022-09-06T05:49:44.984721",
     "status": "completed"
    },
    "tags": []
   },
   "source": [
    "#### What is the distribution of the user-movie interactions in this dataset? "
   ]
  },
  {
   "cell_type": "code",
   "execution_count": 15,
   "id": "c8a32d9e",
   "metadata": {
    "execution": {
     "iopub.execute_input": "2022-09-06T05:49:45.090093Z",
     "iopub.status.busy": "2022-09-06T05:49:45.089685Z",
     "iopub.status.idle": "2022-09-06T05:49:45.102340Z",
     "shell.execute_reply": "2022-09-06T05:49:45.101484Z"
    },
    "id": "0XArWJ7l2N9v",
    "outputId": "c46c6c18-571d-476d-a837-1e0f9c9b66cb",
    "papermill": {
     "duration": 0.050833,
     "end_time": "2022-09-06T05:49:45.104548",
     "exception": false,
     "start_time": "2022-09-06T05:49:45.053715",
     "status": "completed"
    },
    "tags": []
   },
   "outputs": [
    {
     "data": {
      "text/plain": [
       "userId\n",
       "1       20\n",
       "2       76\n",
       "3       51\n",
       "4      204\n",
       "5      100\n",
       "      ... \n",
       "667     68\n",
       "668     20\n",
       "669     37\n",
       "670     31\n",
       "671    115\n",
       "Name: movieId, Length: 671, dtype: int64"
      ]
     },
     "execution_count": 15,
     "metadata": {},
     "output_type": "execute_result"
    }
   ],
   "source": [
    "#Finding user-movie interactions distribution\n",
    "\n",
    "count_interactions = rating.groupby('userId').count()['movieId']\n",
    "count_interactions"
   ]
  },
  {
   "cell_type": "code",
   "execution_count": 16,
   "id": "c583cbd1",
   "metadata": {
    "execution": {
     "iopub.execute_input": "2022-09-06T05:49:45.175712Z",
     "iopub.status.busy": "2022-09-06T05:49:45.175001Z",
     "iopub.status.idle": "2022-09-06T05:49:45.571404Z",
     "shell.execute_reply": "2022-09-06T05:49:45.570188Z"
    },
    "id": "JoNCRm88vOOI",
    "outputId": "c65dd279-7247-4a41-97f0-5e53174b26cf",
    "papermill": {
     "duration": 0.434936,
     "end_time": "2022-09-06T05:49:45.574019",
     "exception": false,
     "start_time": "2022-09-06T05:49:45.139083",
     "status": "completed"
    },
    "tags": []
   },
   "outputs": [
    {
     "data": {
      "image/png": "[encoded data removed]",
      "text/plain": [
       "<Figure size 1080x504 with 1 Axes>"
      ]
     },
     "metadata": {
      "needs_background": "light"
     },
     "output_type": "display_data"
    }
   ],
   "source": [
    "#Plotting user-movie interactions distribution\n",
    "\n",
    "plt.figure(figsize=(15,7))\n",
    "#remove _______ and complete the code\n",
    "\n",
    "sns.histplot(count_interactions)\n",
    "\n",
    "plt.xlabel('Number of Interactions by Users')\n",
    "\n",
    "plt.show()"
   ]
  },
  {
   "cell_type": "markdown",
   "id": "b8511f99",
   "metadata": {
    "id": "vmj5nPiN2N9w",
    "papermill": {
     "duration": 0.034885,
     "end_time": "2022-09-06T05:49:45.645198",
     "exception": false,
     "start_time": "2022-09-06T05:49:45.610313",
     "status": "completed"
    },
    "tags": []
   },
   "source": [
    "**This plot show that large majority of user rate less than 500 movies. which can see as the plot is heavily skew to left. One thing to note is that most user dont rate movie. Heavy 0 interaction**"
   ]
  },
  {
   "cell_type": "markdown",
   "id": "6f3e8333",
   "metadata": {
    "id": "knK9ML0bwIBR",
    "papermill": {
     "duration": 0.035616,
     "end_time": "2022-09-06T05:49:45.715359",
     "exception": false,
     "start_time": "2022-09-06T05:49:45.679743",
     "status": "completed"
    },
    "tags": []
   },
   "source": [
    "#### As we have now explored the data, let's start building Recommendation systems\n",
    "\n",
    "### **Create Rank-Based Recommendation System**"
   ]
  },
  {
   "cell_type": "markdown",
   "id": "15076b67",
   "metadata": {
    "id": "CqFN5jDJvOOJ",
    "papermill": {
     "duration": 0.040877,
     "end_time": "2022-09-06T05:49:45.790716",
     "exception": false,
     "start_time": "2022-09-06T05:49:45.749839",
     "status": "completed"
    },
    "tags": []
   },
   "source": [
    "### **Model 1: Rank-Based Recommendation System**"
   ]
  },
  {
   "cell_type": "markdown",
   "id": "adb703e7",
   "metadata": {
    "id": "W26vIRn1vOOJ",
    "papermill": {
     "duration": 0.040674,
     "end_time": "2022-09-06T05:49:45.874745",
     "exception": false,
     "start_time": "2022-09-06T05:49:45.834071",
     "status": "completed"
    },
    "tags": []
   },
   "source": [
    "Rank-based recommendation systems provide recommendations based on the most popular items. This kind of recommendation system is useful when we have **cold start** problems. Cold start refers to the issue when we get a new user into the system and the machine is not able to recommend movies to the new user, as the user did not have any historical interactions in the dataset. In those cases, we can use rank-based recommendation system to recommend movies to the new user."
   ]
  },
  {
   "cell_type": "markdown",
   "id": "93dafe17",
   "metadata": {
    "id": "I3t4uyGlvOOK",
    "papermill": {
     "duration": 0.037012,
     "end_time": "2022-09-06T05:49:45.952298",
     "exception": false,
     "start_time": "2022-09-06T05:49:45.915286",
     "status": "completed"
    },
    "tags": []
   },
   "source": [
    "To build the rank-based recommendation system, we take **average** of all the ratings provided to each movie and then rank them based on their average rating."
   ]
  },
  {
   "cell_type": "code",
   "execution_count": 17,
   "id": "a895f7d1",
   "metadata": {
    "execution": {
     "iopub.execute_input": "2022-09-06T05:49:46.027155Z",
     "iopub.status.busy": "2022-09-06T05:49:46.025262Z",
     "iopub.status.idle": "2022-09-06T05:49:46.055056Z",
     "shell.execute_reply": "2022-09-06T05:49:46.053906Z"
    },
    "id": "xuMR3XFIvOOK",
    "papermill": {
     "duration": 0.069741,
     "end_time": "2022-09-06T05:49:46.057655",
     "exception": false,
     "start_time": "2022-09-06T05:49:45.987914",
     "status": "completed"
    },
    "tags": []
   },
   "outputs": [],
   "source": [
    "#Calculating average ratings\n",
    "average_rating = rating.groupby('movieId').mean()['rating']\n",
    "\n",
    "#Calculating the count of ratings\n",
    "count_rating = rating.groupby('movieId').count()['rating']\n",
    "\n",
    "#Making a dataframe with the count and average of ratings\n",
    "final_rating = pd.DataFrame({'avg_rating':average_rating, 'rating_count':count_rating})"
   ]
  },
  {
   "cell_type": "code",
   "execution_count": 18,
   "id": "f30370b3",
   "metadata": {
    "execution": {
     "iopub.execute_input": "2022-09-06T05:49:46.153030Z",
     "iopub.status.busy": "2022-09-06T05:49:46.151361Z",
     "iopub.status.idle": "2022-09-06T05:49:46.187770Z",
     "shell.execute_reply": "2022-09-06T05:49:46.186682Z"
    },
    "id": "J6NLX6FIvOOK",
    "outputId": "eb79d32d-2260-4f66-83fa-7459206bf366",
    "papermill": {
     "duration": 0.097262,
     "end_time": "2022-09-06T05:49:46.190766",
     "exception": false,
     "start_time": "2022-09-06T05:49:46.093504",
     "status": "completed"
    },
    "tags": []
   },
   "outputs": [
    {
     "data": {
      "text/html": [
       "<div>\n",
       "<style scoped>\n",
       "    .dataframe tbody tr th:only-of-type {\n",
       "        vertical-align: middle;\n",
       "    }\n",
       "\n",
       "    .dataframe tbody tr th {\n",
       "        vertical-align: top;\n",
       "    }\n",
       "\n",
       "    .dataframe thead th {\n",
       "        text-align: right;\n",
       "    }\n",
       "</style>\n",
       "<table border=\"1\" class=\"dataframe\">\n",
       "  <thead>\n",
       "    <tr style=\"text-align: right;\">\n",
       "      <th></th>\n",
       "      <th>avg_rating</th>\n",
       "      <th>rating_count</th>\n",
       "    </tr>\n",
       "    <tr>\n",
       "      <th>movieId</th>\n",
       "      <th></th>\n",
       "      <th></th>\n",
       "    </tr>\n",
       "  </thead>\n",
       "  <tbody>\n",
       "    <tr>\n",
       "      <th>1</th>\n",
       "      <td>3.872470</td>\n",
       "      <td>247</td>\n",
       "    </tr>\n",
       "    <tr>\n",
       "      <th>2</th>\n",
       "      <td>3.401869</td>\n",
       "      <td>107</td>\n",
       "    </tr>\n",
       "    <tr>\n",
       "      <th>3</th>\n",
       "      <td>3.161017</td>\n",
       "      <td>59</td>\n",
       "    </tr>\n",
       "    <tr>\n",
       "      <th>4</th>\n",
       "      <td>2.384615</td>\n",
       "      <td>13</td>\n",
       "    </tr>\n",
       "    <tr>\n",
       "      <th>5</th>\n",
       "      <td>3.267857</td>\n",
       "      <td>56</td>\n",
       "    </tr>\n",
       "  </tbody>\n",
       "</table>\n",
       "</div>"
      ],
      "text/plain": [
       "         avg_rating  rating_count\n",
       "movieId                          \n",
       "1          3.872470           247\n",
       "2          3.401869           107\n",
       "3          3.161017            59\n",
       "4          2.384615            13\n",
       "5          3.267857            56"
      ]
     },
     "execution_count": 18,
     "metadata": {},
     "output_type": "execute_result"
    }
   ],
   "source": [
    "final_rating.head()"
   ]
  },
  {
   "cell_type": "markdown",
   "id": "5b4bc553",
   "metadata": {
    "id": "Pv31nHm_2N9y",
    "papermill": {
     "duration": 0.043492,
     "end_time": "2022-09-06T05:49:46.283604",
     "exception": false,
     "start_time": "2022-09-06T05:49:46.240112",
     "status": "completed"
    },
    "tags": []
   },
   "source": [
    "Now, let's create a function to find the **top n movies** for a recommendation based on the average ratings of movies. We can also add a **threshold for a minimum number of interactions** for a movie to be considered for recommendation. "
   ]
  },
  {
   "cell_type": "code",
   "execution_count": 19,
   "id": "7094a74e",
   "metadata": {
    "execution": {
     "iopub.execute_input": "2022-09-06T05:49:46.376131Z",
     "iopub.status.busy": "2022-09-06T05:49:46.375501Z",
     "iopub.status.idle": "2022-09-06T05:49:46.383079Z",
     "shell.execute_reply": "2022-09-06T05:49:46.381973Z"
    },
    "id": "Fy0SbxnevOOK",
    "papermill": {
     "duration": 0.060369,
     "end_time": "2022-09-06T05:49:46.385931",
     "exception": false,
     "start_time": "2022-09-06T05:49:46.325562",
     "status": "completed"
    },
    "tags": []
   },
   "outputs": [],
   "source": [
    "def top_n_movies(data, n, min_interaction=100):\n",
    "    \n",
    "    #Finding movies with minimum number of interactions\n",
    "    recommendations = data[data['rating_count'] > min_interaction]\n",
    "    \n",
    "    #Sorting values w.r.t average rating \n",
    "    recommendations = recommendations.sort_values(by='avg_rating', ascending=False)\n",
    "    \n",
    "    return recommendations.index[:n]"
   ]
  },
  {
   "cell_type": "markdown",
   "id": "74fe01ea",
   "metadata": {
    "id": "fi9vhL4Z2N9y",
    "papermill": {
     "duration": 0.046147,
     "end_time": "2022-09-06T05:49:46.474585",
     "exception": false,
     "start_time": "2022-09-06T05:49:46.428438",
     "status": "completed"
    },
    "tags": []
   },
   "source": [
    "We can **use this function with different n's and minimum interactions** to get movies to recommend"
   ]
  },
  {
   "cell_type": "markdown",
   "id": "e24f3b6a",
   "metadata": {
    "id": "hkz4LlTpvOOK",
    "papermill": {
     "duration": 0.061784,
     "end_time": "2022-09-06T05:49:46.584598",
     "exception": false,
     "start_time": "2022-09-06T05:49:46.522814",
     "status": "completed"
    },
    "tags": []
   },
   "source": [
    "#### **Recommending top 5 movies with 50 minimum interactions based on popularity**"
   ]
  },
  {
   "cell_type": "code",
   "execution_count": 20,
   "id": "0afd4d49",
   "metadata": {
    "execution": {
     "iopub.execute_input": "2022-09-06T05:49:46.671588Z",
     "iopub.status.busy": "2022-09-06T05:49:46.670799Z",
     "iopub.status.idle": "2022-09-06T05:49:46.681673Z",
     "shell.execute_reply": "2022-09-06T05:49:46.680290Z"
    },
    "id": "u-JX_ES9vOOK",
    "outputId": "c908b59f-b841-4729-872c-7f0457f83184",
    "papermill": {
     "duration": 0.057271,
     "end_time": "2022-09-06T05:49:46.684670",
     "exception": false,
     "start_time": "2022-09-06T05:49:46.627399",
     "status": "completed"
    },
    "tags": []
   },
   "outputs": [
    {
     "data": {
      "text/plain": [
       "[858, 318, 913, 1221, 50]"
      ]
     },
     "execution_count": 20,
     "metadata": {},
     "output_type": "execute_result"
    }
   ],
   "source": [
    "list(top_n_movies(final_rating , 5, 50))"
   ]
  },
  {
   "cell_type": "markdown",
   "id": "3998b00d",
   "metadata": {
    "id": "KRFTrsBVvOOK",
    "papermill": {
     "duration": 0.041352,
     "end_time": "2022-09-06T05:49:46.767870",
     "exception": false,
     "start_time": "2022-09-06T05:49:46.726518",
     "status": "completed"
    },
    "tags": []
   },
   "source": [
    "#### **Recommending top 5 movies with 100 minimum interactions based on popularity**"
   ]
  },
  {
   "cell_type": "code",
   "execution_count": 21,
   "id": "7199b0c2",
   "metadata": {
    "execution": {
     "iopub.execute_input": "2022-09-06T05:49:46.854238Z",
     "iopub.status.busy": "2022-09-06T05:49:46.853641Z",
     "iopub.status.idle": "2022-09-06T05:49:46.863505Z",
     "shell.execute_reply": "2022-09-06T05:49:46.862106Z"
    },
    "id": "U2wvxF2rvOOK",
    "outputId": "304f8f7a-4920-4f77-c319-0fc30ec1cefc",
    "papermill": {
     "duration": 0.056275,
     "end_time": "2022-09-06T05:49:46.865928",
     "exception": false,
     "start_time": "2022-09-06T05:49:46.809653",
     "status": "completed"
    },
    "tags": []
   },
   "outputs": [
    {
     "data": {
      "text/plain": [
       "[858, 318, 1221, 50, 527]"
      ]
     },
     "execution_count": 21,
     "metadata": {},
     "output_type": "execute_result"
    }
   ],
   "source": [
    "list(top_n_movies(final_rating , 5, 100))"
   ]
  },
  {
   "cell_type": "markdown",
   "id": "aacb2cb7",
   "metadata": {
    "id": "_3SW8bLkvOOK",
    "papermill": {
     "duration": 0.042133,
     "end_time": "2022-09-06T05:49:46.949503",
     "exception": false,
     "start_time": "2022-09-06T05:49:46.907370",
     "status": "completed"
    },
    "tags": []
   },
   "source": [
    "#### **Recommending top 5 movies with 200 minimum interactions based on popularity**"
   ]
  },
  {
   "cell_type": "code",
   "execution_count": 22,
   "id": "4d1bb704",
   "metadata": {
    "execution": {
     "iopub.execute_input": "2022-09-06T05:49:47.037563Z",
     "iopub.status.busy": "2022-09-06T05:49:47.036649Z",
     "iopub.status.idle": "2022-09-06T05:49:47.046220Z",
     "shell.execute_reply": "2022-09-06T05:49:47.045111Z"
    },
    "id": "t6ziQvDgvOOK",
    "outputId": "d644a401-9875-4eb2-d52a-661ceb5a13a6",
    "papermill": {
     "duration": 0.056268,
     "end_time": "2022-09-06T05:49:47.049063",
     "exception": false,
     "start_time": "2022-09-06T05:49:46.992795",
     "status": "completed"
    },
    "tags": []
   },
   "outputs": [
    {
     "data": {
      "text/plain": [
       "[318, 50, 527, 608, 296]"
      ]
     },
     "execution_count": 22,
     "metadata": {},
     "output_type": "execute_result"
    }
   ],
   "source": [
    "list(top_n_movies(final_rating , 5, 200))"
   ]
  },
  {
   "cell_type": "markdown",
   "id": "c93b474d",
   "metadata": {
    "id": "r4vrsunx2N91",
    "papermill": {
     "duration": 0.042204,
     "end_time": "2022-09-06T05:49:47.135212",
     "exception": false,
     "start_time": "2022-09-06T05:49:47.093008",
     "status": "completed"
    },
    "tags": []
   },
   "source": [
    "Now that we have seen how to apply the Rank-Based Recommendation System, let's create Collaborative Filtering Based Recommendation Systems."
   ]
  },
  {
   "cell_type": "markdown",
   "id": "32f7ee43",
   "metadata": {
    "id": "sJI5kiiGvOOK",
    "papermill": {
     "duration": 0.035891,
     "end_time": "2022-09-06T05:49:47.207502",
     "exception": false,
     "start_time": "2022-09-06T05:49:47.171611",
     "status": "completed"
    },
    "tags": []
   },
   "source": [
    "### User based Collaborative Filtering Recommendation System "
   ]
  },
  {
   "cell_type": "markdown",
   "id": "ec8ae6f1",
   "metadata": {
    "id": "QoSujZuuvOOK",
    "papermill": {
     "duration": 0.03574,
     "end_time": "2022-09-06T05:49:47.280158",
     "exception": false,
     "start_time": "2022-09-06T05:49:47.244418",
     "status": "completed"
    },
    "tags": []
   },
   "source": [
    "In this type of recommendation system, `we do not need any information` about the users or items. We only need user item interaction data to build a collaborative recommendation system. For example - \n",
    "<ol>\n",
    "    <li><b>Ratings</b> provided by users. For example - ratings of books on goodread, movie ratings on imdb etc</li>\n",
    "    <li><b>Likes</b> of users on different facebook posts, likes on youtube videos</li>\n",
    "    <li><b>Use/buying</b> of a product by users. For example - buying different items on e-commerce sites</li>\n",
    "    <li><b>Reading</b> of articles by readers on various blogs</li>\n",
    "</ol>"
   ]
  },
  {
   "cell_type": "markdown",
   "id": "ab2b353f",
   "metadata": {
    "id": "A_3GtPzuvOOK",
    "papermill": {
     "duration": 0.03728,
     "end_time": "2022-09-06T05:49:47.353441",
     "exception": false,
     "start_time": "2022-09-06T05:49:47.316161",
     "status": "completed"
    },
    "tags": []
   },
   "source": [
    "#### Types of Collaborative Filtering"
   ]
  },
  {
   "cell_type": "markdown",
   "id": "158ea810",
   "metadata": {
    "id": "igZX3WbqvOOK",
    "papermill": {
     "duration": 0.036974,
     "end_time": "2022-09-06T05:49:47.427351",
     "exception": false,
     "start_time": "2022-09-06T05:49:47.390377",
     "status": "completed"
    },
    "tags": []
   },
   "source": [
    "- Similarity/Neighborhood based\n",
    "- Model based"
   ]
  },
  {
   "cell_type": "markdown",
   "id": "799188c9",
   "metadata": {
    "id": "skzc0N1_nVNB",
    "papermill": {
     "duration": 0.035614,
     "end_time": "2022-09-06T05:49:47.499213",
     "exception": false,
     "start_time": "2022-09-06T05:49:47.463599",
     "status": "completed"
    },
    "tags": []
   },
   "source": [
    "#### Building a baseline similarity based recommendation system"
   ]
  },
  {
   "cell_type": "markdown",
   "id": "4fad0395",
   "metadata": {
    "id": "d4Uo_MYMnVNB",
    "papermill": {
     "duration": 0.036357,
     "end_time": "2022-09-06T05:49:47.572149",
     "exception": false,
     "start_time": "2022-09-06T05:49:47.535792",
     "status": "completed"
    },
    "tags": []
   },
   "source": [
    "Below we are building similarity based recommendation system using `cosine` similarity and using KNN to find similar users which are nearest neighbor to the given user. "
   ]
  },
  {
   "cell_type": "markdown",
   "id": "d1ddc991",
   "metadata": {
    "id": "-_T9DOvVnVNB",
    "papermill": {
     "duration": 0.035371,
     "end_time": "2022-09-06T05:49:47.645298",
     "exception": false,
     "start_time": "2022-09-06T05:49:47.609927",
     "status": "completed"
    },
    "tags": []
   },
   "source": [
    "We will be using a new library - `surprise` to build the remaining models, let's first import the necessary classes and functions from this library"
   ]
  },
  {
   "cell_type": "markdown",
   "id": "912d2c03",
   "metadata": {
    "id": "8hxjJMTwnVNB",
    "papermill": {
     "duration": 0.036245,
     "end_time": "2022-09-06T05:49:47.717451",
     "exception": false,
     "start_time": "2022-09-06T05:49:47.681206",
     "status": "completed"
    },
    "tags": []
   },
   "source": [
    "Below we are loading the `rating` dataset, which is a pandas dataframe, into a different format called `surprise.dataset.DatasetAutoFolds` which is required by this library. To do this we will be using the classes `Reader` and `Dataset`"
   ]
  },
  {
   "cell_type": "markdown",
   "id": "54064a65",
   "metadata": {
    "id": "ME8k1WaXwIBp",
    "papermill": {
     "duration": 0.036988,
     "end_time": "2022-09-06T05:49:47.790438",
     "exception": false,
     "start_time": "2022-09-06T05:49:47.753450",
     "status": "completed"
    },
    "tags": []
   },
   "source": [
    "#### Making the dataset into surprise dataset and splitting it into train and test set"
   ]
  },
  {
   "cell_type": "code",
   "execution_count": 23,
   "id": "05ab0f3e",
   "metadata": {
    "execution": {
     "iopub.execute_input": "2022-09-06T05:49:47.864630Z",
     "iopub.status.busy": "2022-09-06T05:49:47.864248Z",
     "iopub.status.idle": "2022-09-06T05:49:48.253931Z",
     "shell.execute_reply": "2022-09-06T05:49:48.252770Z"
    },
    "id": "rGfYDiOCpe4X",
    "papermill": {
     "duration": 0.429972,
     "end_time": "2022-09-06T05:49:48.256765",
     "exception": false,
     "start_time": "2022-09-06T05:49:47.826793",
     "status": "completed"
    },
    "tags": []
   },
   "outputs": [],
   "source": [
    "# instantiating Reader scale with expected rating scale\n",
    "reader = Reader(rating_scale=(0, 5))\n",
    "\n",
    "# loading the rating dataset\n",
    "data = Dataset.load_from_df(rating[['userId', 'movieId', 'rating']], reader)\n",
    "\n",
    "# splitting the data into train and test dataset\n",
    "trainset, testset = train_test_split(data, test_size=0.2, random_state=42)"
   ]
  },
  {
   "cell_type": "markdown",
   "id": "6c53771c",
   "metadata": {
    "id": "DmHTEt7TnVNC",
    "papermill": {
     "duration": 0.035607,
     "end_time": "2022-09-06T05:49:48.328180",
     "exception": false,
     "start_time": "2022-09-06T05:49:48.292573",
     "status": "completed"
    },
    "tags": []
   },
   "source": [
    "### Build the first baseline similarity based recommendation system using cosine similarity and KNN"
   ]
  },
  {
   "cell_type": "code",
   "execution_count": 24,
   "id": "3b7bea95",
   "metadata": {
    "execution": {
     "iopub.execute_input": "2022-09-06T05:49:48.403609Z",
     "iopub.status.busy": "2022-09-06T05:49:48.402533Z",
     "iopub.status.idle": "2022-09-06T05:49:50.530113Z",
     "shell.execute_reply": "2022-09-06T05:49:50.528538Z"
    },
    "id": "vO3FL7iape8A",
    "outputId": "25df0a39-1b77-425e-83f9-26509def3b01",
    "papermill": {
     "duration": 2.169087,
     "end_time": "2022-09-06T05:49:50.533618",
     "exception": false,
     "start_time": "2022-09-06T05:49:48.364531",
     "status": "completed"
    },
    "tags": []
   },
   "outputs": [
    {
     "name": "stdout",
     "output_type": "stream",
     "text": [
      "RMSE: 0.9925\n"
     ]
    },
    {
     "data": {
      "text/plain": [
       "0.9924509041520163"
      ]
     },
     "execution_count": 24,
     "metadata": {},
     "output_type": "execute_result"
    }
   ],
   "source": [
    "from surprise import KNNBasic\n",
    "algo = KNNBasic()\n",
    "sim_options = {'name': 'cosine',\n",
    "               'user_based': True}\n",
    "\n",
    "#defining Nearest neighbour algorithm\n",
    "algo_knn_user = KNNBasic(sim_options=sim_options,verbose=False)\n",
    "\n",
    "# Train the algorithm on the trainset or fitting the model on train dataset \n",
    "algo_knn_user.fit(trainset)\n",
    "\n",
    "#predict ratings for the testset\n",
    "predictions = algo_knn_user.test(testset)\n",
    "\n",
    "# Then compute RMSE\n",
    "accuracy.rmse(predictions)"
   ]
  },
  {
   "cell_type": "markdown",
   "id": "b87f0e25",
   "metadata": {
    "id": "6y7zChf8wIBr",
    "papermill": {
     "duration": 0.043224,
     "end_time": "2022-09-06T05:49:50.621841",
     "exception": false,
     "start_time": "2022-09-06T05:49:50.578617",
     "status": "completed"
    },
    "tags": []
   },
   "source": [
    "#### What is the RMSE for baseline user based collaborative filtering recommendation system "
   ]
  },
  {
   "cell_type": "markdown",
   "id": "e1b4a6f5",
   "metadata": {
    "id": "yE5kvdZenVNC",
    "papermill": {
     "duration": 0.042944,
     "end_time": "2022-09-06T05:49:50.708142",
     "exception": false,
     "start_time": "2022-09-06T05:49:50.665198",
     "status": "completed"
    },
    "tags": []
   },
   "source": [
    "**The RMSE baseline user based collaborative filtering is 0.9925**"
   ]
  },
  {
   "cell_type": "markdown",
   "id": "89cba5a0",
   "metadata": {
    "id": "qelE7GyrwIBs",
    "papermill": {
     "duration": 0.043941,
     "end_time": "2022-09-06T05:49:50.795593",
     "exception": false,
     "start_time": "2022-09-06T05:49:50.751652",
     "status": "completed"
    },
    "tags": []
   },
   "source": [
    "#### What is the Predicted  rating for an user with userId =4 and for movieId= 10 and movieId=3? "
   ]
  },
  {
   "cell_type": "markdown",
   "id": "ced20681",
   "metadata": {
    "id": "reFD0-nsnVNC",
    "papermill": {
     "duration": 0.043949,
     "end_time": "2022-09-06T05:49:50.890982",
     "exception": false,
     "start_time": "2022-09-06T05:49:50.847033",
     "status": "completed"
    },
    "tags": []
   },
   "source": [
    "#### Let's us now predict rating for an user with `userId=4` and for `movieId=10`"
   ]
  },
  {
   "cell_type": "code",
   "execution_count": 25,
   "id": "4241994a",
   "metadata": {
    "execution": {
     "iopub.execute_input": "2022-09-06T05:49:50.981369Z",
     "iopub.status.busy": "2022-09-06T05:49:50.980982Z",
     "iopub.status.idle": "2022-09-06T05:49:50.988592Z",
     "shell.execute_reply": "2022-09-06T05:49:50.987692Z"
    },
    "id": "Sxd23bZ9pe_x",
    "outputId": "91c4d457-67ad-46de-e4f9-6949cf534d98",
    "papermill": {
     "duration": 0.056936,
     "end_time": "2022-09-06T05:49:50.992191",
     "exception": false,
     "start_time": "2022-09-06T05:49:50.935255",
     "status": "completed"
    },
    "tags": []
   },
   "outputs": [
    {
     "name": "stdout",
     "output_type": "stream",
     "text": [
      "user: 4          item: 10         r_ui = 4.00   est = 3.62   {'actual_k': 40, 'was_impossible': False}\n"
     ]
    },
    {
     "data": {
      "text/plain": [
       "Prediction(uid=4, iid=10, r_ui=4, est=3.6244912065910952, details={'actual_k': 40, 'was_impossible': False})"
      ]
     },
     "execution_count": 25,
     "metadata": {},
     "output_type": "execute_result"
    }
   ],
   "source": [
    "algo_knn_user.predict(4, 10, r_ui=4, verbose=True)"
   ]
  },
  {
   "cell_type": "markdown",
   "id": "2e58c6fd",
   "metadata": {
    "id": "QuVbIR3SnVNE",
    "papermill": {
     "duration": 0.044892,
     "end_time": "2022-09-06T05:49:51.082954",
     "exception": false,
     "start_time": "2022-09-06T05:49:51.038062",
     "status": "completed"
    },
    "tags": []
   },
   "source": [
    "**Here, we predicted the score is 3.625 and the actually score is 4**"
   ]
  },
  {
   "cell_type": "markdown",
   "id": "68461ed2",
   "metadata": {
    "id": "EXSgq8OEnVNE",
    "papermill": {
     "duration": 0.043364,
     "end_time": "2022-09-06T05:49:51.169005",
     "exception": false,
     "start_time": "2022-09-06T05:49:51.125641",
     "status": "completed"
    },
    "tags": []
   },
   "source": [
    "Let's predict the rating for the same `userId=4` but for a movie which this user has not interacted before i.e. `movieId=3`"
   ]
  },
  {
   "cell_type": "code",
   "execution_count": 26,
   "id": "45062046",
   "metadata": {
    "execution": {
     "iopub.execute_input": "2022-09-06T05:49:51.258205Z",
     "iopub.status.busy": "2022-09-06T05:49:51.257511Z",
     "iopub.status.idle": "2022-09-06T05:49:51.266961Z",
     "shell.execute_reply": "2022-09-06T05:49:51.265088Z"
    },
    "id": "PbFcBj1PpfEV",
    "outputId": "0eaa24c2-6e5d-4db6-9f02-5a4e680c3a33",
    "papermill": {
     "duration": 0.056787,
     "end_time": "2022-09-06T05:49:51.269939",
     "exception": false,
     "start_time": "2022-09-06T05:49:51.213152",
     "status": "completed"
    },
    "tags": []
   },
   "outputs": [
    {
     "name": "stdout",
     "output_type": "stream",
     "text": [
      "user: 4          item: 3          r_ui = None   est = 3.20   {'actual_k': 40, 'was_impossible': False}\n"
     ]
    },
    {
     "data": {
      "text/plain": [
       "Prediction(uid=4, iid=3, r_ui=None, est=3.202703552548654, details={'actual_k': 40, 'was_impossible': False})"
      ]
     },
     "execution_count": 26,
     "metadata": {},
     "output_type": "execute_result"
    }
   ],
   "source": [
    "algo_knn_user.predict(4, 3, verbose=True)"
   ]
  },
  {
   "cell_type": "markdown",
   "id": "b80e0f2f",
   "metadata": {
    "id": "cm2xqtcQnVNE",
    "papermill": {
     "duration": 0.044346,
     "end_time": "2022-09-06T05:49:51.362775",
     "exception": false,
     "start_time": "2022-09-06T05:49:51.318429",
     "status": "completed"
    },
    "tags": []
   },
   "source": [
    "**Here, it predicted 3.2 where there is no review score on user**"
   ]
  },
  {
   "cell_type": "markdown",
   "id": "df5359bb",
   "metadata": {
    "id": "ejjof6csnVNF",
    "papermill": {
     "duration": 0.046852,
     "end_time": "2022-09-06T05:49:51.455168",
     "exception": false,
     "start_time": "2022-09-06T05:49:51.408316",
     "status": "completed"
    },
    "tags": []
   },
   "source": [
    "### Improving user-user similarity based recommendation system by tuning its hyper-parameters"
   ]
  },
  {
   "cell_type": "markdown",
   "id": "831a3fea",
   "metadata": {
    "id": "x_kxe-_JnVNF",
    "papermill": {
     "duration": 0.04319,
     "end_time": "2022-09-06T05:49:51.553894",
     "exception": false,
     "start_time": "2022-09-06T05:49:51.510704",
     "status": "completed"
    },
    "tags": []
   },
   "source": [
    "Below we will be tuning hyper-parmeters for the `KNNBasic` algorithms. Let's try to understand different hyperparameters of KNNBasic algorithm - "
   ]
  },
  {
   "cell_type": "markdown",
   "id": "4f031cdf",
   "metadata": {
    "id": "p2j4VvfQnVNF",
    "papermill": {
     "duration": 0.043845,
     "end_time": "2022-09-06T05:49:51.641681",
     "exception": false,
     "start_time": "2022-09-06T05:49:51.597836",
     "status": "completed"
    },
    "tags": []
   },
   "source": [
    "- **k** (int) – The (max) number of neighbors to take into account for aggregation (see this note). Default is 40.\n",
    "- **min_k** (int) – The minimum number of neighbors to take into account for aggregation. If there are not enough neighbors, the prediction is set to the global mean of all ratings. Default is 1.\n",
    "- **sim_options** (dict) – A dictionary of options for the similarity measure. And there are four similarity measures available in surprise - \n",
    "    - cosine\n",
    "    - msd (default)\n",
    "    - pearson\n",
    "    - pearson baseline\n",
    "    \n",
    "For more details please refer the official documentation https://surprise.readthedocs.io/en/stable/knn_inspired.html"
   ]
  },
  {
   "cell_type": "markdown",
   "id": "dfc81655",
   "metadata": {
    "id": "lTLnYn_JwIBx",
    "papermill": {
     "duration": 0.043618,
     "end_time": "2022-09-06T05:49:51.728917",
     "exception": false,
     "start_time": "2022-09-06T05:49:51.685299",
     "status": "completed"
    },
    "tags": []
   },
   "source": [
    "#### Perform hyperparameter tuning for the baseline user based collaborative filtering recommendation system and find the RMSE for tuned user based collaborative filtering recommendation system? "
   ]
  },
  {
   "cell_type": "code",
   "execution_count": 27,
   "id": "372b9811",
   "metadata": {
    "execution": {
     "iopub.execute_input": "2022-09-06T05:49:51.818621Z",
     "iopub.status.busy": "2022-09-06T05:49:51.818154Z",
     "iopub.status.idle": "2022-09-06T05:52:39.325816Z",
     "shell.execute_reply": "2022-09-06T05:52:39.324393Z"
    },
    "id": "KpGhU15gpfHg",
    "outputId": "eb8ff56b-b67b-4072-f39f-78cdf9222bda",
    "papermill": {
     "duration": 167.601067,
     "end_time": "2022-09-06T05:52:39.373770",
     "exception": false,
     "start_time": "2022-09-06T05:49:51.772703",
     "status": "completed"
    },
    "tags": []
   },
   "outputs": [
    {
     "name": "stdout",
     "output_type": "stream",
     "text": [
      "0.9637049972038277\n",
      "{'k': 20, 'min_k': 3, 'sim_options': {'name': 'msd', 'user_based': True}}\n"
     ]
    }
   ],
   "source": [
    "# setting up parameter grid to tune the hyperparameters\n",
    "param_grid = {'k': [20, 30, 40], 'min_k': [3, 6, 9],'sim_options': {'name': ['msd', 'cosine','pearson'],'user_based': [True]}}\n",
    "\n",
    "# performing 3-fold cross validation to tune the hyperparameters\n",
    "grid_obj = GridSearchCV(KNNBasic, param_grid, measures=['rmse', 'mae'], cv=3, n_jobs=-1)\n",
    "\n",
    "# fitting the data\n",
    "grid_obj.fit(data)\n",
    "\n",
    "# best RMSE score\n",
    "print(grid_obj.best_score['rmse'])\n",
    "\n",
    "# combination of parameters that gave the best RMSE score\n",
    "print(grid_obj.best_params['rmse'])"
   ]
  },
  {
   "cell_type": "markdown",
   "id": "b27b2e51",
   "metadata": {
    "id": "L2fHNvu7nVNF",
    "papermill": {
     "duration": 0.036221,
     "end_time": "2022-09-06T05:52:39.447808",
     "exception": false,
     "start_time": "2022-09-06T05:52:39.411587",
     "status": "completed"
    },
    "tags": []
   },
   "source": [
    "Once the grid search is complete, we can get the optimal values for each of those hyperparameters as shown above"
   ]
  },
  {
   "cell_type": "markdown",
   "id": "460e92b6",
   "metadata": {
    "id": "h_K6yd6XnVNF",
    "papermill": {
     "duration": 0.143796,
     "end_time": "2022-09-06T05:52:39.628247",
     "exception": false,
     "start_time": "2022-09-06T05:52:39.484451",
     "status": "completed"
    },
    "tags": []
   },
   "source": [
    "Below we are analysing evaluation metrics - RMSE and MAE at each and every split to analyze the impact of each value of hyperparameters"
   ]
  },
  {
   "cell_type": "code",
   "execution_count": 28,
   "id": "4d3fdb46",
   "metadata": {
    "execution": {
     "iopub.execute_input": "2022-09-06T05:52:39.702937Z",
     "iopub.status.busy": "2022-09-06T05:52:39.702499Z",
     "iopub.status.idle": "2022-09-06T05:52:39.735377Z",
     "shell.execute_reply": "2022-09-06T05:52:39.734120Z"
    },
    "id": "TzJxk_Z4q1A8",
    "outputId": "26ef6efe-3f9d-4e5c-a606-ac83eb5f2884",
    "papermill": {
     "duration": 0.073716,
     "end_time": "2022-09-06T05:52:39.738026",
     "exception": false,
     "start_time": "2022-09-06T05:52:39.664310",
     "status": "completed"
    },
    "tags": []
   },
   "outputs": [
    {
     "data": {
      "text/html": [
       "<div>\n",
       "<style scoped>\n",
       "    .dataframe tbody tr th:only-of-type {\n",
       "        vertical-align: middle;\n",
       "    }\n",
       "\n",
       "    .dataframe tbody tr th {\n",
       "        vertical-align: top;\n",
       "    }\n",
       "\n",
       "    .dataframe thead th {\n",
       "        text-align: right;\n",
       "    }\n",
       "</style>\n",
       "<table border=\"1\" class=\"dataframe\">\n",
       "  <thead>\n",
       "    <tr style=\"text-align: right;\">\n",
       "      <th></th>\n",
       "      <th>split0_test_rmse</th>\n",
       "      <th>split1_test_rmse</th>\n",
       "      <th>split2_test_rmse</th>\n",
       "      <th>mean_test_rmse</th>\n",
       "      <th>std_test_rmse</th>\n",
       "      <th>rank_test_rmse</th>\n",
       "      <th>split0_test_mae</th>\n",
       "      <th>split1_test_mae</th>\n",
       "      <th>split2_test_mae</th>\n",
       "      <th>mean_test_mae</th>\n",
       "      <th>std_test_mae</th>\n",
       "      <th>rank_test_mae</th>\n",
       "      <th>mean_fit_time</th>\n",
       "      <th>std_fit_time</th>\n",
       "      <th>mean_test_time</th>\n",
       "      <th>std_test_time</th>\n",
       "      <th>params</th>\n",
       "      <th>param_k</th>\n",
       "      <th>param_min_k</th>\n",
       "      <th>param_sim_options</th>\n",
       "    </tr>\n",
       "  </thead>\n",
       "  <tbody>\n",
       "    <tr>\n",
       "      <th>0</th>\n",
       "      <td>0.962425</td>\n",
       "      <td>0.962908</td>\n",
       "      <td>0.965781</td>\n",
       "      <td>0.963705</td>\n",
       "      <td>0.001481</td>\n",
       "      <td>1</td>\n",
       "      <td>0.739818</td>\n",
       "      <td>0.742181</td>\n",
       "      <td>0.741725</td>\n",
       "      <td>0.741241</td>\n",
       "      <td>0.001023</td>\n",
       "      <td>1</td>\n",
       "      <td>0.112943</td>\n",
       "      <td>0.011979</td>\n",
       "      <td>2.251030</td>\n",
       "      <td>0.238408</td>\n",
       "      <td>{'k': 20, 'min_k': 3, 'sim_options': {'name': ...</td>\n",
       "      <td>20</td>\n",
       "      <td>3</td>\n",
       "      <td>{'name': 'msd', 'user_based': True}</td>\n",
       "    </tr>\n",
       "    <tr>\n",
       "      <th>1</th>\n",
       "      <td>0.992030</td>\n",
       "      <td>0.991518</td>\n",
       "      <td>0.994917</td>\n",
       "      <td>0.992822</td>\n",
       "      <td>0.001496</td>\n",
       "      <td>14</td>\n",
       "      <td>0.766613</td>\n",
       "      <td>0.768290</td>\n",
       "      <td>0.768156</td>\n",
       "      <td>0.767686</td>\n",
       "      <td>0.000761</td>\n",
       "      <td>12</td>\n",
       "      <td>0.513923</td>\n",
       "      <td>0.081668</td>\n",
       "      <td>2.220100</td>\n",
       "      <td>0.213785</td>\n",
       "      <td>{'k': 20, 'min_k': 3, 'sim_options': {'name': ...</td>\n",
       "      <td>20</td>\n",
       "      <td>3</td>\n",
       "      <td>{'name': 'cosine', 'user_based': True}</td>\n",
       "    </tr>\n",
       "    <tr>\n",
       "      <th>2</th>\n",
       "      <td>0.998092</td>\n",
       "      <td>0.996129</td>\n",
       "      <td>1.000811</td>\n",
       "      <td>0.998344</td>\n",
       "      <td>0.001920</td>\n",
       "      <td>22</td>\n",
       "      <td>0.774301</td>\n",
       "      <td>0.776314</td>\n",
       "      <td>0.776992</td>\n",
       "      <td>0.775869</td>\n",
       "      <td>0.001142</td>\n",
       "      <td>23</td>\n",
       "      <td>0.627682</td>\n",
       "      <td>0.092722</td>\n",
       "      <td>1.901735</td>\n",
       "      <td>0.017186</td>\n",
       "      <td>{'k': 20, 'min_k': 3, 'sim_options': {'name': ...</td>\n",
       "      <td>20</td>\n",
       "      <td>3</td>\n",
       "      <td>{'name': 'pearson', 'user_based': True}</td>\n",
       "    </tr>\n",
       "    <tr>\n",
       "      <th>3</th>\n",
       "      <td>0.964814</td>\n",
       "      <td>0.967178</td>\n",
       "      <td>0.970096</td>\n",
       "      <td>0.967363</td>\n",
       "      <td>0.002160</td>\n",
       "      <td>3</td>\n",
       "      <td>0.741579</td>\n",
       "      <td>0.746004</td>\n",
       "      <td>0.744439</td>\n",
       "      <td>0.744007</td>\n",
       "      <td>0.001832</td>\n",
       "      <td>2</td>\n",
       "      <td>0.152634</td>\n",
       "      <td>0.003238</td>\n",
       "      <td>2.161179</td>\n",
       "      <td>0.173151</td>\n",
       "      <td>{'k': 20, 'min_k': 6, 'sim_options': {'name': ...</td>\n",
       "      <td>20</td>\n",
       "      <td>6</td>\n",
       "      <td>{'name': 'msd', 'user_based': True}</td>\n",
       "    </tr>\n",
       "    <tr>\n",
       "      <th>4</th>\n",
       "      <td>0.993140</td>\n",
       "      <td>0.994448</td>\n",
       "      <td>0.997245</td>\n",
       "      <td>0.994944</td>\n",
       "      <td>0.001713</td>\n",
       "      <td>15</td>\n",
       "      <td>0.767313</td>\n",
       "      <td>0.770835</td>\n",
       "      <td>0.769266</td>\n",
       "      <td>0.769138</td>\n",
       "      <td>0.001441</td>\n",
       "      <td>15</td>\n",
       "      <td>0.514709</td>\n",
       "      <td>0.046727</td>\n",
       "      <td>1.890021</td>\n",
       "      <td>0.016090</td>\n",
       "      <td>{'k': 20, 'min_k': 6, 'sim_options': {'name': ...</td>\n",
       "      <td>20</td>\n",
       "      <td>6</td>\n",
       "      <td>{'name': 'cosine', 'user_based': True}</td>\n",
       "    </tr>\n",
       "  </tbody>\n",
       "</table>\n",
       "</div>"
      ],
      "text/plain": [
       "   split0_test_rmse  split1_test_rmse  split2_test_rmse  mean_test_rmse  \\\n",
       "0          0.962425          0.962908          0.965781        0.963705   \n",
       "1          0.992030          0.991518          0.994917        0.992822   \n",
       "2          0.998092          0.996129          1.000811        0.998344   \n",
       "3          0.964814          0.967178          0.970096        0.967363   \n",
       "4          0.993140          0.994448          0.997245        0.994944   \n",
       "\n",
       "   std_test_rmse  rank_test_rmse  split0_test_mae  split1_test_mae  \\\n",
       "0       0.001481               1         0.739818         0.742181   \n",
       "1       0.001496              14         0.766613         0.768290   \n",
       "2       0.001920              22         0.774301         0.776314   \n",
       "3       0.002160               3         0.741579         0.746004   \n",
       "4       0.001713              15         0.767313         0.770835   \n",
       "\n",
       "   split2_test_mae  mean_test_mae  std_test_mae  rank_test_mae  mean_fit_time  \\\n",
       "0         0.741725       0.741241      0.001023              1       0.112943   \n",
       "1         0.768156       0.767686      0.000761             12       0.513923   \n",
       "2         0.776992       0.775869      0.001142             23       0.627682   \n",
       "3         0.744439       0.744007      0.001832              2       0.152634   \n",
       "4         0.769266       0.769138      0.001441             15       0.514709   \n",
       "\n",
       "   std_fit_time  mean_test_time  std_test_time  \\\n",
       "0      0.011979        2.251030       0.238408   \n",
       "1      0.081668        2.220100       0.213785   \n",
       "2      0.092722        1.901735       0.017186   \n",
       "3      0.003238        2.161179       0.173151   \n",
       "4      0.046727        1.890021       0.016090   \n",
       "\n",
       "                                              params  param_k  param_min_k  \\\n",
       "0  {'k': 20, 'min_k': 3, 'sim_options': {'name': ...       20            3   \n",
       "1  {'k': 20, 'min_k': 3, 'sim_options': {'name': ...       20            3   \n",
       "2  {'k': 20, 'min_k': 3, 'sim_options': {'name': ...       20            3   \n",
       "3  {'k': 20, 'min_k': 6, 'sim_options': {'name': ...       20            6   \n",
       "4  {'k': 20, 'min_k': 6, 'sim_options': {'name': ...       20            6   \n",
       "\n",
       "                         param_sim_options  \n",
       "0      {'name': 'msd', 'user_based': True}  \n",
       "1   {'name': 'cosine', 'user_based': True}  \n",
       "2  {'name': 'pearson', 'user_based': True}  \n",
       "3      {'name': 'msd', 'user_based': True}  \n",
       "4   {'name': 'cosine', 'user_based': True}  "
      ]
     },
     "execution_count": 28,
     "metadata": {},
     "output_type": "execute_result"
    }
   ],
   "source": [
    "results_df = pd.DataFrame.from_dict(grid_obj.cv_results)\n",
    "results_df.head()"
   ]
  },
  {
   "cell_type": "markdown",
   "id": "e3126806",
   "metadata": {
    "id": "NHWgxu_YnVNG",
    "papermill": {
     "duration": 0.037574,
     "end_time": "2022-09-06T05:52:39.812483",
     "exception": false,
     "start_time": "2022-09-06T05:52:39.774909",
     "status": "completed"
    },
    "tags": []
   },
   "source": [
    "Now we will building final model by using tuned values of the hyperparameters which we received by using grid search cross validation"
   ]
  },
  {
   "cell_type": "code",
   "execution_count": 29,
   "id": "b14dc51e",
   "metadata": {
    "execution": {
     "iopub.execute_input": "2022-09-06T05:52:39.888975Z",
     "iopub.status.busy": "2022-09-06T05:52:39.888157Z",
     "iopub.status.idle": "2022-09-06T05:52:41.486166Z",
     "shell.execute_reply": "2022-09-06T05:52:41.484946Z"
    },
    "id": "PujRJA8X_JEJ",
    "outputId": "53649c57-ab7a-4432-9fea-1b427bbf65ea",
    "papermill": {
     "duration": 1.639132,
     "end_time": "2022-09-06T05:52:41.488882",
     "exception": false,
     "start_time": "2022-09-06T05:52:39.849750",
     "status": "completed"
    },
    "tags": []
   },
   "outputs": [
    {
     "name": "stdout",
     "output_type": "stream",
     "text": [
      "RMSE: 0.9571\n"
     ]
    },
    {
     "data": {
      "text/plain": [
       "0.9571445417153293"
      ]
     },
     "execution_count": 29,
     "metadata": {},
     "output_type": "execute_result"
    }
   ],
   "source": [
    "sim_options = {'name': 'msd',\n",
    "               'user_based': True}\n",
    "# using the optimal similarity measure for user-user based collaborative filtering\n",
    "# creating an instance of KNNBasic with optimal hyperparameter values\n",
    "similarity_algo_optimized_user = KNNBasic(sim_options=sim_options, k=20, min_k=3,verbose=False)\n",
    "\n",
    "# training the algorithm on the trainset\n",
    "similarity_algo_optimized_user.fit(trainset)\n",
    "\n",
    "# predicting ratings for the testset\n",
    "predictions = similarity_algo_optimized_user.test(testset)\n",
    "\n",
    "# computing RMSE on testset\n",
    "accuracy.rmse(predictions)"
   ]
  },
  {
   "cell_type": "markdown",
   "id": "209c3a52",
   "metadata": {
    "id": "YA37vQ6qnVNG",
    "papermill": {
     "duration": 0.047677,
     "end_time": "2022-09-06T05:52:41.582621",
     "exception": false,
     "start_time": "2022-09-06T05:52:41.534944",
     "status": "completed"
    },
    "tags": []
   },
   "source": [
    "**Through changing the name similarity option to mdf, k to 20 and min_k to 3, The RMSE go from 0.9925 to 0.9571 which improved the result a lot**"
   ]
  },
  {
   "cell_type": "markdown",
   "id": "a5ba1e6a",
   "metadata": {
    "id": "3gZQybgVwIB1",
    "papermill": {
     "duration": 0.036315,
     "end_time": "2022-09-06T05:52:41.656256",
     "exception": false,
     "start_time": "2022-09-06T05:52:41.619941",
     "status": "completed"
    },
    "tags": []
   },
   "source": [
    "#### What is the Predicted rating for an user with userId =4 and for movieId= 10 and movieId=3 using tuned user based collaborative filtering? "
   ]
  },
  {
   "cell_type": "markdown",
   "id": "bd5a3211",
   "metadata": {
    "id": "YhcAXK0CnVNG",
    "papermill": {
     "duration": 0.037981,
     "end_time": "2022-09-06T05:52:41.731941",
     "exception": false,
     "start_time": "2022-09-06T05:52:41.693960",
     "status": "completed"
    },
    "tags": []
   },
   "source": [
    "#### Let's us now predict rating for an user with `userId=4` and for `movieId=10` with the optimized model"
   ]
  },
  {
   "cell_type": "code",
   "execution_count": 30,
   "id": "27423755",
   "metadata": {
    "execution": {
     "iopub.execute_input": "2022-09-06T05:52:41.808866Z",
     "iopub.status.busy": "2022-09-06T05:52:41.808034Z",
     "iopub.status.idle": "2022-09-06T05:52:41.818040Z",
     "shell.execute_reply": "2022-09-06T05:52:41.816717Z"
    },
    "id": "FgV63lHiq1TV",
    "outputId": "2b081273-144d-4d3c-8426-0afcab635f23",
    "papermill": {
     "duration": 0.051145,
     "end_time": "2022-09-06T05:52:41.820647",
     "exception": false,
     "start_time": "2022-09-06T05:52:41.769502",
     "status": "completed"
    },
    "tags": []
   },
   "outputs": [
    {
     "name": "stdout",
     "output_type": "stream",
     "text": [
      "user: 4          item: 10         r_ui = 4.00   est = 3.74   {'actual_k': 20, 'was_impossible': False}\n"
     ]
    },
    {
     "data": {
      "text/plain": [
       "Prediction(uid=4, iid=10, r_ui=4, est=3.740028692988536, details={'actual_k': 20, 'was_impossible': False})"
      ]
     },
     "execution_count": 30,
     "metadata": {},
     "output_type": "execute_result"
    }
   ],
   "source": [
    "similarity_algo_optimized_user.predict(4,10, r_ui=4, verbose=True)"
   ]
  },
  {
   "cell_type": "markdown",
   "id": "6392b4bb",
   "metadata": {
    "id": "AMBeqeUtnVNG",
    "papermill": {
     "duration": 0.038195,
     "end_time": "2022-09-06T05:52:41.896791",
     "exception": false,
     "start_time": "2022-09-06T05:52:41.858596",
     "status": "completed"
    },
    "tags": []
   },
   "source": [
    "**Here, the prediction value is 3.74, and the preious is 3.64, where is true value is 4. This proved that the prediction is getting better **"
   ]
  },
  {
   "cell_type": "markdown",
   "id": "d2409f0d",
   "metadata": {
    "id": "P1JLqz6mnVNH",
    "papermill": {
     "duration": 0.037721,
     "end_time": "2022-09-06T05:52:41.971982",
     "exception": false,
     "start_time": "2022-09-06T05:52:41.934261",
     "status": "completed"
    },
    "tags": []
   },
   "source": [
    "Below we are predicting rating for the same `userId=4` but for a movie which this user has not interacted before i.e. `movieId=3`, by using the optimized model as shown below - "
   ]
  },
  {
   "cell_type": "code",
   "execution_count": 31,
   "id": "ab73c7c3",
   "metadata": {
    "execution": {
     "iopub.execute_input": "2022-09-06T05:52:42.052243Z",
     "iopub.status.busy": "2022-09-06T05:52:42.051485Z",
     "iopub.status.idle": "2022-09-06T05:52:42.061000Z",
     "shell.execute_reply": "2022-09-06T05:52:42.059575Z"
    },
    "id": "HXO2Ztjhq1bN",
    "outputId": "d5938534-18d2-4d6c-9805-1428f2efe136",
    "papermill": {
     "duration": 0.054135,
     "end_time": "2022-09-06T05:52:42.064329",
     "exception": false,
     "start_time": "2022-09-06T05:52:42.010194",
     "status": "completed"
    },
    "tags": []
   },
   "outputs": [
    {
     "name": "stdout",
     "output_type": "stream",
     "text": [
      "user: 4          item: 3          r_ui = None   est = 3.72   {'actual_k': 20, 'was_impossible': False}\n"
     ]
    },
    {
     "data": {
      "text/plain": [
       "Prediction(uid=4, iid=3, r_ui=None, est=3.7228745701935386, details={'actual_k': 20, 'was_impossible': False})"
      ]
     },
     "execution_count": 31,
     "metadata": {},
     "output_type": "execute_result"
    }
   ],
   "source": [
    "similarity_algo_optimized_user.predict(4,3, verbose=True)"
   ]
  },
  {
   "cell_type": "markdown",
   "id": "1c6df20b",
   "metadata": {
    "id": "PN_tYvepnVNH",
    "papermill": {
     "duration": 0.037637,
     "end_time": "2022-09-06T05:52:42.139257",
     "exception": false,
     "start_time": "2022-09-06T05:52:42.101620",
     "status": "completed"
    },
    "tags": []
   },
   "source": [
    "**Here, the prediction is 3.722, which suggest that the true value is around 3.722 and with improved result, the prediction increase from 3.2 to 3.7**"
   ]
  },
  {
   "cell_type": "markdown",
   "id": "ae33199e",
   "metadata": {
    "id": "o2QsfqhanVNH",
    "papermill": {
     "duration": 0.036611,
     "end_time": "2022-09-06T05:52:42.212946",
     "exception": false,
     "start_time": "2022-09-06T05:52:42.176335",
     "status": "completed"
    },
    "tags": []
   },
   "source": [
    "#### Identifying similar users to a given user (nearest neighbors)\n",
    "We can also find out the similar users to a given user or its nearest neighbors based on this KNNBasic algorithm. Below we are finding 5 most similar user to the `userId=4` based on the `msd` distance metric"
   ]
  },
  {
   "cell_type": "code",
   "execution_count": 32,
   "id": "74a9a54d",
   "metadata": {
    "execution": {
     "iopub.execute_input": "2022-09-06T05:52:42.290149Z",
     "iopub.status.busy": "2022-09-06T05:52:42.288929Z",
     "iopub.status.idle": "2022-09-06T05:52:42.297445Z",
     "shell.execute_reply": "2022-09-06T05:52:42.296530Z"
    },
    "id": "evkmTb6P5HYO",
    "outputId": "0fc859ba-99ca-4fc9-f9e9-da25e7a2e586",
    "papermill": {
     "duration": 0.049582,
     "end_time": "2022-09-06T05:52:42.299723",
     "exception": false,
     "start_time": "2022-09-06T05:52:42.250141",
     "status": "completed"
    },
    "tags": []
   },
   "outputs": [
    {
     "data": {
      "text/plain": [
       "[665, 417, 647, 654, 260]"
      ]
     },
     "execution_count": 32,
     "metadata": {},
     "output_type": "execute_result"
    }
   ],
   "source": [
    "similarity_algo_optimized_user.get_neighbors(4, k=5)"
   ]
  },
  {
   "cell_type": "markdown",
   "id": "94f052a2",
   "metadata": {
    "id": "Z0NsrX_anVNH",
    "papermill": {
     "duration": 0.036943,
     "end_time": "2022-09-06T05:52:42.373715",
     "exception": false,
     "start_time": "2022-09-06T05:52:42.336772",
     "status": "completed"
    },
    "tags": []
   },
   "source": [
    "#### Implementing the recommendation algorithm based on optimized KNNBasic model"
   ]
  },
  {
   "cell_type": "markdown",
   "id": "ae6cfc3f",
   "metadata": {
    "id": "U3ESobDynVNI",
    "papermill": {
     "duration": 0.036866,
     "end_time": "2022-09-06T05:52:42.448073",
     "exception": false,
     "start_time": "2022-09-06T05:52:42.411207",
     "status": "completed"
    },
    "tags": []
   },
   "source": [
    "Below we will be implementing a function where the input parameters are - \n",
    "\n",
    "- data: a rating dataset\n",
    "- user_id: an user id against which we want the recommendations\n",
    "- top_n: the number of movies we want to recommend\n",
    "- algo: the algorithm we want to use to predict the ratings"
   ]
  },
  {
   "cell_type": "code",
   "execution_count": 33,
   "id": "4db6ec76",
   "metadata": {
    "execution": {
     "iopub.execute_input": "2022-09-06T05:52:42.525993Z",
     "iopub.status.busy": "2022-09-06T05:52:42.525179Z",
     "iopub.status.idle": "2022-09-06T05:52:42.533509Z",
     "shell.execute_reply": "2022-09-06T05:52:42.532694Z"
    },
    "id": "vW9V1Tk65HlY",
    "papermill": {
     "duration": 0.050236,
     "end_time": "2022-09-06T05:52:42.535931",
     "exception": false,
     "start_time": "2022-09-06T05:52:42.485695",
     "status": "completed"
    },
    "tags": []
   },
   "outputs": [],
   "source": [
    "def get_recommendations(data, user_id, top_n, algo):\n",
    "    \n",
    "    # creating an empty list to store the recommended movie ids\n",
    "    recommendations = []\n",
    "    \n",
    "    # creating an user item interactions matrix \n",
    "    user_item_interactions_matrix = data.pivot(index='userId', columns='movieId', values='rating')\n",
    "    \n",
    "    # extracting those movie ids which the user_id has not interacted yet\n",
    "    non_interacted_movies = user_item_interactions_matrix.loc[user_id][user_item_interactions_matrix.loc[user_id].isnull()].index.tolist()\n",
    "    \n",
    "    # looping through each of the movie id which user_id has not interacted yet\n",
    "    for item_id in non_interacted_movies:\n",
    "        \n",
    "        # predicting the ratings for those non interacted movie ids by this user\n",
    "        est = algo.predict(user_id, item_id).est\n",
    "        \n",
    "        # appending the predicted ratings\n",
    "        recommendations.append((item_id, est))\n",
    "\n",
    "    # sorting the predicted ratings in descending order\n",
    "    recommendations.sort(key=lambda x: x[1], reverse=True)\n",
    "\n",
    "    return recommendations[:top_n] # returing top n highest predicted rating movies for this user"
   ]
  },
  {
   "cell_type": "markdown",
   "id": "ceba7a4d",
   "metadata": {
    "id": "Oj_S7kh4nVNI",
    "papermill": {
     "duration": 0.037534,
     "end_time": "2022-09-06T05:52:42.611698",
     "exception": false,
     "start_time": "2022-09-06T05:52:42.574164",
     "status": "completed"
    },
    "tags": []
   },
   "source": [
    "#### Predicted top 5 movies for userId=4 with similarity based recommendation system"
   ]
  },
  {
   "cell_type": "code",
   "execution_count": 34,
   "id": "fd606483",
   "metadata": {
    "execution": {
     "iopub.execute_input": "2022-09-06T05:52:42.689075Z",
     "iopub.status.busy": "2022-09-06T05:52:42.688615Z",
     "iopub.status.idle": "2022-09-06T05:52:42.939939Z",
     "shell.execute_reply": "2022-09-06T05:52:42.938579Z"
    },
    "id": "qWbR85mI5Hrk",
    "papermill": {
     "duration": 0.293113,
     "end_time": "2022-09-06T05:52:42.942819",
     "exception": false,
     "start_time": "2022-09-06T05:52:42.649706",
     "status": "completed"
    },
    "tags": []
   },
   "outputs": [],
   "source": [
    "recommendations = get_recommendations(rating, 4, 5, similarity_algo_optimized_user)"
   ]
  },
  {
   "cell_type": "markdown",
   "id": "f3adba1a",
   "metadata": {
    "id": "33GchLEiwICA",
    "papermill": {
     "duration": 0.038951,
     "end_time": "2022-09-06T05:52:43.019458",
     "exception": false,
     "start_time": "2022-09-06T05:52:42.980507",
     "status": "completed"
    },
    "tags": []
   },
   "source": [
    "#### Predict the top 5 movies for userId=4 with similarity based recommendation system "
   ]
  },
  {
   "cell_type": "code",
   "execution_count": 35,
   "id": "3d5f6ad6",
   "metadata": {
    "execution": {
     "iopub.execute_input": "2022-09-06T05:52:43.099086Z",
     "iopub.status.busy": "2022-09-06T05:52:43.098291Z",
     "iopub.status.idle": "2022-09-06T05:52:43.104526Z",
     "shell.execute_reply": "2022-09-06T05:52:43.103716Z"
    },
    "id": "b5WfIX0Z6_q2",
    "outputId": "71657dab-95d4-482d-996d-33ab8c99c955",
    "papermill": {
     "duration": 0.049335,
     "end_time": "2022-09-06T05:52:43.106543",
     "exception": false,
     "start_time": "2022-09-06T05:52:43.057208",
     "status": "completed"
    },
    "tags": []
   },
   "outputs": [
    {
     "data": {
      "text/plain": [
       "[(309, 5),\n",
       " (3038, 5),\n",
       " (6273, 4.928202652354184),\n",
       " (98491, 4.863224466679252),\n",
       " (2721, 4.845513973527148)]"
      ]
     },
     "execution_count": 35,
     "metadata": {},
     "output_type": "execute_result"
    }
   ],
   "source": [
    "recommendations"
   ]
  },
  {
   "cell_type": "markdown",
   "id": "01b39f2d",
   "metadata": {
    "id": "pqm4J6aQwICB",
    "papermill": {
     "duration": 0.037793,
     "end_time": "2022-09-06T05:52:43.182266",
     "exception": false,
     "start_time": "2022-09-06T05:52:43.144473",
     "status": "completed"
    },
    "tags": []
   },
   "source": [
    "### Model 3 Item based Collaborative Filtering Recommendation System "
   ]
  },
  {
   "cell_type": "code",
   "execution_count": 36,
   "id": "b607a82b",
   "metadata": {
    "execution": {
     "iopub.execute_input": "2022-09-06T05:52:43.261155Z",
     "iopub.status.busy": "2022-09-06T05:52:43.260686Z",
     "iopub.status.idle": "2022-09-06T05:53:09.936567Z",
     "shell.execute_reply": "2022-09-06T05:53:09.935043Z"
    },
    "id": "fa8W64l5wICB",
    "outputId": "80000891-6eee-4243-949a-3c59753fd5a7",
    "papermill": {
     "duration": 26.719058,
     "end_time": "2022-09-06T05:53:09.939245",
     "exception": false,
     "start_time": "2022-09-06T05:52:43.220187",
     "status": "completed"
    },
    "tags": []
   },
   "outputs": [
    {
     "name": "stdout",
     "output_type": "stream",
     "text": [
      "RMSE: 1.0032\n"
     ]
    },
    {
     "data": {
      "text/plain": [
       "1.003221450633729"
      ]
     },
     "execution_count": 36,
     "metadata": {},
     "output_type": "execute_result"
    }
   ],
   "source": [
    "#definfing similarity measure\n",
    "sim_options = {'name': 'cosine',\n",
    "               'user_based': False}\n",
    "\n",
    "#defining Nearest neighbour algorithm\n",
    "algo_knn_item = KNNBasic(sim_options=sim_options,verbose=False)\n",
    "\n",
    "# Train the algorithm on the trainset or fitting the model on train dataset \n",
    "algo_knn_item.fit(trainset)\n",
    "\n",
    "#predict ratings for the testset\n",
    "predictions = algo_knn_item.test(testset)\n",
    "\n",
    "# Then compute RMSE\n",
    "accuracy.rmse(predictions)"
   ]
  },
  {
   "cell_type": "markdown",
   "id": "1f73aca1",
   "metadata": {
    "id": "oW6HXjoVwICC",
    "papermill": {
     "duration": 0.038367,
     "end_time": "2022-09-06T05:53:10.015833",
     "exception": false,
     "start_time": "2022-09-06T05:53:09.977466",
     "status": "completed"
    },
    "tags": []
   },
   "source": [
    "#### What is the RMSE for baseline item based collaborative filtering recommendation system "
   ]
  },
  {
   "cell_type": "markdown",
   "id": "82f58c77",
   "metadata": {
    "id": "dsagkpFDwICD",
    "papermill": {
     "duration": 0.038089,
     "end_time": "2022-09-06T05:53:10.091611",
     "exception": false,
     "start_time": "2022-09-06T05:53:10.053522",
     "status": "completed"
    },
    "tags": []
   },
   "source": [
    "**Write your Answer here: The RMSE is 1.0032_**\n",
    "\n",
    "#### Let's us now predict rating for an user with `userId=4` and for `movieId=10`"
   ]
  },
  {
   "cell_type": "markdown",
   "id": "6f3ca425",
   "metadata": {
    "id": "egyW6VMYwICD",
    "papermill": {
     "duration": 0.037437,
     "end_time": "2022-09-06T05:53:10.167453",
     "exception": false,
     "start_time": "2022-09-06T05:53:10.130016",
     "status": "completed"
    },
    "tags": []
   },
   "source": [
    "#### What is the Predicted  rating for an user with userId =4 and for movieId= 10 and movieId=3? "
   ]
  },
  {
   "cell_type": "code",
   "execution_count": 37,
   "id": "92638df3",
   "metadata": {
    "execution": {
     "iopub.execute_input": "2022-09-06T05:53:10.246342Z",
     "iopub.status.busy": "2022-09-06T05:53:10.245906Z",
     "iopub.status.idle": "2022-09-06T05:53:10.256196Z",
     "shell.execute_reply": "2022-09-06T05:53:10.254303Z"
    },
    "id": "RmzxmaDbwICE",
    "outputId": "057a4586-e940-4666-eddc-efed0be90208",
    "papermill": {
     "duration": 0.052954,
     "end_time": "2022-09-06T05:53:10.258673",
     "exception": false,
     "start_time": "2022-09-06T05:53:10.205719",
     "status": "completed"
    },
    "scrolled": true,
    "tags": []
   },
   "outputs": [
    {
     "name": "stdout",
     "output_type": "stream",
     "text": [
      "user: 4          item: 10         r_ui = 4.00   est = 4.37   {'actual_k': 40, 'was_impossible': False}\n"
     ]
    },
    {
     "data": {
      "text/plain": [
       "Prediction(uid=4, iid=10, r_ui=4, est=4.373794871885004, details={'actual_k': 40, 'was_impossible': False})"
      ]
     },
     "execution_count": 37,
     "metadata": {},
     "output_type": "execute_result"
    }
   ],
   "source": [
    "algo_knn_item.predict(4,10, r_ui=4, verbose=True)"
   ]
  },
  {
   "cell_type": "markdown",
   "id": "4c749f64",
   "metadata": {
    "id": "fyPeJdK6wICF",
    "papermill": {
     "duration": 0.038313,
     "end_time": "2022-09-06T05:53:10.336061",
     "exception": false,
     "start_time": "2022-09-06T05:53:10.297748",
     "status": "completed"
    },
    "tags": []
   },
   "source": [
    "**Write your Answer here: 4.37 is the predicted value while the true is 4**"
   ]
  },
  {
   "cell_type": "markdown",
   "id": "37ef98c3",
   "metadata": {
    "id": "CTSx7Wl5wICG",
    "papermill": {
     "duration": 0.037916,
     "end_time": "2022-09-06T05:53:10.411534",
     "exception": false,
     "start_time": "2022-09-06T05:53:10.373618",
     "status": "completed"
    },
    "tags": []
   },
   "source": [
    "#### Let's predict  the rating for the same `userId=4` but for a movie which this user has not interacted before i.e. `movieId=3`"
   ]
  },
  {
   "cell_type": "code",
   "execution_count": 38,
   "id": "760257ff",
   "metadata": {
    "execution": {
     "iopub.execute_input": "2022-09-06T05:53:10.490186Z",
     "iopub.status.busy": "2022-09-06T05:53:10.489760Z",
     "iopub.status.idle": "2022-09-06T05:53:10.496910Z",
     "shell.execute_reply": "2022-09-06T05:53:10.496049Z"
    },
    "id": "-l8G1XG5wICG",
    "outputId": "0061c20b-bcfd-4216-fc31-4595afe6dbc5",
    "papermill": {
     "duration": 0.04992,
     "end_time": "2022-09-06T05:53:10.500325",
     "exception": false,
     "start_time": "2022-09-06T05:53:10.450405",
     "status": "completed"
    },
    "tags": []
   },
   "outputs": [
    {
     "name": "stdout",
     "output_type": "stream",
     "text": [
      "user: 4          item: 3          r_ui = None   est = 4.07   {'actual_k': 40, 'was_impossible': False}\n"
     ]
    },
    {
     "data": {
      "text/plain": [
       "Prediction(uid=4, iid=3, r_ui=None, est=4.071601862880049, details={'actual_k': 40, 'was_impossible': False})"
      ]
     },
     "execution_count": 38,
     "metadata": {},
     "output_type": "execute_result"
    }
   ],
   "source": [
    "algo_knn_item.predict(4,3, verbose=True)"
   ]
  },
  {
   "cell_type": "markdown",
   "id": "8954a060",
   "metadata": {
    "id": "WKqI9IyhwICH",
    "papermill": {
     "duration": 0.037803,
     "end_time": "2022-09-06T05:53:10.576449",
     "exception": false,
     "start_time": "2022-09-06T05:53:10.538646",
     "status": "completed"
    },
    "tags": []
   },
   "source": [
    "**Write your Answer here: The prediction is 4.07 whicle the true is unknown**"
   ]
  },
  {
   "cell_type": "markdown",
   "id": "fb342096",
   "metadata": {
    "id": "utHBZ67JwICI",
    "papermill": {
     "duration": 0.039065,
     "end_time": "2022-09-06T05:53:10.654769",
     "exception": false,
     "start_time": "2022-09-06T05:53:10.615704",
     "status": "completed"
    },
    "tags": []
   },
   "source": [
    "#### Perform hyperparameter tuning for the baseline item based collaborative filtering recommendation system and find the RMSE for tuned item based collaborative filtering recommendation system? "
   ]
  },
  {
   "cell_type": "code",
   "execution_count": 39,
   "id": "b25dc9e1",
   "metadata": {
    "execution": {
     "iopub.execute_input": "2022-09-06T05:53:10.733181Z",
     "iopub.status.busy": "2022-09-06T05:53:10.732700Z",
     "iopub.status.idle": "2022-09-06T05:54:47.489841Z",
     "shell.execute_reply": "2022-09-06T05:54:47.488100Z"
    },
    "id": "0ZmIvW--wICJ",
    "outputId": "53962d6c-10a0-4188-ac9a-b521d08be95c",
    "papermill": {
     "duration": 96.83935,
     "end_time": "2022-09-06T05:54:47.532067",
     "exception": false,
     "start_time": "2022-09-06T05:53:10.692717",
     "status": "completed"
    },
    "tags": []
   },
   "outputs": [
    {
     "name": "stdout",
     "output_type": "stream",
     "text": [
      "0.9433642421606642\n",
      "{'k': 30, 'min_k': 3, 'sim_options': {'name': 'msd', 'user_based': False}}\n"
     ]
    }
   ],
   "source": [
    "# setting up parameter grid to tune the hyperparameters\n",
    "param_grid = {'k': [20, 30], 'min_k': [3],'sim_options': {'name': ['msd', 'cosine',],'user_based': [False]}}\n",
    "\n",
    "# performing 3-fold cross validation to tune the hyperparameters\n",
    "grid_obj = GridSearchCV(KNNBasic, param_grid, measures=['rmse', 'mae'], cv=3, n_jobs=-1)\n",
    "\n",
    "# fitting the data\n",
    "grid_obj.fit(data)\n",
    "\n",
    "# best RMSE score\n",
    "print(grid_obj.best_score['rmse'])\n",
    "\n",
    "# combination of parameters that gave the best RMSE score\n",
    "print(grid_obj.best_params['rmse'])"
   ]
  },
  {
   "cell_type": "markdown",
   "id": "ffa092bc",
   "metadata": {
    "id": "_uAej6IMwICK",
    "papermill": {
     "duration": 0.037101,
     "end_time": "2022-09-06T05:54:47.607256",
     "exception": false,
     "start_time": "2022-09-06T05:54:47.570155",
     "status": "completed"
    },
    "tags": []
   },
   "source": [
    "Once the grid search is complete, we can get the optimal values for each of those hyperparameters as shown above:"
   ]
  },
  {
   "cell_type": "markdown",
   "id": "2eaf28ba",
   "metadata": {
    "id": "2W3LQWA9wICK",
    "papermill": {
     "duration": 0.037717,
     "end_time": "2022-09-06T05:54:47.682689",
     "exception": false,
     "start_time": "2022-09-06T05:54:47.644972",
     "status": "completed"
    },
    "tags": []
   },
   "source": [
    "Below we are analysing evaluation metrics - RMSE and MAE at each and every split to analyze the impact of each value of hyperparameters"
   ]
  },
  {
   "cell_type": "code",
   "execution_count": 40,
   "id": "61a39dbf",
   "metadata": {
    "execution": {
     "iopub.execute_input": "2022-09-06T05:54:47.760535Z",
     "iopub.status.busy": "2022-09-06T05:54:47.759704Z",
     "iopub.status.idle": "2022-09-06T05:54:47.787420Z",
     "shell.execute_reply": "2022-09-06T05:54:47.786158Z"
    },
    "id": "ITKMae3LwICL",
    "outputId": "e2067a0a-ed00-46a3-8890-1aa813ea33e6",
    "papermill": {
     "duration": 0.069682,
     "end_time": "2022-09-06T05:54:47.790101",
     "exception": false,
     "start_time": "2022-09-06T05:54:47.720419",
     "status": "completed"
    },
    "tags": []
   },
   "outputs": [
    {
     "data": {
      "text/html": [
       "<div>\n",
       "<style scoped>\n",
       "    .dataframe tbody tr th:only-of-type {\n",
       "        vertical-align: middle;\n",
       "    }\n",
       "\n",
       "    .dataframe tbody tr th {\n",
       "        vertical-align: top;\n",
       "    }\n",
       "\n",
       "    .dataframe thead th {\n",
       "        text-align: right;\n",
       "    }\n",
       "</style>\n",
       "<table border=\"1\" class=\"dataframe\">\n",
       "  <thead>\n",
       "    <tr style=\"text-align: right;\">\n",
       "      <th></th>\n",
       "      <th>split0_test_rmse</th>\n",
       "      <th>split1_test_rmse</th>\n",
       "      <th>split2_test_rmse</th>\n",
       "      <th>mean_test_rmse</th>\n",
       "      <th>std_test_rmse</th>\n",
       "      <th>rank_test_rmse</th>\n",
       "      <th>split0_test_mae</th>\n",
       "      <th>split1_test_mae</th>\n",
       "      <th>split2_test_mae</th>\n",
       "      <th>mean_test_mae</th>\n",
       "      <th>std_test_mae</th>\n",
       "      <th>rank_test_mae</th>\n",
       "      <th>mean_fit_time</th>\n",
       "      <th>std_fit_time</th>\n",
       "      <th>mean_test_time</th>\n",
       "      <th>std_test_time</th>\n",
       "      <th>params</th>\n",
       "      <th>param_k</th>\n",
       "      <th>param_min_k</th>\n",
       "      <th>param_sim_options</th>\n",
       "    </tr>\n",
       "  </thead>\n",
       "  <tbody>\n",
       "    <tr>\n",
       "      <th>0</th>\n",
       "      <td>0.949227</td>\n",
       "      <td>0.945805</td>\n",
       "      <td>0.955866</td>\n",
       "      <td>0.950299</td>\n",
       "      <td>0.004177</td>\n",
       "      <td>2</td>\n",
       "      <td>0.733352</td>\n",
       "      <td>0.731099</td>\n",
       "      <td>0.736767</td>\n",
       "      <td>0.733739</td>\n",
       "      <td>0.002330</td>\n",
       "      <td>2</td>\n",
       "      <td>5.800590</td>\n",
       "      <td>0.793815</td>\n",
       "      <td>13.823437</td>\n",
       "      <td>0.080307</td>\n",
       "      <td>{'k': 20, 'min_k': 3, 'sim_options': {'name': ...</td>\n",
       "      <td>20</td>\n",
       "      <td>3</td>\n",
       "      <td>{'name': 'msd', 'user_based': False}</td>\n",
       "    </tr>\n",
       "    <tr>\n",
       "      <th>1</th>\n",
       "      <td>1.015026</td>\n",
       "      <td>1.008087</td>\n",
       "      <td>1.016194</td>\n",
       "      <td>1.013103</td>\n",
       "      <td>0.003578</td>\n",
       "      <td>4</td>\n",
       "      <td>0.791336</td>\n",
       "      <td>0.788100</td>\n",
       "      <td>0.791864</td>\n",
       "      <td>0.790434</td>\n",
       "      <td>0.001664</td>\n",
       "      <td>4</td>\n",
       "      <td>24.263032</td>\n",
       "      <td>0.339185</td>\n",
       "      <td>13.311135</td>\n",
       "      <td>0.829095</td>\n",
       "      <td>{'k': 20, 'min_k': 3, 'sim_options': {'name': ...</td>\n",
       "      <td>20</td>\n",
       "      <td>3</td>\n",
       "      <td>{'name': 'cosine', 'user_based': False}</td>\n",
       "    </tr>\n",
       "    <tr>\n",
       "      <th>2</th>\n",
       "      <td>0.942138</td>\n",
       "      <td>0.939919</td>\n",
       "      <td>0.948036</td>\n",
       "      <td>0.943364</td>\n",
       "      <td>0.003425</td>\n",
       "      <td>1</td>\n",
       "      <td>0.727773</td>\n",
       "      <td>0.725677</td>\n",
       "      <td>0.729865</td>\n",
       "      <td>0.727772</td>\n",
       "      <td>0.001710</td>\n",
       "      <td>1</td>\n",
       "      <td>7.200039</td>\n",
       "      <td>0.610443</td>\n",
       "      <td>15.130399</td>\n",
       "      <td>0.266828</td>\n",
       "      <td>{'k': 30, 'min_k': 3, 'sim_options': {'name': ...</td>\n",
       "      <td>30</td>\n",
       "      <td>3</td>\n",
       "      <td>{'name': 'msd', 'user_based': False}</td>\n",
       "    </tr>\n",
       "    <tr>\n",
       "      <th>3</th>\n",
       "      <td>1.001825</td>\n",
       "      <td>0.996405</td>\n",
       "      <td>1.003945</td>\n",
       "      <td>1.000725</td>\n",
       "      <td>0.003175</td>\n",
       "      <td>3</td>\n",
       "      <td>0.780192</td>\n",
       "      <td>0.777169</td>\n",
       "      <td>0.780569</td>\n",
       "      <td>0.779310</td>\n",
       "      <td>0.001522</td>\n",
       "      <td>3</td>\n",
       "      <td>19.739748</td>\n",
       "      <td>2.232966</td>\n",
       "      <td>9.816323</td>\n",
       "      <td>1.445137</td>\n",
       "      <td>{'k': 30, 'min_k': 3, 'sim_options': {'name': ...</td>\n",
       "      <td>30</td>\n",
       "      <td>3</td>\n",
       "      <td>{'name': 'cosine', 'user_based': False}</td>\n",
       "    </tr>\n",
       "  </tbody>\n",
       "</table>\n",
       "</div>"
      ],
      "text/plain": [
       "   split0_test_rmse  split1_test_rmse  split2_test_rmse  mean_test_rmse  \\\n",
       "0          0.949227          0.945805          0.955866        0.950299   \n",
       "1          1.015026          1.008087          1.016194        1.013103   \n",
       "2          0.942138          0.939919          0.948036        0.943364   \n",
       "3          1.001825          0.996405          1.003945        1.000725   \n",
       "\n",
       "   std_test_rmse  rank_test_rmse  split0_test_mae  split1_test_mae  \\\n",
       "0       0.004177               2         0.733352         0.731099   \n",
       "1       0.003578               4         0.791336         0.788100   \n",
       "2       0.003425               1         0.727773         0.725677   \n",
       "3       0.003175               3         0.780192         0.777169   \n",
       "\n",
       "   split2_test_mae  mean_test_mae  std_test_mae  rank_test_mae  mean_fit_time  \\\n",
       "0         0.736767       0.733739      0.002330              2       5.800590   \n",
       "1         0.791864       0.790434      0.001664              4      24.263032   \n",
       "2         0.729865       0.727772      0.001710              1       7.200039   \n",
       "3         0.780569       0.779310      0.001522              3      19.739748   \n",
       "\n",
       "   std_fit_time  mean_test_time  std_test_time  \\\n",
       "0      0.793815       13.823437       0.080307   \n",
       "1      0.339185       13.311135       0.829095   \n",
       "2      0.610443       15.130399       0.266828   \n",
       "3      2.232966        9.816323       1.445137   \n",
       "\n",
       "                                              params  param_k  param_min_k  \\\n",
       "0  {'k': 20, 'min_k': 3, 'sim_options': {'name': ...       20            3   \n",
       "1  {'k': 20, 'min_k': 3, 'sim_options': {'name': ...       20            3   \n",
       "2  {'k': 30, 'min_k': 3, 'sim_options': {'name': ...       30            3   \n",
       "3  {'k': 30, 'min_k': 3, 'sim_options': {'name': ...       30            3   \n",
       "\n",
       "                         param_sim_options  \n",
       "0     {'name': 'msd', 'user_based': False}  \n",
       "1  {'name': 'cosine', 'user_based': False}  \n",
       "2     {'name': 'msd', 'user_based': False}  \n",
       "3  {'name': 'cosine', 'user_based': False}  "
      ]
     },
     "execution_count": 40,
     "metadata": {},
     "output_type": "execute_result"
    }
   ],
   "source": [
    "results_df = pd.DataFrame.from_dict(grid_obj.cv_results)\n",
    "results_df.head()"
   ]
  },
  {
   "cell_type": "code",
   "execution_count": 41,
   "id": "5cbc897b",
   "metadata": {
    "execution": {
     "iopub.execute_input": "2022-09-06T05:54:47.869171Z",
     "iopub.status.busy": "2022-09-06T05:54:47.867654Z",
     "iopub.status.idle": "2022-09-06T05:55:00.356990Z",
     "shell.execute_reply": "2022-09-06T05:55:00.355672Z"
    },
    "id": "46irii4pwICL",
    "outputId": "d3d035de-ffa8-48bf-eb57-f9942603dce4",
    "papermill": {
     "duration": 12.531018,
     "end_time": "2022-09-06T05:55:00.359455",
     "exception": false,
     "start_time": "2022-09-06T05:54:47.828437",
     "status": "completed"
    },
    "tags": []
   },
   "outputs": [
    {
     "name": "stdout",
     "output_type": "stream",
     "text": [
      "RMSE: 0.9468\n"
     ]
    },
    {
     "data": {
      "text/plain": [
       "0.9468088882738848"
      ]
     },
     "execution_count": 41,
     "metadata": {},
     "output_type": "execute_result"
    }
   ],
   "source": [
    "sim_options={'name': 'msd', 'user_based': False}\n",
    "# creating an instance of KNNBasic with optimal hyperparameter values\n",
    "similarity_algo_optimized_item = KNNBasic(sim_options=sim_options, k=30, min_k=3,verbose=False)\n",
    "\n",
    "# training the algorithm on the trainset\n",
    "similarity_algo_optimized_item.fit(trainset)\n",
    "\n",
    "# predicting ratings for the testset\n",
    "predictions = similarity_algo_optimized_item.test(testset)\n",
    "\n",
    "# computing RMSE on testset\n",
    "accuracy.rmse(predictions)"
   ]
  },
  {
   "cell_type": "markdown",
   "id": "9a7eedde",
   "metadata": {
    "id": "OTdrMpQUwICM",
    "papermill": {
     "duration": 0.038364,
     "end_time": "2022-09-06T05:55:00.436026",
     "exception": false,
     "start_time": "2022-09-06T05:55:00.397662",
     "status": "completed"
    },
    "tags": []
   },
   "source": [
    "**After optimization, the result imporved from 1.02 to 0.9468 **"
   ]
  },
  {
   "cell_type": "markdown",
   "id": "9adfdda3",
   "metadata": {
    "id": "tiDcRQDvwICN",
    "papermill": {
     "duration": 0.038618,
     "end_time": "2022-09-06T05:55:00.513496",
     "exception": false,
     "start_time": "2022-09-06T05:55:00.474878",
     "status": "completed"
    },
    "tags": []
   },
   "source": [
    "#### What is the Predicted rating for an item with userId =4 and for movieId= 10 and movieId=3 using tuned item based collaborative filtering? "
   ]
  },
  {
   "cell_type": "markdown",
   "id": "15b04110",
   "metadata": {
    "id": "5IGjjEtpwICN",
    "papermill": {
     "duration": 0.050453,
     "end_time": "2022-09-06T05:55:00.607239",
     "exception": false,
     "start_time": "2022-09-06T05:55:00.556786",
     "status": "completed"
    },
    "tags": []
   },
   "source": [
    "#### Let's us now predict rating for an user with `userId=4` and for `movieId=10` with the optimized model as shown below"
   ]
  },
  {
   "cell_type": "code",
   "execution_count": 42,
   "id": "e11357f7",
   "metadata": {
    "execution": {
     "iopub.execute_input": "2022-09-06T05:55:00.689552Z",
     "iopub.status.busy": "2022-09-06T05:55:00.688808Z",
     "iopub.status.idle": "2022-09-06T05:55:00.697057Z",
     "shell.execute_reply": "2022-09-06T05:55:00.695590Z"
    },
    "id": "Wg8APEG4wICO",
    "outputId": "36d371cf-5065-4771-c335-c9e99d9973e0",
    "papermill": {
     "duration": 0.052609,
     "end_time": "2022-09-06T05:55:00.700107",
     "exception": false,
     "start_time": "2022-09-06T05:55:00.647498",
     "status": "completed"
    },
    "tags": []
   },
   "outputs": [
    {
     "name": "stdout",
     "output_type": "stream",
     "text": [
      "user: 4          item: 10         r_ui = 4.00   est = 4.30   {'actual_k': 30, 'was_impossible': False}\n"
     ]
    },
    {
     "data": {
      "text/plain": [
       "Prediction(uid=4, iid=10, r_ui=4, est=4.298279280483517, details={'actual_k': 30, 'was_impossible': False})"
      ]
     },
     "execution_count": 42,
     "metadata": {},
     "output_type": "execute_result"
    }
   ],
   "source": [
    "similarity_algo_optimized_item.predict(4,10, r_ui=4, verbose=True)"
   ]
  },
  {
   "cell_type": "markdown",
   "id": "54ee9fbf",
   "metadata": {
    "id": "qUXl61_5wICP",
    "papermill": {
     "duration": 0.055117,
     "end_time": "2022-09-06T05:55:00.808266",
     "exception": false,
     "start_time": "2022-09-06T05:55:00.753149",
     "status": "completed"
    },
    "tags": []
   },
   "source": [
    "**Now after optimization, the prediction is 4.3 instead of 4.37, which improved the result "
   ]
  },
  {
   "cell_type": "markdown",
   "id": "c2507a35",
   "metadata": {
    "id": "HDNNs3cqwICP",
    "papermill": {
     "duration": 0.041528,
     "end_time": "2022-09-06T05:55:00.892072",
     "exception": false,
     "start_time": "2022-09-06T05:55:00.850544",
     "status": "completed"
    },
    "tags": []
   },
   "source": [
    "#### predict rating for the same `userId=4` but for a movie which this user has not interacted before i.e. `movieId=3`, by using the optimized model:"
   ]
  },
  {
   "cell_type": "code",
   "execution_count": 43,
   "id": "43ba3e82",
   "metadata": {
    "execution": {
     "iopub.execute_input": "2022-09-06T05:55:00.993178Z",
     "iopub.status.busy": "2022-09-06T05:55:00.992234Z",
     "iopub.status.idle": "2022-09-06T05:55:01.003358Z",
     "shell.execute_reply": "2022-09-06T05:55:01.001954Z"
    },
    "id": "oEew8TwvwICQ",
    "outputId": "d2fbcfee-41f1-47e2-bcbd-07586212ef23",
    "papermill": {
     "duration": 0.065959,
     "end_time": "2022-09-06T05:55:01.006734",
     "exception": false,
     "start_time": "2022-09-06T05:55:00.940775",
     "status": "completed"
    },
    "tags": []
   },
   "outputs": [
    {
     "name": "stdout",
     "output_type": "stream",
     "text": [
      "user: 4          item: 3          r_ui = None   est = 3.86   {'actual_k': 30, 'was_impossible': False}\n"
     ]
    },
    {
     "data": {
      "text/plain": [
       "Prediction(uid=4, iid=3, r_ui=None, est=3.859023126306401, details={'actual_k': 30, 'was_impossible': False})"
      ]
     },
     "execution_count": 43,
     "metadata": {},
     "output_type": "execute_result"
    }
   ],
   "source": [
    "similarity_algo_optimized_item.predict(4, 3, verbose=True)"
   ]
  },
  {
   "cell_type": "markdown",
   "id": "e89af004",
   "metadata": {
    "id": "sTKvXHU0wICR",
    "papermill": {
     "duration": 0.042636,
     "end_time": "2022-09-06T05:55:01.091774",
     "exception": false,
     "start_time": "2022-09-06T05:55:01.049138",
     "status": "completed"
    },
    "tags": []
   },
   "source": [
    "**Here the prediction show 3.8 instead of 4.07**"
   ]
  },
  {
   "cell_type": "markdown",
   "id": "5168904c",
   "metadata": {
    "id": "xquRIW-XwICS",
    "papermill": {
     "duration": 0.043693,
     "end_time": "2022-09-06T05:55:01.179350",
     "exception": false,
     "start_time": "2022-09-06T05:55:01.135657",
     "status": "completed"
    },
    "tags": []
   },
   "source": [
    "#### Identifying similar users to a given user (nearest neighbors)\n",
    "We can also find out the similar users to a given user or its nearest neighbors based on this KNNBasic algorithm. Below we are finding 5 most similar user to the `userId=4` based on the `msd` distance metric"
   ]
  },
  {
   "cell_type": "code",
   "execution_count": 44,
   "id": "7c447176",
   "metadata": {
    "execution": {
     "iopub.execute_input": "2022-09-06T05:55:01.267224Z",
     "iopub.status.busy": "2022-09-06T05:55:01.266354Z",
     "iopub.status.idle": "2022-09-06T05:55:01.283095Z",
     "shell.execute_reply": "2022-09-06T05:55:01.281681Z"
    },
    "id": "b4HbXJv-wICS",
    "outputId": "09d525bb-31f9-44c5-f5d1-866e0bc980a2",
    "papermill": {
     "duration": 0.064524,
     "end_time": "2022-09-06T05:55:01.286079",
     "exception": false,
     "start_time": "2022-09-06T05:55:01.221555",
     "status": "completed"
    },
    "tags": []
   },
   "outputs": [
    {
     "data": {
      "text/plain": [
       "[77, 85, 115, 119, 127]"
      ]
     },
     "execution_count": 44,
     "metadata": {},
     "output_type": "execute_result"
    }
   ],
   "source": [
    "similarity_algo_optimized_item.get_neighbors(4, k=5)"
   ]
  },
  {
   "cell_type": "markdown",
   "id": "83927bf5",
   "metadata": {
    "id": "PI69gPEdwICZ",
    "papermill": {
     "duration": 0.044459,
     "end_time": "2022-09-06T05:55:01.374301",
     "exception": false,
     "start_time": "2022-09-06T05:55:01.329842",
     "status": "completed"
    },
    "tags": []
   },
   "source": [
    "#### Predicted top 5 movies for userId=4 with similarity based recommendation system"
   ]
  },
  {
   "cell_type": "code",
   "execution_count": 45,
   "id": "2edd4026",
   "metadata": {
    "execution": {
     "iopub.execute_input": "2022-09-06T05:55:01.473502Z",
     "iopub.status.busy": "2022-09-06T05:55:01.473073Z",
     "iopub.status.idle": "2022-09-06T05:55:02.832774Z",
     "shell.execute_reply": "2022-09-06T05:55:02.831226Z"
    },
    "id": "RAzdWtCSwICa",
    "papermill": {
     "duration": 1.411946,
     "end_time": "2022-09-06T05:55:02.835673",
     "exception": false,
     "start_time": "2022-09-06T05:55:01.423727",
     "status": "completed"
    },
    "tags": []
   },
   "outputs": [],
   "source": [
    "recommendations = get_recommendations(rating, 4, 5, similarity_algo_optimized_item)"
   ]
  },
  {
   "cell_type": "markdown",
   "id": "01f5778a",
   "metadata": {
    "id": "_cDPuGWcwICb",
    "papermill": {
     "duration": 0.038532,
     "end_time": "2022-09-06T05:55:02.915033",
     "exception": false,
     "start_time": "2022-09-06T05:55:02.876501",
     "status": "completed"
    },
    "tags": []
   },
   "source": [
    "#### Predict the top 5 movies for userId=4 with similarity based recommendation system "
   ]
  },
  {
   "cell_type": "code",
   "execution_count": 46,
   "id": "193e24a0",
   "metadata": {
    "execution": {
     "iopub.execute_input": "2022-09-06T05:55:02.995691Z",
     "iopub.status.busy": "2022-09-06T05:55:02.995304Z",
     "iopub.status.idle": "2022-09-06T05:55:03.002660Z",
     "shell.execute_reply": "2022-09-06T05:55:03.001287Z"
    },
    "id": "kJICKPecwICb",
    "outputId": "eb394d96-e099-49b1-ae29-30293d771379",
    "papermill": {
     "duration": 0.050475,
     "end_time": "2022-09-06T05:55:03.004986",
     "exception": false,
     "start_time": "2022-09-06T05:55:02.954511",
     "status": "completed"
    },
    "tags": []
   },
   "outputs": [
    {
     "data": {
      "text/plain": [
       "[(84, 5), (1040, 5), (2481, 5), (3078, 5), (3116, 5)]"
      ]
     },
     "execution_count": 46,
     "metadata": {},
     "output_type": "execute_result"
    }
   ],
   "source": [
    "recommendations"
   ]
  },
  {
   "cell_type": "markdown",
   "id": "6a8448ce",
   "metadata": {
    "id": "rKgJpSA9vOOL",
    "papermill": {
     "duration": 0.041116,
     "end_time": "2022-09-06T05:55:03.085316",
     "exception": false,
     "start_time": "2022-09-06T05:55:03.044200",
     "status": "completed"
    },
    "tags": []
   },
   "source": [
    "### Model 4 Collaborative Filtering - Matrix Factorization using SVD "
   ]
  },
  {
   "cell_type": "markdown",
   "id": "14363d56",
   "metadata": {
    "id": "YF6ZGyqhCAob",
    "papermill": {
     "duration": 0.039807,
     "end_time": "2022-09-06T05:55:03.165496",
     "exception": false,
     "start_time": "2022-09-06T05:55:03.125689",
     "status": "completed"
    },
    "tags": []
   },
   "source": [
    "Model-based Collaborative Filtering is a **personalized recommendation system**, the recommendations are based on the past behavior of the user and it is not dependent on any additional information. We use **latent features** to find recommendations for each user."
   ]
  },
  {
   "cell_type": "markdown",
   "id": "a616f5a4",
   "metadata": {
    "id": "uxGWVpOMvOOL",
    "papermill": {
     "duration": 0.039901,
     "end_time": "2022-09-06T05:55:03.246558",
     "exception": false,
     "start_time": "2022-09-06T05:55:03.206657",
     "status": "completed"
    },
    "tags": []
   },
   "source": [
    "**Latent Features:** The features that are not present in the empirical data but can be inferred from the data. For example:"
   ]
  },
  {
   "cell_type": "markdown",
   "id": "da8fdb56",
   "metadata": {
    "id": "dplq-n9dvOOL",
    "papermill": {
     "duration": 0.039036,
     "end_time": "2022-09-06T05:55:03.324504",
     "exception": false,
     "start_time": "2022-09-06T05:55:03.285468",
     "status": "completed"
    },
    "tags": []
   },
   "source": [
    "#### Sigma-matrix"
   ]
  },
  {
   "cell_type": "markdown",
   "id": "8b8d9366",
   "metadata": {
    "id": "uOtkUXmAnVNL",
    "papermill": {
     "duration": 0.038562,
     "end_time": "2022-09-06T05:55:03.401807",
     "exception": false,
     "start_time": "2022-09-06T05:55:03.363245",
     "status": "completed"
    },
    "tags": []
   },
   "source": [
    "### Build a baseline matrix factorization recommendation system"
   ]
  },
  {
   "cell_type": "code",
   "execution_count": 47,
   "id": "4cd9f584",
   "metadata": {
    "execution": {
     "iopub.execute_input": "2022-09-06T05:55:03.484100Z",
     "iopub.status.busy": "2022-09-06T05:55:03.483399Z",
     "iopub.status.idle": "2022-09-06T05:55:09.672149Z",
     "shell.execute_reply": "2022-09-06T05:55:09.670160Z"
    },
    "id": "07-2PT5Ssjqm",
    "outputId": "ba7b8a0f-36e9-41cc-8016-e08c1e373709",
    "papermill": {
     "duration": 6.234994,
     "end_time": "2022-09-06T05:55:09.675327",
     "exception": false,
     "start_time": "2022-09-06T05:55:03.440333",
     "status": "completed"
    },
    "tags": []
   },
   "outputs": [
    {
     "name": "stdout",
     "output_type": "stream",
     "text": [
      "RMSE: 0.9016\n"
     ]
    },
    {
     "data": {
      "text/plain": [
       "0.9016127301940615"
      ]
     },
     "execution_count": 47,
     "metadata": {},
     "output_type": "execute_result"
    }
   ],
   "source": [
    "# using SVD matrix factorization\n",
    "algo_svd = SVD()\n",
    "\n",
    "# training the algorithm on the trainset\n",
    "algo_svd.fit(trainset)\n",
    "\n",
    "# predicting ratings for the testset\n",
    "predictions = algo_svd.test(testset)\n",
    "\n",
    "# computing RMSE on the testset\n",
    "accuracy.rmse(predictions)"
   ]
  },
  {
   "cell_type": "markdown",
   "id": "1cdbeabf",
   "metadata": {
    "id": "2271PkTuwICu",
    "papermill": {
     "duration": 0.039767,
     "end_time": "2022-09-06T05:55:09.754686",
     "exception": false,
     "start_time": "2022-09-06T05:55:09.714919",
     "status": "completed"
    },
    "tags": []
   },
   "source": [
    "#### What is the RMSE for baseline SVD based collaborative filtering recommendation system "
   ]
  },
  {
   "cell_type": "markdown",
   "id": "6e80766a",
   "metadata": {
    "id": "BQ6fTuCDnVNL",
    "papermill": {
     "duration": 0.040508,
     "end_time": "2022-09-06T05:55:09.834699",
     "exception": false,
     "start_time": "2022-09-06T05:55:09.794191",
     "status": "completed"
    },
    "tags": []
   },
   "source": [
    "**The svd based filtering has RMSE of 0.9047, which seem to be great**"
   ]
  },
  {
   "cell_type": "markdown",
   "id": "ace8b13b",
   "metadata": {
    "id": "fsBGQrwCwICv",
    "papermill": {
     "duration": 0.03896,
     "end_time": "2022-09-06T05:55:09.912696",
     "exception": false,
     "start_time": "2022-09-06T05:55:09.873736",
     "status": "completed"
    },
    "tags": []
   },
   "source": [
    "#### What is the Predicted  rating for an user with userId =4 and for movieId= 10 and movieId=3? "
   ]
  },
  {
   "cell_type": "markdown",
   "id": "546076f2",
   "metadata": {
    "id": "HD2AU1DnnVNM",
    "papermill": {
     "duration": 0.038822,
     "end_time": "2022-09-06T05:55:09.990809",
     "exception": false,
     "start_time": "2022-09-06T05:55:09.951987",
     "status": "completed"
    },
    "tags": []
   },
   "source": [
    "#### Let's us now predict rating for an user with `userId=4` and for `movieId=10`"
   ]
  },
  {
   "cell_type": "code",
   "execution_count": 48,
   "id": "3f1925c0",
   "metadata": {
    "execution": {
     "iopub.execute_input": "2022-09-06T05:55:10.075040Z",
     "iopub.status.busy": "2022-09-06T05:55:10.074598Z",
     "iopub.status.idle": "2022-09-06T05:55:10.082648Z",
     "shell.execute_reply": "2022-09-06T05:55:10.081674Z"
    },
    "id": "yWIhfdxXsjqm",
    "outputId": "42f1cb0d-accd-430b-eafd-204770c84343",
    "papermill": {
     "duration": 0.054881,
     "end_time": "2022-09-06T05:55:10.087263",
     "exception": false,
     "start_time": "2022-09-06T05:55:10.032382",
     "status": "completed"
    },
    "tags": []
   },
   "outputs": [
    {
     "name": "stdout",
     "output_type": "stream",
     "text": [
      "user: 4          item: 10         r_ui = 4.00   est = 4.08   {'was_impossible': False}\n"
     ]
    },
    {
     "data": {
      "text/plain": [
       "Prediction(uid=4, iid=10, r_ui=4, est=4.079545604317987, details={'was_impossible': False})"
      ]
     },
     "execution_count": 48,
     "metadata": {},
     "output_type": "execute_result"
    }
   ],
   "source": [
    "algo_svd.predict(4, 10, r_ui=4, verbose=True)"
   ]
  },
  {
   "cell_type": "markdown",
   "id": "e0055c08",
   "metadata": {
    "id": "oIjzqDY5nVNM",
    "papermill": {
     "duration": 0.040984,
     "end_time": "2022-09-06T05:55:10.170147",
     "exception": false,
     "start_time": "2022-09-06T05:55:10.129163",
     "status": "completed"
    },
    "tags": []
   },
   "source": [
    "**The prediction is 4.01 which the true is 4, this is a very accurate prediction**"
   ]
  },
  {
   "cell_type": "markdown",
   "id": "c3bb8c67",
   "metadata": {
    "id": "I1aYxVeMnVNM",
    "papermill": {
     "duration": 0.038987,
     "end_time": "2022-09-06T05:55:10.249364",
     "exception": false,
     "start_time": "2022-09-06T05:55:10.210377",
     "status": "completed"
    },
    "tags": []
   },
   "source": [
    "#### Let's predict the rating for the same `userId=4` but for a movie which this user has not interacted before i.e. `movieId=3`:"
   ]
  },
  {
   "cell_type": "code",
   "execution_count": 49,
   "id": "0ed67ca2",
   "metadata": {
    "execution": {
     "iopub.execute_input": "2022-09-06T05:55:10.330149Z",
     "iopub.status.busy": "2022-09-06T05:55:10.329727Z",
     "iopub.status.idle": "2022-09-06T05:55:10.337827Z",
     "shell.execute_reply": "2022-09-06T05:55:10.336393Z"
    },
    "id": "APm-uMSvcAMf",
    "outputId": "5a97a95e-728c-40cf-8cc6-0de7607523b7",
    "papermill": {
     "duration": 0.05162,
     "end_time": "2022-09-06T05:55:10.340507",
     "exception": false,
     "start_time": "2022-09-06T05:55:10.288887",
     "status": "completed"
    },
    "tags": []
   },
   "outputs": [
    {
     "name": "stdout",
     "output_type": "stream",
     "text": [
      "user: 4          item: 3          r_ui = None   est = 3.62   {'was_impossible': False}\n"
     ]
    },
    {
     "data": {
      "text/plain": [
       "Prediction(uid=4, iid=3, r_ui=None, est=3.619286454283346, details={'was_impossible': False})"
      ]
     },
     "execution_count": 49,
     "metadata": {},
     "output_type": "execute_result"
    }
   ],
   "source": [
    "algo_svd.predict(4, 3, verbose=True)"
   ]
  },
  {
   "cell_type": "markdown",
   "id": "ad3a633a",
   "metadata": {
    "id": "NEL6dy3wnVNM",
    "papermill": {
     "duration": 0.039708,
     "end_time": "2022-09-06T05:55:10.420306",
     "exception": false,
     "start_time": "2022-09-06T05:55:10.380598",
     "status": "completed"
    },
    "tags": []
   },
   "source": [
    "**Here, it suggest that the prediction for userid 4 for movie 3 is 3.65**"
   ]
  },
  {
   "cell_type": "markdown",
   "id": "be00e171",
   "metadata": {
    "id": "x13Eb9Owvpcw",
    "papermill": {
     "duration": 0.03855,
     "end_time": "2022-09-06T05:55:10.498293",
     "exception": false,
     "start_time": "2022-09-06T05:55:10.459743",
     "status": "completed"
    },
    "tags": []
   },
   "source": [
    "#### Improving matrix factorization based recommendation system by tuning its hyper-parameters"
   ]
  },
  {
   "cell_type": "markdown",
   "id": "74762459",
   "metadata": {
    "id": "qbd3L1d2nVNM",
    "papermill": {
     "duration": 0.039227,
     "end_time": "2022-09-06T05:55:10.578959",
     "exception": false,
     "start_time": "2022-09-06T05:55:10.539732",
     "status": "completed"
    },
    "tags": []
   },
   "source": [
    "In SVD, rating is predicted as - "
   ]
  },
  {
   "cell_type": "markdown",
   "id": "8258cd55",
   "metadata": {
    "id": "Wp38lmEqnVNM",
    "papermill": {
     "duration": 0.040076,
     "end_time": "2022-09-06T05:55:10.658454",
     "exception": false,
     "start_time": "2022-09-06T05:55:10.618378",
     "status": "completed"
    },
    "tags": []
   },
   "source": [
    "$$\\hat{r}_{u i}=\\mu+b_{u}+b_{i}+q_{i}^{T} p_{u}$$"
   ]
  },
  {
   "cell_type": "markdown",
   "id": "0f0dcbd6",
   "metadata": {
    "id": "bHVAYuFznVNN",
    "papermill": {
     "duration": 0.039783,
     "end_time": "2022-09-06T05:55:10.739611",
     "exception": false,
     "start_time": "2022-09-06T05:55:10.699828",
     "status": "completed"
    },
    "tags": []
   },
   "source": [
    "If user $u$ is unknown, then the bias $b_{u}$ and the factors $p_{u}$ are assumed to be zero. The same applies for item $i$ with $b_{i}$ and $q_{i}$."
   ]
  },
  {
   "cell_type": "markdown",
   "id": "eac1a9b6",
   "metadata": {
    "id": "jCfY5mr7nVNN",
    "papermill": {
     "duration": 0.039406,
     "end_time": "2022-09-06T05:55:10.818768",
     "exception": false,
     "start_time": "2022-09-06T05:55:10.779362",
     "status": "completed"
    },
    "tags": []
   },
   "source": [
    "To estimate all the unknown, we minimize the following regularized squared error:"
   ]
  },
  {
   "cell_type": "markdown",
   "id": "6b6b577c",
   "metadata": {
    "id": "1WyyjmK7nVNN",
    "papermill": {
     "duration": 0.039237,
     "end_time": "2022-09-06T05:55:10.897318",
     "exception": false,
     "start_time": "2022-09-06T05:55:10.858081",
     "status": "completed"
    },
    "tags": []
   },
   "source": [
    "$$\\sum_{r_{u i} \\in R_{\\text {train }}}\\left(r_{u i}-\\hat{r}_{u i}\\right)^{2}+\\lambda\\left(b_{i}^{2}+b_{u}^{2}+\\left\\|q_{i}\\right\\|^{2}+\\left\\|p_{u}\\right\\|^{2}\\right)$$"
   ]
  },
  {
   "cell_type": "markdown",
   "id": "66de08b2",
   "metadata": {
    "id": "-GBMNL9qnVNN",
    "papermill": {
     "duration": 0.041013,
     "end_time": "2022-09-06T05:55:10.978511",
     "exception": false,
     "start_time": "2022-09-06T05:55:10.937498",
     "status": "completed"
    },
    "tags": []
   },
   "source": [
    "The minimization is performed by a very straightforward **stochastic gradient descent**:"
   ]
  },
  {
   "cell_type": "markdown",
   "id": "883a3479",
   "metadata": {
    "id": "CwJJRsJGnVNN",
    "papermill": {
     "duration": 0.039724,
     "end_time": "2022-09-06T05:55:11.059613",
     "exception": false,
     "start_time": "2022-09-06T05:55:11.019889",
     "status": "completed"
    },
    "tags": []
   },
   "source": [
    "$$\\begin{aligned} b_{u} & \\leftarrow b_{u}+\\gamma\\left(e_{u i}-\\lambda b_{u}\\right) \\\\ b_{i} & \\leftarrow b_{i}+\\gamma\\left(e_{u i}-\\lambda b_{i}\\right) \\\\ p_{u} & \\leftarrow p_{u}+\\gamma\\left(e_{u i} \\cdot q_{i}-\\lambda p_{u}\\right) \\\\ q_{i} & \\leftarrow q_{i}+\\gamma\\left(e_{u i} \\cdot p_{u}-\\lambda q_{i}\\right) \\end{aligned}$$"
   ]
  },
  {
   "cell_type": "markdown",
   "id": "1bd4b9e9",
   "metadata": {
    "id": "nuRjcsUknVNN",
    "papermill": {
     "duration": 0.039141,
     "end_time": "2022-09-06T05:55:11.138285",
     "exception": false,
     "start_time": "2022-09-06T05:55:11.099144",
     "status": "completed"
    },
    "tags": []
   },
   "source": [
    "There are many hyperparameters to tune in this algorithm, you can find a full list of hyperparameters [here](https://surprise.readthedocs.io/en/stable/matrix_factorization.html#surprise.prediction_algorithms.matrix_factorization.SVD)"
   ]
  },
  {
   "cell_type": "markdown",
   "id": "d73792b7",
   "metadata": {
    "id": "iQcDPhhcnVNN",
    "papermill": {
     "duration": 0.040005,
     "end_time": "2022-09-06T05:55:11.219340",
     "exception": false,
     "start_time": "2022-09-06T05:55:11.179335",
     "status": "completed"
    },
    "tags": []
   },
   "source": [
    "Below we will be tuning only three hyperparameters -\n",
    "- **n_epochs**: The number of iteration of the SGD algorithm\n",
    "- **lr_all**: The learning rate for all parameters\n",
    "- **reg_all**: The regularization term for all parameters"
   ]
  },
  {
   "cell_type": "markdown",
   "id": "b84db22d",
   "metadata": {
    "id": "ksN4zUnUwIC_",
    "papermill": {
     "duration": 0.039432,
     "end_time": "2022-09-06T05:55:11.298215",
     "exception": false,
     "start_time": "2022-09-06T05:55:11.258783",
     "status": "completed"
    },
    "tags": []
   },
   "source": [
    "#### Perform hyperparameter tuning for the baseline SVD based collaborative filtering recommendation system and find the RMSE for tuned SVD based collaborative filtering recommendation system? "
   ]
  },
  {
   "cell_type": "code",
   "execution_count": 50,
   "id": "ad0dfc92",
   "metadata": {
    "execution": {
     "iopub.execute_input": "2022-09-06T05:55:11.378787Z",
     "iopub.status.busy": "2022-09-06T05:55:11.378216Z",
     "iopub.status.idle": "2022-09-06T05:57:52.577963Z",
     "shell.execute_reply": "2022-09-06T05:57:52.576681Z"
    },
    "id": "4bM81V_hvtwv",
    "outputId": "be3baf04-5433-4102-aba1-3ae20b691134",
    "papermill": {
     "duration": 161.285146,
     "end_time": "2022-09-06T05:57:52.622558",
     "exception": false,
     "start_time": "2022-09-06T05:55:11.337412",
     "status": "completed"
    },
    "tags": []
   },
   "outputs": [
    {
     "name": "stdout",
     "output_type": "stream",
     "text": [
      "0.9781809506699611\n",
      "{'n_epochs': 10, 'lr_all': 0.001, 'reg_all': 0.2}\n"
     ]
    }
   ],
   "source": [
    "# set the parameter space to tune\n",
    "param_grid = {'n_epochs': [10, 20, 30], 'lr_all': [0.001, 0.005, 0.01],\n",
    "              'reg_all': [0.2, 0.4, 0.6]}\n",
    "\n",
    "# performing 3-fold gridsearch cross validation\n",
    "gs = GridSearchCV(KNNBasic, param_grid, measures=['rmse', 'mae'], cv=3, n_jobs=-1)\n",
    "\n",
    "# fitting data\n",
    "gs.fit(data)\n",
    "\n",
    "# best RMSE score\n",
    "print(gs.best_score['rmse'])\n",
    "\n",
    "# combination of parameters that gave the best RMSE score\n",
    "print(gs.best_params['rmse'])"
   ]
  },
  {
   "cell_type": "markdown",
   "id": "f9989851",
   "metadata": {
    "id": "cjIaWSIAnVNN",
    "papermill": {
     "duration": 0.038849,
     "end_time": "2022-09-06T05:57:52.703752",
     "exception": false,
     "start_time": "2022-09-06T05:57:52.664903",
     "status": "completed"
    },
    "tags": []
   },
   "source": [
    "Once the grid search is complete, we can get the optimal values for each of those hyperparameters as shown above"
   ]
  },
  {
   "cell_type": "markdown",
   "id": "ce28672f",
   "metadata": {
    "id": "2CfLdGf0nVNN",
    "papermill": {
     "duration": 0.038925,
     "end_time": "2022-09-06T05:57:52.781718",
     "exception": false,
     "start_time": "2022-09-06T05:57:52.742793",
     "status": "completed"
    },
    "tags": []
   },
   "source": [
    "Below we are analysing evaluation metrics - RMSE and MAE at each and every split to analyze the impact of each value of hyperparameters"
   ]
  },
  {
   "cell_type": "code",
   "execution_count": 51,
   "id": "af939df7",
   "metadata": {
    "execution": {
     "iopub.execute_input": "2022-09-06T05:57:52.862134Z",
     "iopub.status.busy": "2022-09-06T05:57:52.861721Z",
     "iopub.status.idle": "2022-09-06T05:57:52.890014Z",
     "shell.execute_reply": "2022-09-06T05:57:52.888883Z"
    },
    "id": "RMb3t3z_vt8W",
    "outputId": "e9ad1c9d-bb4f-4cc3-8b0b-07e87d38a7cb",
    "papermill": {
     "duration": 0.071388,
     "end_time": "2022-09-06T05:57:52.892583",
     "exception": false,
     "start_time": "2022-09-06T05:57:52.821195",
     "status": "completed"
    },
    "tags": []
   },
   "outputs": [
    {
     "data": {
      "text/html": [
       "<div>\n",
       "<style scoped>\n",
       "    .dataframe tbody tr th:only-of-type {\n",
       "        vertical-align: middle;\n",
       "    }\n",
       "\n",
       "    .dataframe tbody tr th {\n",
       "        vertical-align: top;\n",
       "    }\n",
       "\n",
       "    .dataframe thead th {\n",
       "        text-align: right;\n",
       "    }\n",
       "</style>\n",
       "<table border=\"1\" class=\"dataframe\">\n",
       "  <thead>\n",
       "    <tr style=\"text-align: right;\">\n",
       "      <th></th>\n",
       "      <th>split0_test_rmse</th>\n",
       "      <th>split1_test_rmse</th>\n",
       "      <th>split2_test_rmse</th>\n",
       "      <th>mean_test_rmse</th>\n",
       "      <th>std_test_rmse</th>\n",
       "      <th>rank_test_rmse</th>\n",
       "      <th>split0_test_mae</th>\n",
       "      <th>split1_test_mae</th>\n",
       "      <th>split2_test_mae</th>\n",
       "      <th>mean_test_mae</th>\n",
       "      <th>std_test_mae</th>\n",
       "      <th>rank_test_mae</th>\n",
       "      <th>mean_fit_time</th>\n",
       "      <th>std_fit_time</th>\n",
       "      <th>mean_test_time</th>\n",
       "      <th>std_test_time</th>\n",
       "      <th>params</th>\n",
       "      <th>param_n_epochs</th>\n",
       "      <th>param_lr_all</th>\n",
       "      <th>param_reg_all</th>\n",
       "    </tr>\n",
       "  </thead>\n",
       "  <tbody>\n",
       "    <tr>\n",
       "      <th>0</th>\n",
       "      <td>0.982187</td>\n",
       "      <td>0.976137</td>\n",
       "      <td>0.976218</td>\n",
       "      <td>0.978181</td>\n",
       "      <td>0.002833</td>\n",
       "      <td>1</td>\n",
       "      <td>0.756957</td>\n",
       "      <td>0.750608</td>\n",
       "      <td>0.749882</td>\n",
       "      <td>0.752482</td>\n",
       "      <td>0.003178</td>\n",
       "      <td>1</td>\n",
       "      <td>0.129390</td>\n",
       "      <td>0.027512</td>\n",
       "      <td>2.233009</td>\n",
       "      <td>0.113264</td>\n",
       "      <td>{'n_epochs': 10, 'lr_all': 0.001, 'reg_all': 0.2}</td>\n",
       "      <td>10</td>\n",
       "      <td>0.001</td>\n",
       "      <td>0.2</td>\n",
       "    </tr>\n",
       "    <tr>\n",
       "      <th>1</th>\n",
       "      <td>0.982187</td>\n",
       "      <td>0.976137</td>\n",
       "      <td>0.976218</td>\n",
       "      <td>0.978181</td>\n",
       "      <td>0.002833</td>\n",
       "      <td>25</td>\n",
       "      <td>0.756957</td>\n",
       "      <td>0.750608</td>\n",
       "      <td>0.749882</td>\n",
       "      <td>0.752482</td>\n",
       "      <td>0.003178</td>\n",
       "      <td>25</td>\n",
       "      <td>0.149034</td>\n",
       "      <td>0.004047</td>\n",
       "      <td>2.459848</td>\n",
       "      <td>0.067368</td>\n",
       "      <td>{'n_epochs': 10, 'lr_all': 0.001, 'reg_all': 0.4}</td>\n",
       "      <td>10</td>\n",
       "      <td>0.001</td>\n",
       "      <td>0.4</td>\n",
       "    </tr>\n",
       "    <tr>\n",
       "      <th>2</th>\n",
       "      <td>0.982187</td>\n",
       "      <td>0.976137</td>\n",
       "      <td>0.976218</td>\n",
       "      <td>0.978181</td>\n",
       "      <td>0.002833</td>\n",
       "      <td>24</td>\n",
       "      <td>0.756957</td>\n",
       "      <td>0.750608</td>\n",
       "      <td>0.749882</td>\n",
       "      <td>0.752482</td>\n",
       "      <td>0.003178</td>\n",
       "      <td>24</td>\n",
       "      <td>0.151412</td>\n",
       "      <td>0.002671</td>\n",
       "      <td>2.325417</td>\n",
       "      <td>0.028766</td>\n",
       "      <td>{'n_epochs': 10, 'lr_all': 0.001, 'reg_all': 0.6}</td>\n",
       "      <td>10</td>\n",
       "      <td>0.001</td>\n",
       "      <td>0.6</td>\n",
       "    </tr>\n",
       "    <tr>\n",
       "      <th>3</th>\n",
       "      <td>0.982187</td>\n",
       "      <td>0.976137</td>\n",
       "      <td>0.976218</td>\n",
       "      <td>0.978181</td>\n",
       "      <td>0.002833</td>\n",
       "      <td>23</td>\n",
       "      <td>0.756957</td>\n",
       "      <td>0.750608</td>\n",
       "      <td>0.749882</td>\n",
       "      <td>0.752482</td>\n",
       "      <td>0.003178</td>\n",
       "      <td>23</td>\n",
       "      <td>0.143490</td>\n",
       "      <td>0.007012</td>\n",
       "      <td>2.287353</td>\n",
       "      <td>0.061556</td>\n",
       "      <td>{'n_epochs': 10, 'lr_all': 0.005, 'reg_all': 0.2}</td>\n",
       "      <td>10</td>\n",
       "      <td>0.005</td>\n",
       "      <td>0.2</td>\n",
       "    </tr>\n",
       "    <tr>\n",
       "      <th>4</th>\n",
       "      <td>0.982187</td>\n",
       "      <td>0.976137</td>\n",
       "      <td>0.976218</td>\n",
       "      <td>0.978181</td>\n",
       "      <td>0.002833</td>\n",
       "      <td>22</td>\n",
       "      <td>0.756957</td>\n",
       "      <td>0.750608</td>\n",
       "      <td>0.749882</td>\n",
       "      <td>0.752482</td>\n",
       "      <td>0.003178</td>\n",
       "      <td>22</td>\n",
       "      <td>0.148107</td>\n",
       "      <td>0.003019</td>\n",
       "      <td>2.390133</td>\n",
       "      <td>0.124640</td>\n",
       "      <td>{'n_epochs': 10, 'lr_all': 0.005, 'reg_all': 0.4}</td>\n",
       "      <td>10</td>\n",
       "      <td>0.005</td>\n",
       "      <td>0.4</td>\n",
       "    </tr>\n",
       "  </tbody>\n",
       "</table>\n",
       "</div>"
      ],
      "text/plain": [
       "   split0_test_rmse  split1_test_rmse  split2_test_rmse  mean_test_rmse  \\\n",
       "0          0.982187          0.976137          0.976218        0.978181   \n",
       "1          0.982187          0.976137          0.976218        0.978181   \n",
       "2          0.982187          0.976137          0.976218        0.978181   \n",
       "3          0.982187          0.976137          0.976218        0.978181   \n",
       "4          0.982187          0.976137          0.976218        0.978181   \n",
       "\n",
       "   std_test_rmse  rank_test_rmse  split0_test_mae  split1_test_mae  \\\n",
       "0       0.002833               1         0.756957         0.750608   \n",
       "1       0.002833              25         0.756957         0.750608   \n",
       "2       0.002833              24         0.756957         0.750608   \n",
       "3       0.002833              23         0.756957         0.750608   \n",
       "4       0.002833              22         0.756957         0.750608   \n",
       "\n",
       "   split2_test_mae  mean_test_mae  std_test_mae  rank_test_mae  mean_fit_time  \\\n",
       "0         0.749882       0.752482      0.003178              1       0.129390   \n",
       "1         0.749882       0.752482      0.003178             25       0.149034   \n",
       "2         0.749882       0.752482      0.003178             24       0.151412   \n",
       "3         0.749882       0.752482      0.003178             23       0.143490   \n",
       "4         0.749882       0.752482      0.003178             22       0.148107   \n",
       "\n",
       "   std_fit_time  mean_test_time  std_test_time  \\\n",
       "0      0.027512        2.233009       0.113264   \n",
       "1      0.004047        2.459848       0.067368   \n",
       "2      0.002671        2.325417       0.028766   \n",
       "3      0.007012        2.287353       0.061556   \n",
       "4      0.003019        2.390133       0.124640   \n",
       "\n",
       "                                              params  param_n_epochs  \\\n",
       "0  {'n_epochs': 10, 'lr_all': 0.001, 'reg_all': 0.2}              10   \n",
       "1  {'n_epochs': 10, 'lr_all': 0.001, 'reg_all': 0.4}              10   \n",
       "2  {'n_epochs': 10, 'lr_all': 0.001, 'reg_all': 0.6}              10   \n",
       "3  {'n_epochs': 10, 'lr_all': 0.005, 'reg_all': 0.2}              10   \n",
       "4  {'n_epochs': 10, 'lr_all': 0.005, 'reg_all': 0.4}              10   \n",
       "\n",
       "   param_lr_all  param_reg_all  \n",
       "0         0.001            0.2  \n",
       "1         0.001            0.4  \n",
       "2         0.001            0.6  \n",
       "3         0.005            0.2  \n",
       "4         0.005            0.4  "
      ]
     },
     "execution_count": 51,
     "metadata": {},
     "output_type": "execute_result"
    }
   ],
   "source": [
    "results_df = pd.DataFrame.from_dict(gs.cv_results)\n",
    "results_df.head()"
   ]
  },
  {
   "cell_type": "markdown",
   "id": "45d81ac9",
   "metadata": {
    "id": "KzY78HsrnVNO",
    "papermill": {
     "duration": 0.039417,
     "end_time": "2022-09-06T05:57:52.972287",
     "exception": false,
     "start_time": "2022-09-06T05:57:52.932870",
     "status": "completed"
    },
    "tags": []
   },
   "source": [
    "Now we will building final model by using tuned values of the hyperparameters which we received by using grid search cross validation"
   ]
  },
  {
   "cell_type": "code",
   "execution_count": 52,
   "id": "0348e546",
   "metadata": {
    "execution": {
     "iopub.execute_input": "2022-09-06T05:57:53.054872Z",
     "iopub.status.busy": "2022-09-06T05:57:53.054093Z",
     "iopub.status.idle": "2022-09-06T05:58:01.751249Z",
     "shell.execute_reply": "2022-09-06T05:58:01.749905Z"
    },
    "id": "TA_7xe-nnhuu",
    "outputId": "00748b6f-569b-4a1b-9b87-f4134790fe9d",
    "papermill": {
     "duration": 8.74195,
     "end_time": "2022-09-06T05:58:01.754571",
     "exception": false,
     "start_time": "2022-09-06T05:57:53.012621",
     "status": "completed"
    },
    "tags": []
   },
   "outputs": [
    {
     "name": "stdout",
     "output_type": "stream",
     "text": [
      "RMSE: 0.8954\n"
     ]
    },
    {
     "data": {
      "text/plain": [
       "0.895364254557069"
      ]
     },
     "execution_count": 52,
     "metadata": {},
     "output_type": "execute_result"
    }
   ],
   "source": [
    "# building the optimized SVD model using optimal hyperparameter search\n",
    "svd_algo_optimized = SVD(n_epochs=30, lr_all=0.01, reg_all=0.2)\n",
    "\n",
    "# training the algorithm on the trainset\n",
    "svd_algo_optimized.fit(trainset)\n",
    "\n",
    "# predicting ratings for the testset\n",
    "predictions = svd_algo_optimized.test(testset)\n",
    "\n",
    "# computing RMSE\n",
    "accuracy.rmse(predictions)"
   ]
  },
  {
   "cell_type": "markdown",
   "id": "6a8198d5",
   "metadata": {
    "id": "UruWuDiCwIDE",
    "papermill": {
     "duration": 0.040694,
     "end_time": "2022-09-06T05:58:01.836197",
     "exception": false,
     "start_time": "2022-09-06T05:58:01.795503",
     "status": "completed"
    },
    "tags": []
   },
   "source": [
    "#### What is the Predicted rating for an user with userId =4 and for movieId= 10 and movieId=3 using SVD based collaborative filtering? "
   ]
  },
  {
   "cell_type": "markdown",
   "id": "ea6f9dce",
   "metadata": {
    "id": "md0-dL56nVNO",
    "papermill": {
     "duration": 0.043927,
     "end_time": "2022-09-06T05:58:01.924129",
     "exception": false,
     "start_time": "2022-09-06T05:58:01.880202",
     "status": "completed"
    },
    "tags": []
   },
   "source": [
    "**Let's us now predict rating for an user with `userId=4` and for `movieId=10` with the optimized model**"
   ]
  },
  {
   "cell_type": "code",
   "execution_count": 53,
   "id": "5eea70a2",
   "metadata": {
    "execution": {
     "iopub.execute_input": "2022-09-06T05:58:02.007862Z",
     "iopub.status.busy": "2022-09-06T05:58:02.007415Z",
     "iopub.status.idle": "2022-09-06T05:58:02.015759Z",
     "shell.execute_reply": "2022-09-06T05:58:02.014366Z"
    },
    "id": "s6C1PAfboM8_",
    "outputId": "01e0fe3f-6804-408e-f5da-92ff3e13190a",
    "papermill": {
     "duration": 0.05326,
     "end_time": "2022-09-06T05:58:02.018173",
     "exception": false,
     "start_time": "2022-09-06T05:58:01.964913",
     "status": "completed"
    },
    "tags": []
   },
   "outputs": [
    {
     "name": "stdout",
     "output_type": "stream",
     "text": [
      "user: 4          item: 10         r_ui = 4.00   est = 3.99   {'was_impossible': False}\n"
     ]
    },
    {
     "data": {
      "text/plain": [
       "Prediction(uid=4, iid=10, r_ui=4, est=3.9870994860295226, details={'was_impossible': False})"
      ]
     },
     "execution_count": 53,
     "metadata": {},
     "output_type": "execute_result"
    }
   ],
   "source": [
    "svd_algo_optimized.predict(4, 10, r_ui=4, verbose=True)"
   ]
  },
  {
   "cell_type": "markdown",
   "id": "24f22c70",
   "metadata": {
    "id": "VdiEtzEznVNO",
    "papermill": {
     "duration": 0.041262,
     "end_time": "2022-09-06T05:58:02.100811",
     "exception": false,
     "start_time": "2022-09-06T05:58:02.059549",
     "status": "completed"
    },
    "tags": []
   },
   "source": [
    "**Write your Answer here: Now, the prediction is 3.992 instead if 4.01, which improve the result slighty**"
   ]
  },
  {
   "cell_type": "code",
   "execution_count": 54,
   "id": "c545c879",
   "metadata": {
    "execution": {
     "iopub.execute_input": "2022-09-06T05:58:02.185378Z",
     "iopub.status.busy": "2022-09-06T05:58:02.184042Z",
     "iopub.status.idle": "2022-09-06T05:58:02.192069Z",
     "shell.execute_reply": "2022-09-06T05:58:02.190794Z"
    },
    "id": "k1xjn3kOoQyg",
    "outputId": "7d7c725b-f2ea-48d5-c6b5-a4596fdcdaed",
    "papermill": {
     "duration": 0.052365,
     "end_time": "2022-09-06T05:58:02.194367",
     "exception": false,
     "start_time": "2022-09-06T05:58:02.142002",
     "status": "completed"
    },
    "tags": []
   },
   "outputs": [
    {
     "name": "stdout",
     "output_type": "stream",
     "text": [
      "user: 4          item: 3          r_ui = None   est = 3.65   {'was_impossible': False}\n"
     ]
    },
    {
     "data": {
      "text/plain": [
       "Prediction(uid=4, iid=3, r_ui=None, est=3.6450196534051473, details={'was_impossible': False})"
      ]
     },
     "execution_count": 54,
     "metadata": {},
     "output_type": "execute_result"
    }
   ],
   "source": [
    "svd_algo_optimized.predict(4, 3, verbose=True)"
   ]
  },
  {
   "cell_type": "markdown",
   "id": "d8672fb3",
   "metadata": {
    "id": "5jlUBrbFwIDH",
    "papermill": {
     "duration": 0.040385,
     "end_time": "2022-09-06T05:58:02.276464",
     "exception": false,
     "start_time": "2022-09-06T05:58:02.236079",
     "status": "completed"
    },
    "tags": []
   },
   "source": [
    "#### Predict the top 5 movies for userId=4 with SVD based recommendation system "
   ]
  },
  {
   "cell_type": "code",
   "execution_count": 55,
   "id": "f6157930",
   "metadata": {
    "execution": {
     "iopub.execute_input": "2022-09-06T05:58:02.360968Z",
     "iopub.status.busy": "2022-09-06T05:58:02.360513Z",
     "iopub.status.idle": "2022-09-06T05:58:02.493347Z",
     "shell.execute_reply": "2022-09-06T05:58:02.491941Z"
    },
    "id": "1LGeE2EB_n90",
    "outputId": "646d8a1e-c728-48c4-a39a-01bf12b64aea",
    "papermill": {
     "duration": 0.1777,
     "end_time": "2022-09-06T05:58:02.496392",
     "exception": false,
     "start_time": "2022-09-06T05:58:02.318692",
     "status": "completed"
    },
    "tags": []
   },
   "outputs": [
    {
     "data": {
      "text/plain": [
       "[(116, 4.985150343802478),\n",
       " (1192, 4.96145807797944),\n",
       " (3310, 4.954067402071563),\n",
       " (926, 4.944156628483809),\n",
       " (1948, 4.923481927642502)]"
      ]
     },
     "execution_count": 55,
     "metadata": {},
     "output_type": "execute_result"
    }
   ],
   "source": [
    "get_recommendations(rating, 4, 5, svd_algo_optimized)"
   ]
  },
  {
   "cell_type": "markdown",
   "id": "d74a67c1",
   "metadata": {
    "id": "xgKmqss1vqGz",
    "papermill": {
     "duration": 0.041592,
     "end_time": "2022-09-06T05:58:02.580573",
     "exception": false,
     "start_time": "2022-09-06T05:58:02.538981",
     "status": "completed"
    },
    "tags": []
   },
   "source": [
    "### Predicting ratings for already interacted movies"
   ]
  },
  {
   "cell_type": "markdown",
   "id": "de3a6c85",
   "metadata": {
    "id": "nNlUEB13wIDJ",
    "papermill": {
     "duration": 0.040447,
     "end_time": "2022-09-06T05:58:02.662186",
     "exception": false,
     "start_time": "2022-09-06T05:58:02.621739",
     "status": "completed"
    },
    "tags": []
   },
   "source": [
    "Below we are comparing the rating predictions of users for those movies which has been already watched by an user. This will help us to understand how well are predictions are as compared to the actual ratings provided by users"
   ]
  },
  {
   "cell_type": "code",
   "execution_count": 56,
   "id": "a4cbab0f",
   "metadata": {
    "execution": {
     "iopub.execute_input": "2022-09-06T05:58:02.745814Z",
     "iopub.status.busy": "2022-09-06T05:58:02.744566Z",
     "iopub.status.idle": "2022-09-06T05:58:02.754226Z",
     "shell.execute_reply": "2022-09-06T05:58:02.753025Z"
    },
    "id": "hQIPHA7-vg7W",
    "papermill": {
     "duration": 0.054411,
     "end_time": "2022-09-06T05:58:02.757035",
     "exception": false,
     "start_time": "2022-09-06T05:58:02.702624",
     "status": "completed"
    },
    "tags": []
   },
   "outputs": [],
   "source": [
    "def predict_already_interacted_ratings(data, user_id, algo):\n",
    "    \n",
    "    # creating an empty list to store the recommended movie ids\n",
    "    recommendations = []\n",
    "    \n",
    "    # creating an user item interactions matrix \n",
    "    user_item_interactions_matrix = data.pivot(index='userId', columns='movieId', values='rating')\n",
    "    \n",
    "    # extracting those movie ids which the user_id has interacted already\n",
    "    interacted_movies = user_item_interactions_matrix.loc[user_id][user_item_interactions_matrix.loc[user_id].notnull()].index.tolist()\n",
    "    \n",
    "    # looping through each of the movie id which user_id has interacted already\n",
    "    for item_id in interacted_movies:\n",
    "        \n",
    "        # extracting actual ratings\n",
    "        actual_rating = user_item_interactions_matrix.loc[user_id, item_id]\n",
    "        \n",
    "        # predicting the ratings for those non interacted movie ids by this user\n",
    "        predicted_rating = algo.predict(user_id, item_id).est\n",
    "        \n",
    "        # appending the predicted ratings\n",
    "        recommendations.append((item_id, actual_rating, predicted_rating))\n",
    "\n",
    "    # sorting the predicted ratings in descending order\n",
    "    recommendations.sort(key=lambda x: x[1], reverse=True)\n",
    "\n",
    "    return pd.DataFrame(recommendations, columns=['movieId', 'actual_rating', 'predicted_rating']) # returing top n highest predicted rating movies for this user"
   ]
  },
  {
   "cell_type": "markdown",
   "id": "0e850e48",
   "metadata": {
    "id": "5T0q833lwIDK",
    "papermill": {
     "duration": 0.04052,
     "end_time": "2022-09-06T05:58:02.838872",
     "exception": false,
     "start_time": "2022-09-06T05:58:02.798352",
     "status": "completed"
    },
    "tags": []
   },
   "source": [
    "Here we are comparing the predicted ratings by `similarity based recommendation` system against actual ratings for `userId=7`"
   ]
  },
  {
   "cell_type": "code",
   "execution_count": 57,
   "id": "c95ed919",
   "metadata": {
    "execution": {
     "iopub.execute_input": "2022-09-06T05:58:02.923599Z",
     "iopub.status.busy": "2022-09-06T05:58:02.923187Z",
     "iopub.status.idle": "2022-09-06T05:58:03.609491Z",
     "shell.execute_reply": "2022-09-06T05:58:03.608362Z"
    },
    "id": "IWQvGj-vyWj3",
    "outputId": "2100a4a5-2c22-4226-a102-35373b44150b",
    "papermill": {
     "duration": 0.732435,
     "end_time": "2022-09-06T05:58:03.611879",
     "exception": false,
     "start_time": "2022-09-06T05:58:02.879444",
     "status": "completed"
    },
    "tags": []
   },
   "outputs": [
    {
     "data": {
      "image/png": "[encoded data removed]",
      "text/plain": [
       "<Figure size 478.125x360 with 1 Axes>"
      ]
     },
     "metadata": {
      "needs_background": "light"
     },
     "output_type": "display_data"
    }
   ],
   "source": [
    "predicted_ratings_for_interacted_movies = predict_already_interacted_ratings(rating, 7, similarity_algo_optimized_item)\n",
    "df = predicted_ratings_for_interacted_movies.melt(id_vars='movieId', value_vars=['actual_rating', 'predicted_rating'])\n",
    "sns.displot(data=df, x='value', hue='variable', kde=True);"
   ]
  },
  {
   "cell_type": "markdown",
   "id": "898115d5",
   "metadata": {
    "id": "Yt9XGhb4wIDM",
    "papermill": {
     "duration": 0.041478,
     "end_time": "2022-09-06T05:58:03.694439",
     "exception": false,
     "start_time": "2022-09-06T05:58:03.652961",
     "status": "completed"
    },
    "tags": []
   },
   "source": [
    "- We can see that distribution of predicted ratings is closely following the distribution of actual ratings. The total bins for predicted ratings is higher as compared to total bins for actual ratings.\n",
    "- This is expected, as actual ratings always have discreet values like 1, 2, 3, 4, 5, but predicted ratings can have continuous values as we are taking aggregated ratings from the nearest neighbors of a given user. But over the predictions looks good as compared to the distribution of actual ratings."
   ]
  },
  {
   "cell_type": "markdown",
   "id": "a038dcc1",
   "metadata": {
    "id": "jfNXSEw9wIDM",
    "papermill": {
     "duration": 0.040656,
     "end_time": "2022-09-06T05:58:03.775713",
     "exception": false,
     "start_time": "2022-09-06T05:58:03.735057",
     "status": "completed"
    },
    "tags": []
   },
   "source": [
    "Below we are comparing the predicted ratings by `matrix factorization based recommendation` system against actual ratings for `userId=7`"
   ]
  },
  {
   "cell_type": "code",
   "execution_count": 58,
   "id": "5bccfb2c",
   "metadata": {
    "execution": {
     "iopub.execute_input": "2022-09-06T05:58:03.859646Z",
     "iopub.status.busy": "2022-09-06T05:58:03.858760Z",
     "iopub.status.idle": "2022-09-06T05:58:04.512426Z",
     "shell.execute_reply": "2022-09-06T05:58:04.511172Z"
    },
    "id": "6lYjMDhU0xuQ",
    "outputId": "83e9046e-c107-4c7e-8199-cf939256cc0a",
    "papermill": {
     "duration": 0.69851,
     "end_time": "2022-09-06T05:58:04.515238",
     "exception": false,
     "start_time": "2022-09-06T05:58:03.816728",
     "status": "completed"
    },
    "tags": []
   },
   "outputs": [
    {
     "data": {
      "image/png": "[encoded data removed]",
      "text/plain": [
       "<Figure size 478.125x360 with 1 Axes>"
      ]
     },
     "metadata": {
      "needs_background": "light"
     },
     "output_type": "display_data"
    }
   ],
   "source": [
    "predicted_ratings_for_interacted_movies = predict_already_interacted_ratings(rating, 7, svd_algo_optimized)\n",
    "df = predicted_ratings_for_interacted_movies.melt(id_vars='movieId', value_vars=['actual_rating', 'predicted_rating'])\n",
    "sns.displot(data=df, x='value', hue='variable', kde=True);"
   ]
  },
  {
   "cell_type": "code",
   "execution_count": 59,
   "id": "fb725962",
   "metadata": {
    "execution": {
     "iopub.execute_input": "2022-09-06T05:58:04.600458Z",
     "iopub.status.busy": "2022-09-06T05:58:04.599412Z",
     "iopub.status.idle": "2022-09-06T05:58:05.048528Z",
     "shell.execute_reply": "2022-09-06T05:58:05.047044Z"
    },
    "id": "aT0zASb-wIDO",
    "papermill": {
     "duration": 0.494506,
     "end_time": "2022-09-06T05:58:05.051434",
     "exception": false,
     "start_time": "2022-09-06T05:58:04.556928",
     "status": "completed"
    },
    "tags": []
   },
   "outputs": [],
   "source": [
    "# instantiating Reader scale with expected rating scale\n",
    "reader = Reader(rating_scale=(0, 5))\n",
    "\n",
    "# loading the rating dataset\n",
    "data = Dataset.load_from_df(rating[['userId', 'movieId', 'rating']], reader)\n",
    "\n",
    "# splitting the data into train and test dataset\n",
    "trainset, testset = train_test_split(data, test_size=0.2, random_state=42)"
   ]
  },
  {
   "cell_type": "markdown",
   "id": "d75844af",
   "metadata": {
    "id": "kGbfBUnawIDO",
    "papermill": {
     "duration": 0.041795,
     "end_time": "2022-09-06T05:58:05.134522",
     "exception": false,
     "start_time": "2022-09-06T05:58:05.092727",
     "status": "completed"
    },
    "tags": []
   },
   "source": [
    "## Precision and Recall @ k\n",
    "\n",
    "RMSE is not the only metric we can use here. We can also examine two fundamental measures, precision and recall. We also add a parameter k which is helpful in understanding problems with multiple rating outputs.\n",
    "\n",
    "See the Precision and Recall @ k section of your notebook and follow the instructions to compute various precision/recall values at various values of k.\n",
    "\n",
    "To know more about precision recall in Recommendation systems refer to these links : \n",
    "\n",
    "https://surprise.readthedocs.io/en/stable/FAQ.html\n",
    "\n",
    "https://medium.com/@m_n_malaeb/recall-and-precision-at-k-for-recommender-systems-618483226c54"
   ]
  },
  {
   "cell_type": "markdown",
   "id": "430536cb",
   "metadata": {
    "id": "b_norGWOwIDP",
    "papermill": {
     "duration": 0.040615,
     "end_time": "2022-09-06T05:58:05.216919",
     "exception": false,
     "start_time": "2022-09-06T05:58:05.176304",
     "status": "completed"
    },
    "tags": []
   },
   "source": [
    "### Compute the precision and recall, for each of the 4 models, at k = 5 and 10. This is 2 x 2 x 4 = 16 numerical values. Do you note anything interesting about these values? "
   ]
  },
  {
   "cell_type": "code",
   "execution_count": 60,
   "id": "cd64478d",
   "metadata": {
    "execution": {
     "iopub.execute_input": "2022-09-06T05:58:05.302010Z",
     "iopub.status.busy": "2022-09-06T05:58:05.301539Z",
     "iopub.status.idle": "2022-09-06T05:58:05.312821Z",
     "shell.execute_reply": "2022-09-06T05:58:05.311557Z"
    },
    "id": "gihoUY5uwIDQ",
    "outputId": "251b01a9-bf2f-4ea3-fec5-b72cead88fd9",
    "papermill": {
     "duration": 0.056967,
     "end_time": "2022-09-06T05:58:05.315178",
     "exception": false,
     "start_time": "2022-09-06T05:58:05.258211",
     "status": "completed"
    },
    "tags": []
   },
   "outputs": [],
   "source": [
    "#function can be found on surprise documentation FAQs\n",
    "def precision_recall_at_k(predictions, k=10, threshold=3.5):\n",
    "    \"\"\"Return precision and recall at k metrics for each user\"\"\"\n",
    "\n",
    "    # First map the predictions to each user.\n",
    "    user_est_true = defaultdict(list)\n",
    "    for uid, _, true_r, est, _ in predictions:\n",
    "        user_est_true[uid].append((est, true_r))\n",
    "\n",
    "    precisions = dict()\n",
    "    recalls = dict()\n",
    "    for uid, user_ratings in user_est_true.items():\n",
    "\n",
    "        # Sort user ratings by estimated value\n",
    "        user_ratings.sort(key=lambda x: x[0], reverse=True)\n",
    "\n",
    "        # Number of relevant items\n",
    "        n_rel = sum((true_r >= threshold) for (_, true_r) in user_ratings)\n",
    "\n",
    "        # Number of recommended items in top k\n",
    "        n_rec_k = sum((est >= threshold) for (est, _) in user_ratings[:k])\n",
    "\n",
    "        # Number of relevant and recommended items in top k\n",
    "        n_rel_and_rec_k = sum(((true_r >= threshold) and (est >= threshold))\n",
    "                              for (est, true_r) in user_ratings[:k])\n",
    "\n",
    "        # Precision@K: Proportion of recommended items that are relevant\n",
    "        # When n_rec_k is 0, Precision is undefined. We here set it to 0.\n",
    "\n",
    "        precisions[uid] = n_rel_and_rec_k / n_rec_k if n_rec_k != 0 else 0\n",
    "\n",
    "        # Recall@K: Proportion of relevant items that are recommended\n",
    "        # When n_rel is 0, Recall is undefined. We here set it to 0.\n",
    "\n",
    "        recalls[uid] = n_rel_and_rec_k / n_rel if n_rel != 0 else 0\n",
    "\n",
    "    return precisions, recalls\n",
    "\n"
   ]
  },
  {
   "cell_type": "code",
   "execution_count": 61,
   "id": "92caf9e2",
   "metadata": {
    "execution": {
     "iopub.execute_input": "2022-09-06T05:58:05.402621Z",
     "iopub.status.busy": "2022-09-06T05:58:05.401534Z",
     "iopub.status.idle": "2022-09-06T06:08:33.027288Z",
     "shell.execute_reply": "2022-09-06T06:08:33.025700Z"
    },
    "papermill": {
     "duration": 627.711157,
     "end_time": "2022-09-06T06:08:33.068837",
     "exception": false,
     "start_time": "2022-09-06T05:58:05.357680",
     "status": "completed"
    },
    "tags": []
   },
   "outputs": [
    {
     "name": "stdout",
     "output_type": "stream",
     "text": [
      "> k=5, model=KNNBasic\n",
      "-----> Precision:  0.771\n",
      "-----> Recall:  0.412\n",
      "> k=5, model=KNNBasic\n",
      "-----> Precision:  0.773\n",
      "-----> Recall:  0.419\n",
      "> k=5, model=KNNBasic\n",
      "-----> Precision:  0.61\n",
      "-----> Recall:  0.325\n",
      "> k=5, model=KNNBasic\n",
      "-----> Precision:  0.682\n",
      "-----> Recall:  0.357\n",
      "> k=5, model=SVD\n",
      "-----> Precision:  0.751\n",
      "-----> Recall:  0.383\n",
      "> k=5, model=SVD\n",
      "Computing the msd similarity matrix...\n",
      "Done computing similarity matrix.\n",
      "Computing the pearson similarity matrix...\n",
      "Done computing similarity matrix.\n",
      "Computing the msd similarity matrix...\n",
      "Done computing similarity matrix.\n",
      "Computing the cosine similarity matrix...\n",
      "Done computing similarity matrix.\n",
      "Computing the msd similarity matrix...\n",
      "Done computing similarity matrix.\n",
      "Computing the cosine similarity matrix...\n",
      "Done computing similarity matrix.\n",
      "Computing the pearson similarity matrix...\n",
      "Done computing similarity matrix.\n",
      "Computing the cosine similarity matrix...\n",
      "Done computing similarity matrix.\n",
      "Computing the pearson similarity matrix...\n",
      "Done computing similarity matrix.\n",
      "Computing the msd similarity matrix...\n",
      "Done computing similarity matrix.\n",
      "Computing the pearson similarity matrix...\n",
      "Done computing similarity matrix.\n",
      "Computing the msd similarity matrix...\n",
      "Done computing similarity matrix.\n",
      "Computing the cosine similarity matrix...\n",
      "Done computing similarity matrix.\n",
      "Computing the msd similarity matrix...\n",
      "Done computing similarity matrix.\n",
      "Computing the cosine similarity matrix...\n",
      "Done computing similarity matrix.\n",
      "Computing the pearson similarity matrix...\n",
      "Done computing similarity matrix.\n",
      "Computing the cosine similarity matrix...\n",
      "Done computing similarity matrix.\n",
      "Computing the pearson similarity matrix...\n",
      "Done computing similarity matrix.\n",
      "Computing the msd similarity matrix...\n",
      "Done computing similarity matrix.\n",
      "Computing the pearson similarity matrix...\n",
      "Done computing similarity matrix.\n",
      "Computing the msd similarity matrix...\n",
      "Done computing similarity matrix.\n",
      "Computing the cosine similarity matrix...\n",
      "Done computing similarity matrix.\n",
      "Computing the cosine similarity matrix...\n",
      "Done computing similarity matrix.\n",
      "Computing the msd similarity matrix...\n",
      "Done computing similarity matrix.\n",
      "Computing the msd similarity matrix...\n",
      "Done computing similarity matrix.\n",
      "Computing the msd similarity matrix...\n",
      "Done computing similarity matrix.\n",
      "Computing the msd similarity matrix...\n",
      "Done computing similarity matrix.\n",
      "Computing the msd similarity matrix...\n",
      "Done computing similarity matrix.\n",
      "Computing the msd similarity matrix...\n",
      "Done computing similarity matrix.\n",
      "Computing the msd similarity matrix...\n",
      "Done computing similarity matrix.\n",
      "Computing the msd similarity matrix...\n",
      "Done computing similarity matrix.\n",
      "Computing the msd similarity matrix...\n",
      "Done computing similarity matrix.\n",
      "Computing the msd similarity matrix...\n",
      "Done computing similarity matrix.\n",
      "Computing the msd similarity matrix...\n",
      "Done computing similarity matrix.\n",
      "Computing the msd similarity matrix...\n",
      "Done computing similarity matrix.\n",
      "Computing the msd similarity matrix...\n",
      "Done computing similarity matrix.\n",
      "Computing the msd similarity matrix...\n",
      "Done computing similarity matrix.\n",
      "Computing the msd similarity matrix...\n",
      "Done computing similarity matrix.\n",
      "Computing the msd similarity matrix...\n",
      "Done computing similarity matrix.\n",
      "Computing the msd similarity matrix...\n",
      "Done computing similarity matrix.\n",
      "Computing the msd similarity matrix...\n",
      "Done computing similarity matrix.\n",
      "Computing the msd similarity matrix...\n",
      "Done computing similarity matrix.\n",
      "Computing the msd similarity matrix...\n",
      "Done computing similarity matrix.\n",
      "Computing the msd similarity matrix...\n",
      "Done computing similarity matrix.\n",
      "Computing the cosine similarity matrix...\n",
      "Done computing similarity matrix.\n",
      "Computing the msd similarity matrix...\n",
      "Done computing similarity matrix.\n",
      "Computing the cosine similarity matrix...\n",
      "Done computing similarity matrix.\n",
      "Computing the pearson similarity matrix...\n",
      "Done computing similarity matrix.\n",
      "Computing the cosine similarity matrix...\n",
      "Done computing similarity matrix.\n",
      "Computing the pearson similarity matrix...\n",
      "Done computing similarity matrix.\n",
      "Computing the msd similarity matrix...\n",
      "Done computing similarity matrix.\n",
      "Computing the pearson similarity matrix...\n",
      "Done computing similarity matrix.\n",
      "Computing the msd similarity matrix...\n",
      "Done computing similarity matrix.\n",
      "Computing the cosine similarity matrix...\n",
      "Done computing similarity matrix.\n",
      "Computing the msd similarity matrix...\n",
      "Done computing similarity matrix.\n",
      "Computing the cosine similarity matrix...\n",
      "Done computing similarity matrix.\n",
      "Computing the pearson similarity matrix...\n",
      "Done computing similarity matrix.\n",
      "Computing the cosine similarity matrix...\n",
      "Done computing similarity matrix.\n",
      "Computing the pearson similarity matrix...\n",
      "Done computing similarity matrix.\n",
      "Computing the msd similarity matrix...\n",
      "Done computing similarity matrix.\n",
      "Computing the pearson similarity matrix...\n",
      "Done computing similarity matrix.\n",
      "Computing the msd similarity matrix...\n",
      "Done computing similarity matrix.\n",
      "Computing the cosine similarity matrix...\n",
      "Done computing similarity matrix.\n",
      "Computing the msd similarity matrix...\n",
      "Done computing similarity matrix.\n",
      "Computing the cosine similarity matrix...\n",
      "Done computing similarity matrix.\n",
      "Computing the cosine similarity matrix...\n",
      "Done computing similarity matrix.\n",
      "Computing the msd similarity matrix...\n",
      "Done computing similarity matrix.\n",
      "Computing the msd similarity matrix...\n",
      "Done computing similarity matrix.\n",
      "Computing the msd similarity matrix...\n",
      "Done computing similarity matrix.\n",
      "Computing the msd similarity matrix...\n",
      "Done computing similarity matrix.\n",
      "Computing the msd similarity matrix...\n",
      "Done computing similarity matrix.\n",
      "Computing the msd similarity matrix...\n",
      "Done computing similarity matrix.\n",
      "Computing the msd similarity matrix...\n",
      "Done computing similarity matrix.\n",
      "Computing the msd similarity matrix...\n",
      "Done computing similarity matrix.\n",
      "Computing the msd similarity matrix...\n",
      "Done computing similarity matrix.\n",
      "Computing the msd similarity matrix...\n",
      "Done computing similarity matrix.\n",
      "Computing the msd similarity matrix...\n",
      "Done computing similarity matrix.\n",
      "Computing the msd similarity matrix...\n",
      "Done computing similarity matrix.\n",
      "Computing the msd similarity matrix...\n",
      "Done computing similarity matrix.\n",
      "Computing the msd similarity matrix...\n",
      "Done computing similarity matrix.\n",
      "Computing the msd similarity matrix...\n",
      "Done computing similarity matrix.\n",
      "Computing the msd similarity matrix...\n",
      "Done computing similarity matrix.\n",
      "Computing the msd similarity matrix...\n",
      "Done computing similarity matrix.\n",
      "Computing the msd similarity matrix...\n",
      "Done computing similarity matrix.\n",
      "Computing the msd similarity matrix...\n",
      "Done computing similarity matrix.\n",
      "Computing the msd similarity matrix...\n",
      "Done computing similarity matrix.\n",
      "Computing the msd similarity matrix...\n",
      "Done computing similarity matrix.\n",
      "Computing the cosine similarity matrix...\n",
      "Done computing similarity matrix.\n",
      "Computing the pearson similarity matrix...\n",
      "Done computing similarity matrix.\n",
      "Computing the cosine similarity matrix...\n",
      "Done computing similarity matrix.\n",
      "Computing the pearson similarity matrix...\n",
      "Done computing similarity matrix.\n",
      "Computing the msd similarity matrix...\n",
      "Done computing similarity matrix.\n",
      "Computing the pearson similarity matrix...\n",
      "Done computing similarity matrix.\n",
      "Computing the msd similarity matrix...\n",
      "Done computing similarity matrix.\n",
      "Computing the cosine similarity matrix...\n",
      "Done computing similarity matrix.\n",
      "Computing the msd similarity matrix...\n",
      "Done computing similarity matrix.\n",
      "Computing the cosine similarity matrix...\n",
      "Done computing similarity matrix.\n",
      "Computing the pearson similarity matrix...\n",
      "Done computing similarity matrix.\n",
      "Computing the cosine similarity matrix...\n",
      "Done computing similarity matrix.\n",
      "Computing the pearson similarity matrix...\n",
      "Done computing similarity matrix.\n",
      "Computing the msd similarity matrix...\n",
      "Done computing similarity matrix.\n",
      "Computing the pearson similarity matrix...\n",
      "Done computing similarity matrix.\n",
      "Computing the msd similarity matrix...\n",
      "Done computing similarity matrix.\n",
      "Computing the cosine similarity matrix...\n",
      "Done computing similarity matrix.\n",
      "Computing the msd similarity matrix...\n",
      "Done computing similarity matrix.\n",
      "Computing the cosine similarity matrix...\n",
      "Done computing similarity matrix.\n",
      "Computing the pearson similarity matrix...\n",
      "Done computing similarity matrix.\n",
      "Computing the cosine similarity matrix...\n",
      "Done computing similarity matrix.\n",
      "Computing the msd similarity matrix...\n",
      "Done computing similarity matrix.\n",
      "Computing the cosine similarity matrix...\n",
      "Done computing similarity matrix.\n",
      "Computing the msd similarity matrix...\n",
      "Done computing similarity matrix.\n",
      "Computing the msd similarity matrix...\n",
      "Done computing similarity matrix.\n",
      "Computing the msd similarity matrix...\n",
      "Done computing similarity matrix.\n",
      "Computing the msd similarity matrix...\n",
      "Done computing similarity matrix.\n",
      "Computing the msd similarity matrix...\n",
      "Done computing similarity matrix.\n",
      "Computing the msd similarity matrix...\n",
      "Done computing similarity matrix.\n",
      "Computing the msd similarity matrix...\n",
      "Done computing similarity matrix.\n",
      "Computing the msd similarity matrix...\n",
      "Done computing similarity matrix.\n",
      "Computing the msd similarity matrix...\n",
      "Done computing similarity matrix.\n",
      "Computing the msd similarity matrix...\n",
      "Done computing similarity matrix.\n",
      "Computing the msd similarity matrix...\n",
      "Done computing similarity matrix.\n",
      "Computing the msd similarity matrix...\n",
      "Done computing similarity matrix.\n",
      "Computing the msd similarity matrix...\n",
      "Done computing similarity matrix.\n",
      "Computing the msd similarity matrix...\n",
      "Done computing similarity matrix.\n",
      "Computing the msd similarity matrix...\n",
      "Done computing similarity matrix.\n",
      "Computing the msd similarity matrix...\n",
      "Done computing similarity matrix.\n",
      "Computing the msd similarity matrix...\n",
      "Done computing similarity matrix.\n",
      "Computing the msd similarity matrix...\n",
      "Done computing similarity matrix.\n",
      "Computing the msd similarity matrix...\n",
      "Done computing similarity matrix.\n",
      "Computing the msd similarity matrix...\n",
      "Done computing similarity matrix.\n",
      "Computing the cosine similarity matrix...\n",
      "Done computing similarity matrix.\n",
      "Computing the pearson similarity matrix...\n",
      "Done computing similarity matrix.\n",
      "Computing the msd similarity matrix...\n",
      "Done computing similarity matrix.\n",
      "Computing the pearson similarity matrix...\n",
      "Done computing similarity matrix.\n",
      "Computing the msd similarity matrix...\n",
      "Done computing similarity matrix.\n",
      "Computing the cosine similarity matrix...\n",
      "Done computing similarity matrix.\n",
      "Computing the msd similarity matrix...\n",
      "Done computing similarity matrix.\n",
      "Computing the cosine similarity matrix...\n",
      "Done computing similarity matrix.\n",
      "Computing the pearson similarity matrix...\n",
      "Done computing similarity matrix.\n",
      "Computing the cosine similarity matrix...\n",
      "Done computing similarity matrix.\n",
      "Computing the pearson similarity matrix...\n",
      "Done computing similarity matrix.\n",
      "Computing the msd similarity matrix...\n",
      "Done computing similarity matrix.\n",
      "Computing the pearson similarity matrix...\n",
      "Done computing similarity matrix.\n",
      "Computing the msd similarity matrix...\n",
      "Done computing similarity matrix.\n",
      "Computing the cosine similarity matrix...\n",
      "Done computing similarity matrix.\n",
      "Computing the msd similarity matrix...\n",
      "Done computing similarity matrix.\n",
      "Computing the cosine similarity matrix...\n",
      "Done computing similarity matrix.\n",
      "Computing the pearson similarity matrix...\n",
      "Done computing similarity matrix.\n",
      "Computing the cosine similarity matrix...\n",
      "Done computing similarity matrix.\n",
      "Computing the pearson similarity matrix...\n",
      "Done computing similarity matrix.\n",
      "Computing the msd similarity matrix...\n",
      "Done computing similarity matrix.\n",
      "Computing the msd similarity matrix...\n",
      "Done computing similarity matrix.\n",
      "Computing the msd similarity matrix...\n",
      "Done computing similarity matrix.\n",
      "Computing the msd similarity matrix...\n",
      "Done computing similarity matrix.\n",
      "Computing the msd similarity matrix...\n",
      "Done computing similarity matrix.\n",
      "Computing the msd similarity matrix...\n",
      "Done computing similarity matrix.\n",
      "Computing the msd similarity matrix...\n",
      "Done computing similarity matrix.\n",
      "Computing the msd similarity matrix...\n",
      "Done computing similarity matrix.\n",
      "Computing the msd similarity matrix...\n",
      "Done computing similarity matrix.\n",
      "Computing the msd similarity matrix...\n",
      "Done computing similarity matrix.\n",
      "Computing the msd similarity matrix...\n",
      "Done computing similarity matrix.\n",
      "Computing the msd similarity matrix...\n",
      "Done computing similarity matrix.\n",
      "Computing the msd similarity matrix...\n",
      "Done computing similarity matrix.\n",
      "Computing the msd similarity matrix...\n",
      "Done computing similarity matrix.\n",
      "Computing the msd similarity matrix...\n",
      "Done computing similarity matrix.\n",
      "Computing the msd similarity matrix...\n",
      "Done computing similarity matrix.\n",
      "Computing the msd similarity matrix...\n",
      "Done computing similarity matrix.\n",
      "Computing the msd similarity matrix...\n",
      "Done computing similarity matrix.\n",
      "Computing the msd similarity matrix...\n",
      "Done computing similarity matrix.\n",
      "Computing the msd similarity matrix...\n",
      "Done computing similarity matrix.\n",
      "Computing the msd similarity matrix...\n",
      "Done computing similarity matrix.\n",
      "Computing the msd similarity matrix...\n",
      "Done computing similarity matrix.\n",
      "Computing the msd similarity matrix...\n",
      "Done computing similarity matrix.\n",
      "Computing the msd similarity matrix...\n",
      "Done computing similarity matrix.\n",
      "-----> Precision:  0.748\n",
      "-----> Recall:  0.385\n",
      "> k=10, model=KNNBasic\n",
      "-----> Precision:  0.746\n",
      "-----> Recall:  0.55\n",
      "> k=10, model=KNNBasic\n",
      "-----> Precision:  0.756\n",
      "-----> Recall:  0.56\n",
      "> k=10, model=KNNBasic\n",
      "-----> Precision:  0.595\n",
      "-----> Recall:  0.477\n",
      "> k=10, model=KNNBasic\n",
      "-----> Precision:  0.661\n",
      "-----> Recall:  0.503\n",
      "> k=10, model=SVD\n",
      "-----> Precision:  0.733\n",
      "-----> Recall:  0.518\n",
      "> k=10, model=SVD\n",
      "-----> Precision:  0.731\n",
      "-----> Recall:  0.523\n"
     ]
    }
   ],
   "source": [
    "#A basic cross-validation iterator.\n",
    "kf = KFold(n_splits=5)\n",
    "\n",
    "# Make list of k values\n",
    "K = [5, 10]\n",
    "\n",
    "#remove _______ and complete the code\n",
    "# Make list of models\n",
    "models = [algo_knn_user, similarity_algo_optimized_user,algo_knn_item,similarity_algo_optimized_item, algo_svd, svd_algo_optimized]\n",
    "\n",
    "for k in K:\n",
    "    for model in models:\n",
    "        print('> k={}, model={}'.format(k,model.__class__.__name__))\n",
    "        p = []\n",
    "        r = []\n",
    "        for trainset, testset in kf.split(data):\n",
    "            model.fit(trainset)\n",
    "            predictions = model.test(testset, verbose=False)\n",
    "            precisions, recalls = precision_recall_at_k(predictions, k=k, threshold=3.5)\n",
    "\n",
    "            # Precision and recall can then be averaged over all users\n",
    "            p.append(sum(prec for prec in precisions.values()) / len(precisions))\n",
    "            r.append(sum(rec for rec in recalls.values()) / len(recalls))\n",
    "        \n",
    "        print('-----> Precision: ', round(sum(p) / len(p), 3))\n",
    "        print('-----> Recall: ', round(sum(r) / len(r), 3))"
   ]
  },
  {
   "cell_type": "markdown",
   "id": "9dbee25f",
   "metadata": {
    "id": "h_6zpwwfwIDR",
    "papermill": {
     "duration": 0.043663,
     "end_time": "2022-09-06T06:08:33.156733",
     "exception": false,
     "start_time": "2022-09-06T06:08:33.113070",
     "status": "completed"
    },
    "tags": []
   },
   "source": [
    "### Question 7 \n",
    "#### Compare the results from the base line user-user and item-item based models.\n",
    "#### How do these baseline models compare to each other with respect to the tuned user-user and item-item models?\n",
    "#### The matrix factorization model is different from the collaborative filtering models. Briefly describe this difference. Also, compare the RMSE and precision recall for the models.\n",
    "#### Does it improve? Can you offer any reasoning as to why that might be?"
   ]
  },
  {
   "cell_type": "markdown",
   "id": "b99bde9a",
   "metadata": {
    "id": "2W0MdIZ1wIDS",
    "papermill": {
     "duration": 0.043319,
     "end_time": "2022-09-06T06:08:33.243304",
     "exception": false,
     "start_time": "2022-09-06T06:08:33.199985",
     "status": "completed"
    },
    "tags": []
   },
   "source": [
    "Write your Answer here:\n",
    "- User-User base line model and item-item based model has decent precision but but has very low recall value espiacially for k=5, The recall does increase when k=10 but the precision seem to dip a bit. After tuning the user-user model, the result does not improve much but the item-item model does seem to improve quite a bit on both precision and recall. \n",
    "\n",
    "- In term of RMSE, the tuned model is has a much better RMSE value. Both item and user based model has improved their prediction value and RMSE after tuned. \n",
    "\n",
    "- collaborative filtering models is find the missing value through comparing similarity based on other user and item. While matrix decompose user-item matrix into 2 catageries of lower matrix. This also show that the RMSE for matrix factorization is better than collaborative filtering model in this case \n",
    "\n",
    "- Tuned matrix model does not improve the result a lot. This is due to the nature of low dimension decomposition limit the change in the model\n"
   ]
  },
  {
   "cell_type": "markdown",
   "id": "22045341",
   "metadata": {
    "id": "TgDOPCXOvOOM",
    "papermill": {
     "duration": 0.042719,
     "end_time": "2022-09-06T06:08:33.328961",
     "exception": false,
     "start_time": "2022-09-06T06:08:33.286242",
     "status": "completed"
    },
    "tags": []
   },
   "source": [
    "### Conclusions"
   ]
  },
  {
   "cell_type": "markdown",
   "id": "3c4856f8",
   "metadata": {
    "id": "WJ4L2PwQvOOM",
    "papermill": {
     "duration": 0.042591,
     "end_time": "2022-09-06T06:08:33.414768",
     "exception": false,
     "start_time": "2022-09-06T06:08:33.372177",
     "status": "completed"
    },
    "tags": []
   },
   "source": [
    "In this case study, we saw three different ways of building recommendation systems: \n",
    "- rank-based using averages\n",
    "- similarity-based collaborative filtering\n",
    "- model-based (matrix factorization) collaborative filtering"
   ]
  },
  {
   "cell_type": "markdown",
   "id": "b5d93db8",
   "metadata": {
    "id": "4XP9B9bVvOOM",
    "papermill": {
     "duration": 0.043373,
     "end_time": "2022-09-06T06:08:33.500843",
     "exception": false,
     "start_time": "2022-09-06T06:08:33.457470",
     "status": "completed"
    },
    "tags": []
   },
   "source": [
    "We also understood advantages/disadvantages of these recommendation systems and when to use which kind of recommendation systems. Once we build these recommendation systems, we can use **A/B Testing** to measure the effectiveness of these systems."
   ]
  },
  {
   "cell_type": "markdown",
   "id": "03065d91",
   "metadata": {
    "id": "fAQfeVYLvOOM",
    "papermill": {
     "duration": 0.043466,
     "end_time": "2022-09-06T06:08:33.587961",
     "exception": false,
     "start_time": "2022-09-06T06:08:33.544495",
     "status": "completed"
    },
    "tags": []
   },
   "source": [
    "Here is an article explaining how [Amazon use **A/B Testing**](https://aws.amazon.com/blogs/machine-learning/using-a-b-testing-to-measure-the-efficacy-of-recommendations-generated-by-amazon-personalize/) to measure effectiveness of its recommendation systems."
   ]
  }
 ],
 "metadata": {
  "kernelspec": {
   "display_name": "Python 3",
   "language": "python",
   "name": "python3"
  },
  "language_info": {
   "codemirror_mode": {
    "name": "ipython",
    "version": 3
   },
   "file_extension": ".py",
   "mimetype": "text/x-python",
   "name": "python",
   "nbconvert_exporter": "python",
   "pygments_lexer": "ipython3",
   "version": "3.7.12"
  },
  "papermill": {
   "default_parameters": {},
   "duration": 1163.630596,
   "end_time": "2022-09-06T06:08:36.355922",
   "environment_variables": {},
   "exception": null,
   "input_path": "__notebook__.ipynb",
   "output_path": "__notebook__.ipynb",
   "parameters": {},
   "start_time": "2022-09-06T05:49:12.725326",
   "version": "2.3.4"
  }
 },
 "nbformat": 4,
 "nbformat_minor": 5
}
